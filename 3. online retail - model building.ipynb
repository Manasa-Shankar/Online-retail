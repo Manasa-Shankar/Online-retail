{
 "cells": [
  {
   "cell_type": "code",
   "execution_count": 1,
   "id": "0949148b",
   "metadata": {},
   "outputs": [],
   "source": [
    "import pandas as pd\n",
    "import numpy as np\n",
    "import matplotlib.pyplot as plt\n",
    "import seaborn as sns\n",
    "import scipy.stats as stats\n",
    "import warnings\n",
    "warnings.filterwarnings('ignore')\n",
    "from sklearn.preprocessing import RobustScaler,StandardScaler,MinMaxScaler\n",
    "from sklearn.cluster import KMeans\n",
    "from sklearn.metrics import silhouette_score,calinski_harabasz_score\n",
    "import scipy.cluster.hierarchy as sch\n",
    "from sklearn.cluster import AgglomerativeClustering\n",
    "from sklearn.model_selection import RandomizedSearchCV,GridSearchCV\n",
    "from sklearn.cluster import DBSCAN\n",
    "from sklearn.neighbors import NearestNeighbors"
   ]
  },
  {
   "cell_type": "code",
   "execution_count": 2,
   "id": "0c32b1aa",
   "metadata": {},
   "outputs": [],
   "source": [
    "data=pd.read_csv('rfm')"
   ]
  },
  {
   "cell_type": "code",
   "execution_count": 3,
   "id": "9a973f0c",
   "metadata": {},
   "outputs": [],
   "source": [
    "data.drop(columns='Unnamed: 0',axis=1,inplace=True)"
   ]
  },
  {
   "cell_type": "code",
   "execution_count": 4,
   "id": "5ebec4b5",
   "metadata": {},
   "outputs": [
    {
     "data": {
      "text/html": [
       "<div>\n",
       "<style scoped>\n",
       "    .dataframe tbody tr th:only-of-type {\n",
       "        vertical-align: middle;\n",
       "    }\n",
       "\n",
       "    .dataframe tbody tr th {\n",
       "        vertical-align: top;\n",
       "    }\n",
       "\n",
       "    .dataframe thead th {\n",
       "        text-align: right;\n",
       "    }\n",
       "</style>\n",
       "<table border=\"1\" class=\"dataframe\">\n",
       "  <thead>\n",
       "    <tr style=\"text-align: right;\">\n",
       "      <th></th>\n",
       "      <th>CustomerID</th>\n",
       "      <th>Monetary</th>\n",
       "      <th>Frequency</th>\n",
       "      <th>Recency</th>\n",
       "      <th>Monetary_score</th>\n",
       "      <th>Frequency_score</th>\n",
       "      <th>Recency_score</th>\n",
       "      <th>rfm_score</th>\n",
       "      <th>Status</th>\n",
       "    </tr>\n",
       "  </thead>\n",
       "  <tbody>\n",
       "    <tr>\n",
       "      <th>0</th>\n",
       "      <td>12346.0</td>\n",
       "      <td>77183.60</td>\n",
       "      <td>1</td>\n",
       "      <td>325</td>\n",
       "      <td>5</td>\n",
       "      <td>1</td>\n",
       "      <td>1</td>\n",
       "      <td>115</td>\n",
       "      <td>Cannot Lose Them</td>\n",
       "    </tr>\n",
       "    <tr>\n",
       "      <th>1</th>\n",
       "      <td>12347.0</td>\n",
       "      <td>4310.00</td>\n",
       "      <td>182</td>\n",
       "      <td>1</td>\n",
       "      <td>5</td>\n",
       "      <td>5</td>\n",
       "      <td>5</td>\n",
       "      <td>555</td>\n",
       "      <td>Champions</td>\n",
       "    </tr>\n",
       "    <tr>\n",
       "      <th>2</th>\n",
       "      <td>12348.0</td>\n",
       "      <td>1797.24</td>\n",
       "      <td>31</td>\n",
       "      <td>74</td>\n",
       "      <td>4</td>\n",
       "      <td>3</td>\n",
       "      <td>2</td>\n",
       "      <td>234</td>\n",
       "      <td>At Risk</td>\n",
       "    </tr>\n",
       "    <tr>\n",
       "      <th>3</th>\n",
       "      <td>12349.0</td>\n",
       "      <td>1757.55</td>\n",
       "      <td>73</td>\n",
       "      <td>18</td>\n",
       "      <td>4</td>\n",
       "      <td>4</td>\n",
       "      <td>4</td>\n",
       "      <td>444</td>\n",
       "      <td>Loyal</td>\n",
       "    </tr>\n",
       "    <tr>\n",
       "      <th>4</th>\n",
       "      <td>12350.0</td>\n",
       "      <td>334.40</td>\n",
       "      <td>17</td>\n",
       "      <td>309</td>\n",
       "      <td>2</td>\n",
       "      <td>2</td>\n",
       "      <td>1</td>\n",
       "      <td>122</td>\n",
       "      <td>Hibernating customers</td>\n",
       "    </tr>\n",
       "    <tr>\n",
       "      <th>...</th>\n",
       "      <td>...</td>\n",
       "      <td>...</td>\n",
       "      <td>...</td>\n",
       "      <td>...</td>\n",
       "      <td>...</td>\n",
       "      <td>...</td>\n",
       "      <td>...</td>\n",
       "      <td>...</td>\n",
       "      <td>...</td>\n",
       "    </tr>\n",
       "    <tr>\n",
       "      <th>4333</th>\n",
       "      <td>18280.0</td>\n",
       "      <td>180.60</td>\n",
       "      <td>10</td>\n",
       "      <td>277</td>\n",
       "      <td>1</td>\n",
       "      <td>1</td>\n",
       "      <td>1</td>\n",
       "      <td>111</td>\n",
       "      <td>Lost customers</td>\n",
       "    </tr>\n",
       "    <tr>\n",
       "      <th>4334</th>\n",
       "      <td>18281.0</td>\n",
       "      <td>80.82</td>\n",
       "      <td>7</td>\n",
       "      <td>180</td>\n",
       "      <td>1</td>\n",
       "      <td>1</td>\n",
       "      <td>1</td>\n",
       "      <td>111</td>\n",
       "      <td>Lost customers</td>\n",
       "    </tr>\n",
       "    <tr>\n",
       "      <th>4335</th>\n",
       "      <td>18282.0</td>\n",
       "      <td>178.05</td>\n",
       "      <td>12</td>\n",
       "      <td>7</td>\n",
       "      <td>1</td>\n",
       "      <td>1</td>\n",
       "      <td>5</td>\n",
       "      <td>511</td>\n",
       "      <td>New Customers</td>\n",
       "    </tr>\n",
       "    <tr>\n",
       "      <th>4336</th>\n",
       "      <td>18283.0</td>\n",
       "      <td>2094.88</td>\n",
       "      <td>756</td>\n",
       "      <td>3</td>\n",
       "      <td>5</td>\n",
       "      <td>5</td>\n",
       "      <td>5</td>\n",
       "      <td>555</td>\n",
       "      <td>Champions</td>\n",
       "    </tr>\n",
       "    <tr>\n",
       "      <th>4337</th>\n",
       "      <td>18287.0</td>\n",
       "      <td>1837.28</td>\n",
       "      <td>70</td>\n",
       "      <td>42</td>\n",
       "      <td>4</td>\n",
       "      <td>4</td>\n",
       "      <td>3</td>\n",
       "      <td>344</td>\n",
       "      <td>Loyal</td>\n",
       "    </tr>\n",
       "  </tbody>\n",
       "</table>\n",
       "<p>4338 rows × 9 columns</p>\n",
       "</div>"
      ],
      "text/plain": [
       "      CustomerID  Monetary  Frequency  Recency  Monetary_score  \\\n",
       "0        12346.0  77183.60          1      325               5   \n",
       "1        12347.0   4310.00        182        1               5   \n",
       "2        12348.0   1797.24         31       74               4   \n",
       "3        12349.0   1757.55         73       18               4   \n",
       "4        12350.0    334.40         17      309               2   \n",
       "...          ...       ...        ...      ...             ...   \n",
       "4333     18280.0    180.60         10      277               1   \n",
       "4334     18281.0     80.82          7      180               1   \n",
       "4335     18282.0    178.05         12        7               1   \n",
       "4336     18283.0   2094.88        756        3               5   \n",
       "4337     18287.0   1837.28         70       42               4   \n",
       "\n",
       "      Frequency_score  Recency_score  rfm_score                 Status  \n",
       "0                   1              1        115       Cannot Lose Them  \n",
       "1                   5              5        555              Champions  \n",
       "2                   3              2        234                At Risk  \n",
       "3                   4              4        444                  Loyal  \n",
       "4                   2              1        122  Hibernating customers  \n",
       "...               ...            ...        ...                    ...  \n",
       "4333                1              1        111         Lost customers  \n",
       "4334                1              1        111         Lost customers  \n",
       "4335                1              5        511          New Customers  \n",
       "4336                5              5        555              Champions  \n",
       "4337                4              3        344                  Loyal  \n",
       "\n",
       "[4338 rows x 9 columns]"
      ]
     },
     "execution_count": 4,
     "metadata": {},
     "output_type": "execute_result"
    }
   ],
   "source": [
    "data"
   ]
  },
  {
   "cell_type": "code",
   "execution_count": 5,
   "id": "f37cda21",
   "metadata": {},
   "outputs": [
    {
     "data": {
      "text/plain": [
       "<AxesSubplot:>"
      ]
     },
     "execution_count": 5,
     "metadata": {},
     "output_type": "execute_result"
    },
    {
     "data": {
      "image/png": "[encoded data removed]",
      "text/plain": [
       "<Figure size 432x288 with 1 Axes>"
      ]
     },
     "metadata": {
      "needs_background": "light"
     },
     "output_type": "display_data"
    }
   ],
   "source": [
    "sns.boxplot(data=data[['Monetary','Frequency','Recency']])"
   ]
  },
  {
   "cell_type": "code",
   "execution_count": 6,
   "id": "f639ab12",
   "metadata": {},
   "outputs": [
    {
     "data": {
      "text/plain": [
       "<AxesSubplot:>"
      ]
     },
     "execution_count": 6,
     "metadata": {},
     "output_type": "execute_result"
    },
    {
     "data": {
      "image/png": "[encoded data removed]",
      "text/plain": [
       "<Figure size 432x288 with 1 Axes>"
      ]
     },
     "metadata": {
      "needs_background": "light"
     },
     "output_type": "display_data"
    }
   ],
   "source": [
    "sns.boxplot(data=[np.log(data['Monetary']),np.log(data['Frequency']),np.log(data['Recency']+1)])"
   ]
  },
  {
   "cell_type": "code",
   "execution_count": 7,
   "id": "84347fa0",
   "metadata": {},
   "outputs": [
    {
     "data": {
      "image/png": "[encoded data removed]",
      "text/plain": [
       "<Figure size 432x288 with 1 Axes>"
      ]
     },
     "metadata": {
      "needs_background": "light"
     },
     "output_type": "display_data"
    }
   ],
   "source": [
    "sns.distplot(np.log(data['Monetary']))\n",
    "sns.distplot(np.log(data['Frequency']))\n",
    "sns.distplot(np.log(data['Recency']+1))\n",
    "plt.show()"
   ]
  },
  {
   "cell_type": "markdown",
   "id": "4fd66af1",
   "metadata": {},
   "source": [
    "**Let's try modelling in multiple ways:**\n",
    "1. remove outliers and treat with k means\n",
    "2. use mechanism like dbscan or hierarchical clustering with may be log normalized data or with the original data"
   ]
  },
  {
   "cell_type": "markdown",
   "id": "7d40f02a",
   "metadata": {},
   "source": [
    "# K means"
   ]
  },
  {
   "cell_type": "code",
   "execution_count": 8,
   "id": "4e720984",
   "metadata": {},
   "outputs": [],
   "source": [
    "data_out_rem=data[['CustomerID','Recency','Frequency','Monetary']]"
   ]
  },
  {
   "cell_type": "code",
   "execution_count": 9,
   "id": "87b9adb4",
   "metadata": {},
   "outputs": [],
   "source": [
    "for a in data_out_rem.drop('CustomerID',axis=1).columns:\n",
    "    q1=data_out_rem[a].quantile(0.05)\n",
    "    q3=data_out_rem[a].quantile(0.95)\n",
    "    iqr=q3-q1\n",
    "    data_out_rem=data_out_rem[(data_out_rem[a]>q1-1.5*iqr) & (data_out_rem[a]<q3+1.5*iqr)]"
   ]
  },
  {
   "cell_type": "code",
   "execution_count": 10,
   "id": "d7f3af6a",
   "metadata": {},
   "outputs": [
    {
     "data": {
      "text/html": [
       "<div>\n",
       "<style scoped>\n",
       "    .dataframe tbody tr th:only-of-type {\n",
       "        vertical-align: middle;\n",
       "    }\n",
       "\n",
       "    .dataframe tbody tr th {\n",
       "        vertical-align: top;\n",
       "    }\n",
       "\n",
       "    .dataframe thead th {\n",
       "        text-align: right;\n",
       "    }\n",
       "</style>\n",
       "<table border=\"1\" class=\"dataframe\">\n",
       "  <thead>\n",
       "    <tr style=\"text-align: right;\">\n",
       "      <th></th>\n",
       "      <th>CustomerID</th>\n",
       "      <th>Recency</th>\n",
       "      <th>Frequency</th>\n",
       "      <th>Monetary</th>\n",
       "    </tr>\n",
       "  </thead>\n",
       "  <tbody>\n",
       "    <tr>\n",
       "      <th>1</th>\n",
       "      <td>12347.0</td>\n",
       "      <td>1</td>\n",
       "      <td>182</td>\n",
       "      <td>4310.00</td>\n",
       "    </tr>\n",
       "    <tr>\n",
       "      <th>2</th>\n",
       "      <td>12348.0</td>\n",
       "      <td>74</td>\n",
       "      <td>31</td>\n",
       "      <td>1797.24</td>\n",
       "    </tr>\n",
       "    <tr>\n",
       "      <th>3</th>\n",
       "      <td>12349.0</td>\n",
       "      <td>18</td>\n",
       "      <td>73</td>\n",
       "      <td>1757.55</td>\n",
       "    </tr>\n",
       "    <tr>\n",
       "      <th>4</th>\n",
       "      <td>12350.0</td>\n",
       "      <td>309</td>\n",
       "      <td>17</td>\n",
       "      <td>334.40</td>\n",
       "    </tr>\n",
       "    <tr>\n",
       "      <th>5</th>\n",
       "      <td>12352.0</td>\n",
       "      <td>35</td>\n",
       "      <td>85</td>\n",
       "      <td>2506.04</td>\n",
       "    </tr>\n",
       "    <tr>\n",
       "      <th>...</th>\n",
       "      <td>...</td>\n",
       "      <td>...</td>\n",
       "      <td>...</td>\n",
       "      <td>...</td>\n",
       "    </tr>\n",
       "    <tr>\n",
       "      <th>4333</th>\n",
       "      <td>18280.0</td>\n",
       "      <td>277</td>\n",
       "      <td>10</td>\n",
       "      <td>180.60</td>\n",
       "    </tr>\n",
       "    <tr>\n",
       "      <th>4334</th>\n",
       "      <td>18281.0</td>\n",
       "      <td>180</td>\n",
       "      <td>7</td>\n",
       "      <td>80.82</td>\n",
       "    </tr>\n",
       "    <tr>\n",
       "      <th>4335</th>\n",
       "      <td>18282.0</td>\n",
       "      <td>7</td>\n",
       "      <td>12</td>\n",
       "      <td>178.05</td>\n",
       "    </tr>\n",
       "    <tr>\n",
       "      <th>4336</th>\n",
       "      <td>18283.0</td>\n",
       "      <td>3</td>\n",
       "      <td>756</td>\n",
       "      <td>2094.88</td>\n",
       "    </tr>\n",
       "    <tr>\n",
       "      <th>4337</th>\n",
       "      <td>18287.0</td>\n",
       "      <td>42</td>\n",
       "      <td>70</td>\n",
       "      <td>1837.28</td>\n",
       "    </tr>\n",
       "  </tbody>\n",
       "</table>\n",
       "<p>4255 rows × 4 columns</p>\n",
       "</div>"
      ],
      "text/plain": [
       "      CustomerID  Recency  Frequency  Monetary\n",
       "1        12347.0        1        182   4310.00\n",
       "2        12348.0       74         31   1797.24\n",
       "3        12349.0       18         73   1757.55\n",
       "4        12350.0      309         17    334.40\n",
       "5        12352.0       35         85   2506.04\n",
       "...          ...      ...        ...       ...\n",
       "4333     18280.0      277         10    180.60\n",
       "4334     18281.0      180          7     80.82\n",
       "4335     18282.0        7         12    178.05\n",
       "4336     18283.0        3        756   2094.88\n",
       "4337     18287.0       42         70   1837.28\n",
       "\n",
       "[4255 rows x 4 columns]"
      ]
     },
     "execution_count": 10,
     "metadata": {},
     "output_type": "execute_result"
    }
   ],
   "source": [
    "data_out_rem"
   ]
  },
  {
   "cell_type": "code",
   "execution_count": 11,
   "id": "edc8610f",
   "metadata": {},
   "outputs": [
    {
     "data": {
      "text/plain": [
       "<AxesSubplot:xlabel='Monetary', ylabel='Density'>"
      ]
     },
     "execution_count": 11,
     "metadata": {},
     "output_type": "execute_result"
    },
    {
     "data": {
      "image/png": "[encoded data removed]",
      "text/plain": [
       "<Figure size 432x288 with 1 Axes>"
      ]
     },
     "metadata": {
      "needs_background": "light"
     },
     "output_type": "display_data"
    }
   ],
   "source": [
    "sns.distplot(data_out_rem['Recency'])\n",
    "sns.distplot(data_out_rem['Frequency'])\n",
    "sns.distplot(data_out_rem['Monetary'])"
   ]
  },
  {
   "cell_type": "markdown",
   "id": "d92d1ff0",
   "metadata": {},
   "source": [
    "**Scaling the data using robust,min max and standard scaler**"
   ]
  },
  {
   "cell_type": "code",
   "execution_count": 12,
   "id": "933f7216",
   "metadata": {},
   "outputs": [
    {
     "data": {
      "text/plain": [
       "<Figure size 864x720 with 0 Axes>"
      ]
     },
     "metadata": {},
     "output_type": "display_data"
    }
   ],
   "source": [
    "plt.figure(figsize=(12,10))\n",
    "\n",
    "def km_analyse(data):\n",
    "    l=[]\n",
    "    sil=[]\n",
    "    cal=[]\n",
    "    for i in range(1,13):\n",
    "        km=KMeans(n_clusters=i)\n",
    "        km.fit(data)\n",
    "        l.append(km.inertia_)\n",
    "        if i>1:\n",
    "            cluster_label=km.labels_\n",
    "            sil.append(silhouette_score(data,cluster_label))\n",
    "            cal.append(calinski_harabasz_score(data,cluster_label))\n",
    "        \n",
    "    print('Error list: ',l)\n",
    "    plt.plot(range(1,13),l)\n",
    "    sil_data=pd.DataFrame()\n",
    "    sil_data['Cluster']=range(2,13)\n",
    "    sil_data['Silhouette_score']=sil\n",
    "    print('Silhouette_score:\\n',sil_data)\n",
    "    print('Calinski Harabasz score:\\n',pd.DataFrame({'Cluster': range(2,13),'CH score':cal}))\n",
    "\n",
    "def km_model_eval(n,data):\n",
    "    km=KMeans(n_clusters=n)\n",
    "    km.fit(data)\n",
    "    print('Cluster Labels:\\n',km.labels_)\n",
    "    return km.labels_"
   ]
  },
  {
   "cell_type": "markdown",
   "id": "7ec84ff9",
   "metadata": {},
   "source": [
    "Standard Scaler"
   ]
  },
  {
   "cell_type": "code",
   "execution_count": 13,
   "id": "538975f9",
   "metadata": {},
   "outputs": [],
   "source": [
    "sc=StandardScaler()\n",
    "data_out_rem_std=pd.DataFrame(sc.fit_transform(data_out_rem[['Recency','Frequency','Monetary']]))"
   ]
  },
  {
   "cell_type": "code",
   "execution_count": 14,
   "id": "03abf14f",
   "metadata": {},
   "outputs": [
    {
     "name": "stdout",
     "output_type": "stream",
     "text": [
      "Error list:  [12764.999999999982, 7619.977670395139, 4427.871816487319, 3372.454735635572, 2804.4730234192784, 2405.6906958175746, 2052.6646939742177, 1828.1783950389304, 1652.8131016245252, 1482.3972871631222, 1361.7019079677716, 1282.1880479851347]\n",
      "Silhouette_score:\n",
      "     Cluster  Silhouette_score\n",
      "0         2          0.541113\n",
      "1         3          0.508220\n",
      "2         4          0.479688\n",
      "3         5          0.466779\n",
      "4         6          0.416246\n",
      "5         7          0.414076\n",
      "6         8          0.408885\n",
      "7         9          0.413198\n",
      "8        10          0.380810\n",
      "9        11          0.343371\n",
      "10       12          0.322670\n",
      "Calinski Harabasz score:\n",
      "     Cluster     CH score\n",
      "0         2  2871.633083\n",
      "1         3  4003.000241\n",
      "2         4  3946.455896\n",
      "3         5  3773.918253\n",
      "4         6  3659.381924\n",
      "5         7  3694.876538\n",
      "6         8  3629.647786\n",
      "7         9  3568.425021\n",
      "8        10  3589.880951\n",
      "9        11  3554.098604\n",
      "10       12  3454.454786\n"
     ]
    },
    {
     "data": {
      "image/png": "[encoded data removed]",
      "text/plain": [
       "<Figure size 432x288 with 1 Axes>"
      ]
     },
     "metadata": {
      "needs_background": "light"
     },
     "output_type": "display_data"
    }
   ],
   "source": [
    "km_analyse(data_out_rem_std)"
   ]
  },
  {
   "cell_type": "markdown",
   "id": "633b54c2",
   "metadata": {},
   "source": [
    "silhouette score close to 1 is better and CH score - higher the better"
   ]
  },
  {
   "cell_type": "markdown",
   "id": "8aea0036",
   "metadata": {},
   "source": [
    "Robust scaler"
   ]
  },
  {
   "cell_type": "code",
   "execution_count": 15,
   "id": "2ec90e05",
   "metadata": {},
   "outputs": [],
   "source": [
    "rb=RobustScaler()\n",
    "data_out_rem_rob=pd.DataFrame(rb.fit_transform(data_out_rem[['Recency','Frequency','Monetary']]))"
   ]
  },
  {
   "cell_type": "code",
   "execution_count": 16,
   "id": "a114d390",
   "metadata": {},
   "outputs": [
    {
     "name": "stdout",
     "output_type": "stream",
     "text": [
      "Error list:  [17883.746044532443, 9077.61115027084, 6770.424877778792, 4968.966894607362, 3925.789955803294, 3261.6232515121474, 2883.928429597543, 2554.6333579052507, 2274.7465163367006, 2049.686595828846, 1898.514532514065, 1743.9650462632478]\n",
      "Silhouette_score:\n",
      "     Cluster  Silhouette_score\n",
      "0         2          0.624003\n",
      "1         3          0.447708\n",
      "2         4          0.446076\n",
      "3         5          0.450081\n",
      "4         6          0.447074\n",
      "5         7          0.440146\n",
      "6         8          0.398590\n",
      "7         9          0.402179\n",
      "8        10          0.371696\n",
      "9        11          0.365704\n",
      "10       12          0.362048\n",
      "Calinski Harabasz score:\n",
      "     Cluster     CH score\n",
      "0         2  4125.809212\n",
      "1         3  3489.724977\n",
      "2         4  3682.912765\n",
      "3         5  3777.669548\n",
      "4         6  3809.722642\n",
      "5         7  3682.432186\n",
      "6         8  3640.640584\n",
      "7         9  3641.965449\n",
      "8        10  3643.684124\n",
      "9        11  3573.391539\n",
      "10       12  3569.786353\n"
     ]
    },
    {
     "data": {
      "image/png": "[encoded data removed]",
      "text/plain": [
       "<Figure size 432x288 with 1 Axes>"
      ]
     },
     "metadata": {
      "needs_background": "light"
     },
     "output_type": "display_data"
    }
   ],
   "source": [
    "km_analyse(data_out_rem_rob)"
   ]
  },
  {
   "cell_type": "markdown",
   "id": "8474eddb",
   "metadata": {},
   "source": [
    "Min max scaler"
   ]
  },
  {
   "cell_type": "code",
   "execution_count": 17,
   "id": "0333f840",
   "metadata": {},
   "outputs": [],
   "source": [
    "min_max=MinMaxScaler()\n",
    "data_out_rem_minmax=pd.DataFrame(min_max.fit_transform(data_out_rem[['Recency','Frequency','Monetary']]))"
   ]
  },
  {
   "cell_type": "code",
   "execution_count": 18,
   "id": "f7931124",
   "metadata": {},
   "outputs": [
    {
     "name": "stdout",
     "output_type": "stream",
     "text": [
      "Error list:  [456.3436015734227, 201.18361527702962, 124.82814670788696, 93.44447884680636, 75.6292726385948, 64.86420905122472, 55.2959323711434, 49.088882412185484, 43.49430438483745, 39.78603425490797, 36.72238351573971, 33.6550525884132]\n",
      "Silhouette_score:\n",
      "     Cluster  Silhouette_score\n",
      "0         2          0.572607\n",
      "1         3          0.553103\n",
      "2         4          0.491314\n",
      "3         5          0.444268\n",
      "4         6          0.389785\n",
      "5         7          0.396091\n",
      "6         8          0.375959\n",
      "7         9          0.376467\n",
      "8        10          0.376656\n",
      "9        11          0.380635\n",
      "10       12          0.364625\n",
      "Calinski Harabasz score:\n",
      "     Cluster     CH score\n",
      "0         2  5394.060086\n",
      "1         3  5646.177370\n",
      "2         4  5503.036943\n",
      "3         5  5348.633880\n",
      "4         6  5128.888897\n",
      "5         7  5134.950107\n",
      "6         8  5033.468592\n",
      "7         9  5037.921890\n",
      "8        10  4938.465974\n",
      "9        11  4849.597094\n",
      "10       12  4844.524603\n"
     ]
    },
    {
     "data": {
      "image/png": "[encoded data removed]",
      "text/plain": [
       "<Figure size 432x288 with 1 Axes>"
      ]
     },
     "metadata": {
      "needs_background": "light"
     },
     "output_type": "display_data"
    }
   ],
   "source": [
    "km_analyse(data_out_rem_minmax)"
   ]
  },
  {
   "cell_type": "markdown",
   "id": "2ade7a9c",
   "metadata": {},
   "source": [
    "Min max scaler seems to perform well in light of silhouette score and calinski harabasz score"
   ]
  },
  {
   "cell_type": "markdown",
   "id": "e61e0da0",
   "metadata": {},
   "source": [
    "**K means model with min max scaled data**"
   ]
  },
  {
   "cell_type": "code",
   "execution_count": 19,
   "id": "dc5885c1",
   "metadata": {},
   "outputs": [
    {
     "name": "stdout",
     "output_type": "stream",
     "text": [
      "Cluster Labels:\n",
      " [2 0 0 ... 0 2 0]\n"
     ]
    }
   ],
   "source": [
    "label=km_model_eval(3,data_out_rem_minmax)"
   ]
  },
  {
   "cell_type": "code",
   "execution_count": 20,
   "id": "4c8dda0e",
   "metadata": {},
   "outputs": [
    {
     "data": {
      "text/plain": [
       "array([2718, 1041,  496], dtype=int64)"
      ]
     },
     "execution_count": 20,
     "metadata": {},
     "output_type": "execute_result"
    }
   ],
   "source": [
    "np.bincount(label)"
   ]
  },
  {
   "cell_type": "code",
   "execution_count": 21,
   "id": "a8f02a25",
   "metadata": {},
   "outputs": [
    {
     "data": {
      "text/html": [
       "<div>\n",
       "<style scoped>\n",
       "    .dataframe tbody tr th:only-of-type {\n",
       "        vertical-align: middle;\n",
       "    }\n",
       "\n",
       "    .dataframe tbody tr th {\n",
       "        vertical-align: top;\n",
       "    }\n",
       "\n",
       "    .dataframe thead th {\n",
       "        text-align: right;\n",
       "    }\n",
       "</style>\n",
       "<table border=\"1\" class=\"dataframe\">\n",
       "  <thead>\n",
       "    <tr style=\"text-align: right;\">\n",
       "      <th></th>\n",
       "      <th>CustomerID</th>\n",
       "      <th>Recency</th>\n",
       "      <th>Frequency</th>\n",
       "      <th>Monetary</th>\n",
       "      <th>Labels</th>\n",
       "    </tr>\n",
       "  </thead>\n",
       "  <tbody>\n",
       "    <tr>\n",
       "      <th>1</th>\n",
       "      <td>12347.0</td>\n",
       "      <td>1</td>\n",
       "      <td>182</td>\n",
       "      <td>4310.00</td>\n",
       "      <td>2</td>\n",
       "    </tr>\n",
       "    <tr>\n",
       "      <th>2</th>\n",
       "      <td>12348.0</td>\n",
       "      <td>74</td>\n",
       "      <td>31</td>\n",
       "      <td>1797.24</td>\n",
       "      <td>0</td>\n",
       "    </tr>\n",
       "    <tr>\n",
       "      <th>3</th>\n",
       "      <td>12349.0</td>\n",
       "      <td>18</td>\n",
       "      <td>73</td>\n",
       "      <td>1757.55</td>\n",
       "      <td>0</td>\n",
       "    </tr>\n",
       "    <tr>\n",
       "      <th>4</th>\n",
       "      <td>12350.0</td>\n",
       "      <td>309</td>\n",
       "      <td>17</td>\n",
       "      <td>334.40</td>\n",
       "      <td>1</td>\n",
       "    </tr>\n",
       "    <tr>\n",
       "      <th>5</th>\n",
       "      <td>12352.0</td>\n",
       "      <td>35</td>\n",
       "      <td>85</td>\n",
       "      <td>2506.04</td>\n",
       "      <td>0</td>\n",
       "    </tr>\n",
       "    <tr>\n",
       "      <th>...</th>\n",
       "      <td>...</td>\n",
       "      <td>...</td>\n",
       "      <td>...</td>\n",
       "      <td>...</td>\n",
       "      <td>...</td>\n",
       "    </tr>\n",
       "    <tr>\n",
       "      <th>4333</th>\n",
       "      <td>18280.0</td>\n",
       "      <td>277</td>\n",
       "      <td>10</td>\n",
       "      <td>180.60</td>\n",
       "      <td>1</td>\n",
       "    </tr>\n",
       "    <tr>\n",
       "      <th>4334</th>\n",
       "      <td>18281.0</td>\n",
       "      <td>180</td>\n",
       "      <td>7</td>\n",
       "      <td>80.82</td>\n",
       "      <td>1</td>\n",
       "    </tr>\n",
       "    <tr>\n",
       "      <th>4335</th>\n",
       "      <td>18282.0</td>\n",
       "      <td>7</td>\n",
       "      <td>12</td>\n",
       "      <td>178.05</td>\n",
       "      <td>0</td>\n",
       "    </tr>\n",
       "    <tr>\n",
       "      <th>4336</th>\n",
       "      <td>18283.0</td>\n",
       "      <td>3</td>\n",
       "      <td>756</td>\n",
       "      <td>2094.88</td>\n",
       "      <td>2</td>\n",
       "    </tr>\n",
       "    <tr>\n",
       "      <th>4337</th>\n",
       "      <td>18287.0</td>\n",
       "      <td>42</td>\n",
       "      <td>70</td>\n",
       "      <td>1837.28</td>\n",
       "      <td>0</td>\n",
       "    </tr>\n",
       "  </tbody>\n",
       "</table>\n",
       "<p>4255 rows × 5 columns</p>\n",
       "</div>"
      ],
      "text/plain": [
       "      CustomerID  Recency  Frequency  Monetary  Labels\n",
       "1        12347.0        1        182   4310.00       2\n",
       "2        12348.0       74         31   1797.24       0\n",
       "3        12349.0       18         73   1757.55       0\n",
       "4        12350.0      309         17    334.40       1\n",
       "5        12352.0       35         85   2506.04       0\n",
       "...          ...      ...        ...       ...     ...\n",
       "4333     18280.0      277         10    180.60       1\n",
       "4334     18281.0      180          7     80.82       1\n",
       "4335     18282.0        7         12    178.05       0\n",
       "4336     18283.0        3        756   2094.88       2\n",
       "4337     18287.0       42         70   1837.28       0\n",
       "\n",
       "[4255 rows x 5 columns]"
      ]
     },
     "execution_count": 21,
     "metadata": {},
     "output_type": "execute_result"
    }
   ],
   "source": [
    "data_out_rem['Labels']=label\n",
    "data_out_rem"
   ]
  },
  {
   "cell_type": "markdown",
   "id": "ad0c2e7c",
   "metadata": {},
   "source": [
    "**Analysis with model**"
   ]
  },
  {
   "cell_type": "code",
   "execution_count": 22,
   "id": "4a531e86",
   "metadata": {},
   "outputs": [
    {
     "data": {
      "text/plain": [
       "<AxesSubplot:xlabel='Labels', ylabel='Recency'>"
      ]
     },
     "execution_count": 22,
     "metadata": {},
     "output_type": "execute_result"
    },
    {
     "data": {
      "image/png": "[encoded data removed]",
      "text/plain": [
       "<Figure size 432x288 with 1 Axes>"
      ]
     },
     "metadata": {
      "needs_background": "light"
     },
     "output_type": "display_data"
    }
   ],
   "source": [
    "sns.boxplot(x='Labels',y='Recency',data=data_out_rem)"
   ]
  },
  {
   "cell_type": "markdown",
   "id": "2bc59a7f",
   "metadata": {},
   "source": [
    "- The customers in cluster 2 has the highest recency which means they have to be concentrated upon to bring them back as loyal customers.\n",
    " * Giving seasonal discounts to them or offering them coupons with a short time validity can make them come back and getting a review from them can help the turn to loyal customers\n",
    "\n",
    "- The customers in cluster 0 have very low recency which suggests that they have been loyal customers so far. But the outliers in cluster 0 suggests that these customers are on the verge of being lost"
   ]
  },
  {
   "cell_type": "code",
   "execution_count": 23,
   "id": "ada684d1",
   "metadata": {},
   "outputs": [
    {
     "data": {
      "text/plain": [
       "<AxesSubplot:xlabel='Labels', ylabel='Frequency'>"
      ]
     },
     "execution_count": 23,
     "metadata": {},
     "output_type": "execute_result"
    },
    {
     "data": {
      "image/png": "[encoded data removed]",
      "text/plain": [
       "<Figure size 432x288 with 1 Axes>"
      ]
     },
     "metadata": {
      "needs_background": "light"
     },
     "output_type": "display_data"
    }
   ],
   "source": [
    "sns.boxplot(x='Labels',y='Frequency',data=data_out_rem)"
   ]
  },
  {
   "cell_type": "markdown",
   "id": "082a4cff",
   "metadata": {},
   "source": [
    "- Cluster 0 has made the highest number of transactions.\n",
    "- Cluster 2 on the other hand have made least transactions on an average and to bring them back,\n",
    " - Ask feedback from them if they are in need of any new items in the store\n",
    " - Give offers on specific products to increase the number of transactions and give a chance for them to buy back"
   ]
  },
  {
   "cell_type": "code",
   "execution_count": 24,
   "id": "b2891802",
   "metadata": {},
   "outputs": [
    {
     "data": {
      "text/plain": [
       "<AxesSubplot:xlabel='Labels', ylabel='Monetary'>"
      ]
     },
     "execution_count": 24,
     "metadata": {},
     "output_type": "execute_result"
    },
    {
     "data": {
      "image/png": "[encoded data removed]",
      "text/plain": [
       "<Figure size 432x288 with 1 Axes>"
      ]
     },
     "metadata": {
      "needs_background": "light"
     },
     "output_type": "display_data"
    }
   ],
   "source": [
    "sns.boxplot(x='Labels',y='Monetary',data=data_out_rem)"
   ]
  },
  {
   "cell_type": "markdown",
   "id": "e8f78cd4",
   "metadata": {},
   "source": [
    "- Cluster 0 customers have spent a good average amount towards the transaction\n",
    "- Cluster 2 on the other hand have not performed well towards the monetary aspect of the store, except a few outliers\n"
   ]
  },
  {
   "cell_type": "markdown",
   "id": "f6dd6baa",
   "metadata": {},
   "source": [
    "# Agglomerative clustering"
   ]
  },
  {
   "cell_type": "markdown",
   "id": "16f0d680",
   "metadata": {},
   "source": [
    "**Data with log**"
   ]
  },
  {
   "cell_type": "code",
   "execution_count": 25,
   "id": "796ac9f8",
   "metadata": {},
   "outputs": [],
   "source": [
    "data_log=np.log(data[['Recency','Frequency','Monetary']])"
   ]
  },
  {
   "cell_type": "code",
   "execution_count": 26,
   "id": "a969b8c9",
   "metadata": {},
   "outputs": [
    {
     "data": {
      "text/html": [
       "<div>\n",
       "<style scoped>\n",
       "    .dataframe tbody tr th:only-of-type {\n",
       "        vertical-align: middle;\n",
       "    }\n",
       "\n",
       "    .dataframe tbody tr th {\n",
       "        vertical-align: top;\n",
       "    }\n",
       "\n",
       "    .dataframe thead th {\n",
       "        text-align: right;\n",
       "    }\n",
       "</style>\n",
       "<table border=\"1\" class=\"dataframe\">\n",
       "  <thead>\n",
       "    <tr style=\"text-align: right;\">\n",
       "      <th></th>\n",
       "      <th>Recency</th>\n",
       "      <th>Frequency</th>\n",
       "      <th>Monetary</th>\n",
       "    </tr>\n",
       "  </thead>\n",
       "  <tbody>\n",
       "    <tr>\n",
       "      <th>0</th>\n",
       "      <td>5.783825</td>\n",
       "      <td>0.000000</td>\n",
       "      <td>11.253942</td>\n",
       "    </tr>\n",
       "    <tr>\n",
       "      <th>1</th>\n",
       "      <td>0.000000</td>\n",
       "      <td>5.204007</td>\n",
       "      <td>8.368693</td>\n",
       "    </tr>\n",
       "    <tr>\n",
       "      <th>2</th>\n",
       "      <td>4.304065</td>\n",
       "      <td>3.433987</td>\n",
       "      <td>7.494007</td>\n",
       "    </tr>\n",
       "    <tr>\n",
       "      <th>3</th>\n",
       "      <td>2.890372</td>\n",
       "      <td>4.290459</td>\n",
       "      <td>7.471676</td>\n",
       "    </tr>\n",
       "    <tr>\n",
       "      <th>4</th>\n",
       "      <td>5.733341</td>\n",
       "      <td>2.833213</td>\n",
       "      <td>5.812338</td>\n",
       "    </tr>\n",
       "    <tr>\n",
       "      <th>...</th>\n",
       "      <td>...</td>\n",
       "      <td>...</td>\n",
       "      <td>...</td>\n",
       "    </tr>\n",
       "    <tr>\n",
       "      <th>4333</th>\n",
       "      <td>5.624018</td>\n",
       "      <td>2.302585</td>\n",
       "      <td>5.196285</td>\n",
       "    </tr>\n",
       "    <tr>\n",
       "      <th>4334</th>\n",
       "      <td>5.192957</td>\n",
       "      <td>1.945910</td>\n",
       "      <td>4.392224</td>\n",
       "    </tr>\n",
       "    <tr>\n",
       "      <th>4335</th>\n",
       "      <td>1.945910</td>\n",
       "      <td>2.484907</td>\n",
       "      <td>5.182064</td>\n",
       "    </tr>\n",
       "    <tr>\n",
       "      <th>4336</th>\n",
       "      <td>1.098612</td>\n",
       "      <td>6.628041</td>\n",
       "      <td>7.647252</td>\n",
       "    </tr>\n",
       "    <tr>\n",
       "      <th>4337</th>\n",
       "      <td>3.737670</td>\n",
       "      <td>4.248495</td>\n",
       "      <td>7.516041</td>\n",
       "    </tr>\n",
       "  </tbody>\n",
       "</table>\n",
       "<p>4338 rows × 3 columns</p>\n",
       "</div>"
      ],
      "text/plain": [
       "       Recency  Frequency   Monetary\n",
       "0     5.783825   0.000000  11.253942\n",
       "1     0.000000   5.204007   8.368693\n",
       "2     4.304065   3.433987   7.494007\n",
       "3     2.890372   4.290459   7.471676\n",
       "4     5.733341   2.833213   5.812338\n",
       "...        ...        ...        ...\n",
       "4333  5.624018   2.302585   5.196285\n",
       "4334  5.192957   1.945910   4.392224\n",
       "4335  1.945910   2.484907   5.182064\n",
       "4336  1.098612   6.628041   7.647252\n",
       "4337  3.737670   4.248495   7.516041\n",
       "\n",
       "[4338 rows x 3 columns]"
      ]
     },
     "execution_count": 26,
     "metadata": {},
     "output_type": "execute_result"
    }
   ],
   "source": [
    "data_log"
   ]
  },
  {
   "cell_type": "markdown",
   "id": "79a92c92",
   "metadata": {},
   "source": [
    "**Standardisation**"
   ]
  },
  {
   "cell_type": "code",
   "execution_count": 27,
   "id": "b0d80887",
   "metadata": {},
   "outputs": [],
   "source": [
    "minmax=MinMaxScaler()\n",
    "data_minmax=pd.DataFrame(minmax.fit_transform(data[['Recency','Frequency','Monetary']]))\n",
    "data_minmax.columns=['Recency','Frequency','Monetary']"
   ]
  },
  {
   "cell_type": "code",
   "execution_count": 28,
   "id": "f48240cd",
   "metadata": {},
   "outputs": [
    {
     "data": {
      "text/html": [
       "<div>\n",
       "<style scoped>\n",
       "    .dataframe tbody tr th:only-of-type {\n",
       "        vertical-align: middle;\n",
       "    }\n",
       "\n",
       "    .dataframe tbody tr th {\n",
       "        vertical-align: top;\n",
       "    }\n",
       "\n",
       "    .dataframe thead th {\n",
       "        text-align: right;\n",
       "    }\n",
       "</style>\n",
       "<table border=\"1\" class=\"dataframe\">\n",
       "  <thead>\n",
       "    <tr style=\"text-align: right;\">\n",
       "      <th></th>\n",
       "      <th>Recency</th>\n",
       "      <th>Frequency</th>\n",
       "      <th>Monetary</th>\n",
       "    </tr>\n",
       "  </thead>\n",
       "  <tbody>\n",
       "    <tr>\n",
       "      <th>0</th>\n",
       "      <td>0.871314</td>\n",
       "      <td>0.000000</td>\n",
       "      <td>0.275443</td>\n",
       "    </tr>\n",
       "    <tr>\n",
       "      <th>1</th>\n",
       "      <td>0.002681</td>\n",
       "      <td>0.023069</td>\n",
       "      <td>0.015368</td>\n",
       "    </tr>\n",
       "    <tr>\n",
       "      <th>2</th>\n",
       "      <td>0.198391</td>\n",
       "      <td>0.003824</td>\n",
       "      <td>0.006401</td>\n",
       "    </tr>\n",
       "    <tr>\n",
       "      <th>3</th>\n",
       "      <td>0.048257</td>\n",
       "      <td>0.009177</td>\n",
       "      <td>0.006259</td>\n",
       "    </tr>\n",
       "    <tr>\n",
       "      <th>4</th>\n",
       "      <td>0.828418</td>\n",
       "      <td>0.002039</td>\n",
       "      <td>0.001180</td>\n",
       "    </tr>\n",
       "    <tr>\n",
       "      <th>...</th>\n",
       "      <td>...</td>\n",
       "      <td>...</td>\n",
       "      <td>...</td>\n",
       "    </tr>\n",
       "    <tr>\n",
       "      <th>4333</th>\n",
       "      <td>0.742627</td>\n",
       "      <td>0.001147</td>\n",
       "      <td>0.000631</td>\n",
       "    </tr>\n",
       "    <tr>\n",
       "      <th>4334</th>\n",
       "      <td>0.482574</td>\n",
       "      <td>0.000765</td>\n",
       "      <td>0.000275</td>\n",
       "    </tr>\n",
       "    <tr>\n",
       "      <th>4335</th>\n",
       "      <td>0.018767</td>\n",
       "      <td>0.001402</td>\n",
       "      <td>0.000622</td>\n",
       "    </tr>\n",
       "    <tr>\n",
       "      <th>4336</th>\n",
       "      <td>0.008043</td>\n",
       "      <td>0.096227</td>\n",
       "      <td>0.007463</td>\n",
       "    </tr>\n",
       "    <tr>\n",
       "      <th>4337</th>\n",
       "      <td>0.112601</td>\n",
       "      <td>0.008794</td>\n",
       "      <td>0.006544</td>\n",
       "    </tr>\n",
       "  </tbody>\n",
       "</table>\n",
       "<p>4338 rows × 3 columns</p>\n",
       "</div>"
      ],
      "text/plain": [
       "       Recency  Frequency  Monetary\n",
       "0     0.871314   0.000000  0.275443\n",
       "1     0.002681   0.023069  0.015368\n",
       "2     0.198391   0.003824  0.006401\n",
       "3     0.048257   0.009177  0.006259\n",
       "4     0.828418   0.002039  0.001180\n",
       "...        ...        ...       ...\n",
       "4333  0.742627   0.001147  0.000631\n",
       "4334  0.482574   0.000765  0.000275\n",
       "4335  0.018767   0.001402  0.000622\n",
       "4336  0.008043   0.096227  0.007463\n",
       "4337  0.112601   0.008794  0.006544\n",
       "\n",
       "[4338 rows x 3 columns]"
      ]
     },
     "execution_count": 28,
     "metadata": {},
     "output_type": "execute_result"
    }
   ],
   "source": [
    "data_minmax"
   ]
  },
  {
   "cell_type": "code",
   "execution_count": 29,
   "id": "cb848c98",
   "metadata": {},
   "outputs": [],
   "source": [
    "sc=StandardScaler()\n",
    "data_std=pd.DataFrame(sc.fit_transform(data[['Recency','Frequency','Monetary']]))\n",
    "data_std.columns=['Recency','Frequency','Monetary']"
   ]
  },
  {
   "cell_type": "code",
   "execution_count": 30,
   "id": "4d24a1d6",
   "metadata": {},
   "outputs": [],
   "source": [
    "data_log_minmax=pd.DataFrame(minmax.fit_transform(np.log(data[['Frequency','Monetary']])))\n",
    "data_log_minmax.columns=['Frequency','Monetary']\n",
    "data_log_minmax['Recency']=minmax.fit_transform(np.log(data[['Recency']]+1))"
   ]
  },
  {
   "cell_type": "code",
   "execution_count": 31,
   "id": "e91df56a",
   "metadata": {},
   "outputs": [],
   "source": [
    "data_log_std=pd.DataFrame(sc.fit_transform(np.log(data[['Frequency','Monetary']])))\n",
    "data_log_std.columns=['Frequency','Monetary']\n",
    "data_log_std['Recency']=sc.fit_transform(pd.DataFrame(np.log(data['Recency']+1)))"
   ]
  },
  {
   "cell_type": "code",
   "execution_count": 32,
   "id": "b66c745c",
   "metadata": {},
   "outputs": [],
   "source": [
    "grid={'linkage':['single','complete','average','ward'],\n",
    "      'affinity':['euclidean','l1','l2','manhattan','cosine'],\n",
    "      'n_clusters':range(2,10)}"
   ]
  },
  {
   "cell_type": "code",
   "execution_count": 33,
   "id": "79863d7c",
   "metadata": {},
   "outputs": [],
   "source": [
    "agg=AgglomerativeClustering()"
   ]
  },
  {
   "cell_type": "code",
   "execution_count": 34,
   "id": "200cc6dc",
   "metadata": {},
   "outputs": [],
   "source": [
    "link=RandomizedSearchCV(estimator=agg,param_distributions=grid,n_iter=100,cv=3,verbose=2,random_state=100,scoring='adjusted_rand_score')"
   ]
  },
  {
   "cell_type": "code",
   "execution_count": 35,
   "id": "463bca9e",
   "metadata": {
    "scrolled": true
   },
   "outputs": [
    {
     "name": "stdout",
     "output_type": "stream",
     "text": [
      "Fitting 3 folds for each of 100 candidates, totalling 300 fits\n",
      "[CV] END ........affinity=l1, linkage=complete, n_clusters=7; total time=   0.4s\n",
      "[CV] END ........affinity=l1, linkage=complete, n_clusters=7; total time=   0.3s\n",
      "[CV] END ........affinity=l1, linkage=complete, n_clusters=7; total time=   0.3s\n",
      "[CV] END .affinity=euclidean, linkage=complete, n_clusters=5; total time=   0.3s\n",
      "[CV] END .affinity=euclidean, linkage=complete, n_clusters=5; total time=   0.3s\n",
      "[CV] END .affinity=euclidean, linkage=complete, n_clusters=5; total time=   0.3s\n",
      "[CV] END ......affinity=cosine, linkage=single, n_clusters=2; total time=   0.0s\n",
      "[CV] END ......affinity=cosine, linkage=single, n_clusters=2; total time=   0.0s\n",
      "[CV] END ......affinity=cosine, linkage=single, n_clusters=2; total time=   0.0s\n",
      "[CV] END .affinity=euclidean, linkage=complete, n_clusters=9; total time=   0.3s\n",
      "[CV] END .affinity=euclidean, linkage=complete, n_clusters=9; total time=   0.3s\n",
      "[CV] END .affinity=euclidean, linkage=complete, n_clusters=9; total time=   0.3s\n",
      "[CV] END ...affinity=euclidean, linkage=single, n_clusters=9; total time=   0.0s\n",
      "[CV] END ...affinity=euclidean, linkage=single, n_clusters=9; total time=   0.0s\n",
      "[CV] END ...affinity=euclidean, linkage=single, n_clusters=9; total time=   0.0s\n",
      "[CV] END ..affinity=manhattan, linkage=average, n_clusters=5; total time=   0.2s\n",
      "[CV] END ..affinity=manhattan, linkage=average, n_clusters=5; total time=   0.3s\n",
      "[CV] END ..affinity=manhattan, linkage=average, n_clusters=5; total time=   0.3s\n",
      "[CV] END .....affinity=manhattan, linkage=ward, n_clusters=2; total time=   0.0s\n",
      "[CV] END .....affinity=manhattan, linkage=ward, n_clusters=2; total time=   0.0s\n",
      "[CV] END .....affinity=manhattan, linkage=ward, n_clusters=2; total time=   0.0s\n",
      "[CV] END ...affinity=euclidean, linkage=single, n_clusters=3; total time=   0.0s\n",
      "[CV] END ...affinity=euclidean, linkage=single, n_clusters=3; total time=   0.0s\n",
      "[CV] END ...affinity=euclidean, linkage=single, n_clusters=3; total time=   0.0s\n",
      "[CV] END .affinity=manhattan, linkage=complete, n_clusters=2; total time=   0.2s\n",
      "[CV] END .affinity=manhattan, linkage=complete, n_clusters=2; total time=   0.3s\n",
      "[CV] END .affinity=manhattan, linkage=complete, n_clusters=2; total time=   0.3s\n",
      "[CV] END .........affinity=l1, linkage=average, n_clusters=5; total time=   0.2s\n",
      "[CV] END .........affinity=l1, linkage=average, n_clusters=5; total time=   0.2s\n",
      "[CV] END .........affinity=l1, linkage=average, n_clusters=5; total time=   0.2s\n",
      "[CV] END .....affinity=euclidean, linkage=ward, n_clusters=9; total time=   0.3s\n",
      "[CV] END .....affinity=euclidean, linkage=ward, n_clusters=9; total time=   0.3s\n",
      "[CV] END .....affinity=euclidean, linkage=ward, n_clusters=9; total time=   0.3s\n",
      "[CV] END ........affinity=l2, linkage=complete, n_clusters=3; total time=   0.3s\n",
      "[CV] END ........affinity=l2, linkage=complete, n_clusters=3; total time=   0.3s\n",
      "[CV] END ........affinity=l2, linkage=complete, n_clusters=3; total time=   0.3s\n",
      "[CV] END .....affinity=euclidean, linkage=ward, n_clusters=4; total time=   0.3s\n",
      "[CV] END .....affinity=euclidean, linkage=ward, n_clusters=4; total time=   0.3s\n",
      "[CV] END .....affinity=euclidean, linkage=ward, n_clusters=4; total time=   0.3s\n",
      "[CV] END .....affinity=euclidean, linkage=ward, n_clusters=7; total time=   0.3s\n",
      "[CV] END .....affinity=euclidean, linkage=ward, n_clusters=7; total time=   0.3s\n",
      "[CV] END .....affinity=euclidean, linkage=ward, n_clusters=7; total time=   0.3s\n",
      "[CV] END ...affinity=manhattan, linkage=single, n_clusters=5; total time=   0.0s\n",
      "[CV] END ...affinity=manhattan, linkage=single, n_clusters=5; total time=   0.0s\n",
      "[CV] END ...affinity=manhattan, linkage=single, n_clusters=5; total time=   0.0s\n",
      "[CV] END ............affinity=l2, linkage=ward, n_clusters=2; total time=   0.0s\n",
      "[CV] END ............affinity=l2, linkage=ward, n_clusters=2; total time=   0.0s\n",
      "[CV] END ............affinity=l2, linkage=ward, n_clusters=2; total time=   0.0s\n",
      "[CV] END ........affinity=l1, linkage=complete, n_clusters=3; total time=   0.3s\n",
      "[CV] END ........affinity=l1, linkage=complete, n_clusters=3; total time=   0.3s\n",
      "[CV] END ........affinity=l1, linkage=complete, n_clusters=3; total time=   0.3s\n",
      "[CV] END ........affinity=l1, linkage=complete, n_clusters=2; total time=   0.3s\n",
      "[CV] END ........affinity=l1, linkage=complete, n_clusters=2; total time=   0.3s\n",
      "[CV] END ........affinity=l1, linkage=complete, n_clusters=2; total time=   0.3s\n",
      "[CV] END ............affinity=l1, linkage=ward, n_clusters=5; total time=   0.0s\n",
      "[CV] END ............affinity=l1, linkage=ward, n_clusters=5; total time=   0.0s\n",
      "[CV] END ............affinity=l1, linkage=ward, n_clusters=5; total time=   0.0s\n",
      "[CV] END .....affinity=manhattan, linkage=ward, n_clusters=4; total time=   0.0s\n",
      "[CV] END .....affinity=manhattan, linkage=ward, n_clusters=4; total time=   0.0s\n",
      "[CV] END .....affinity=manhattan, linkage=ward, n_clusters=4; total time=   0.0s\n",
      "[CV] END .........affinity=l1, linkage=average, n_clusters=8; total time=   0.2s\n",
      "[CV] END .........affinity=l1, linkage=average, n_clusters=8; total time=   0.3s\n",
      "[CV] END .........affinity=l1, linkage=average, n_clusters=8; total time=   0.3s\n",
      "[CV] END ..........affinity=l1, linkage=single, n_clusters=2; total time=   0.0s\n",
      "[CV] END ..........affinity=l1, linkage=single, n_clusters=2; total time=   0.0s\n",
      "[CV] END ..........affinity=l1, linkage=single, n_clusters=2; total time=   0.0s\n",
      "[CV] END .........affinity=l2, linkage=average, n_clusters=7; total time=   0.3s\n",
      "[CV] END .........affinity=l2, linkage=average, n_clusters=7; total time=   0.3s\n",
      "[CV] END .........affinity=l2, linkage=average, n_clusters=7; total time=   0.3s\n",
      "[CV] END .....affinity=cosine, linkage=average, n_clusters=7; total time=   0.2s\n",
      "[CV] END .....affinity=cosine, linkage=average, n_clusters=7; total time=   0.3s\n",
      "[CV] END .....affinity=cosine, linkage=average, n_clusters=7; total time=   0.2s\n",
      "[CV] END ........affinity=l1, linkage=complete, n_clusters=8; total time=   0.3s\n",
      "[CV] END ........affinity=l1, linkage=complete, n_clusters=8; total time=   0.3s\n",
      "[CV] END ........affinity=l1, linkage=complete, n_clusters=8; total time=   0.3s\n",
      "[CV] END ........affinity=cosine, linkage=ward, n_clusters=9; total time=   0.0s\n",
      "[CV] END ........affinity=cosine, linkage=ward, n_clusters=9; total time=   0.0s\n",
      "[CV] END ........affinity=cosine, linkage=ward, n_clusters=9; total time=   0.0s\n",
      "[CV] END .....affinity=manhattan, linkage=ward, n_clusters=6; total time=   0.0s\n",
      "[CV] END .....affinity=manhattan, linkage=ward, n_clusters=6; total time=   0.0s\n",
      "[CV] END .....affinity=manhattan, linkage=ward, n_clusters=6; total time=   0.0s\n",
      "[CV] END ..affinity=euclidean, linkage=average, n_clusters=6; total time=   0.3s\n",
      "[CV] END ..affinity=euclidean, linkage=average, n_clusters=6; total time=   0.3s\n",
      "[CV] END ..affinity=euclidean, linkage=average, n_clusters=6; total time=   0.3s\n",
      "[CV] END .....affinity=euclidean, linkage=ward, n_clusters=6; total time=   0.3s\n",
      "[CV] END .....affinity=euclidean, linkage=ward, n_clusters=6; total time=   0.3s\n",
      "[CV] END .....affinity=euclidean, linkage=ward, n_clusters=6; total time=   0.3s\n",
      "[CV] END ........affinity=l2, linkage=complete, n_clusters=7; total time=   0.3s\n",
      "[CV] END ........affinity=l2, linkage=complete, n_clusters=7; total time=   0.3s\n",
      "[CV] END ........affinity=l2, linkage=complete, n_clusters=7; total time=   0.3s\n",
      "[CV] END ......affinity=cosine, linkage=single, n_clusters=9; total time=   0.0s\n",
      "[CV] END ......affinity=cosine, linkage=single, n_clusters=9; total time=   0.1s\n",
      "[CV] END ......affinity=cosine, linkage=single, n_clusters=9; total time=   0.1s\n",
      "[CV] END ....affinity=cosine, linkage=complete, n_clusters=5; total time=   0.2s\n",
      "[CV] END ....affinity=cosine, linkage=complete, n_clusters=5; total time=   0.2s\n",
      "[CV] END ....affinity=cosine, linkage=complete, n_clusters=5; total time=   0.2s\n",
      "[CV] END .affinity=manhattan, linkage=complete, n_clusters=4; total time=   0.2s\n",
      "[CV] END .affinity=manhattan, linkage=complete, n_clusters=4; total time=   0.3s\n",
      "[CV] END .affinity=manhattan, linkage=complete, n_clusters=4; total time=   0.3s\n",
      "[CV] END ..........affinity=l2, linkage=single, n_clusters=3; total time=   0.0s\n",
      "[CV] END ..........affinity=l2, linkage=single, n_clusters=3; total time=   0.0s\n",
      "[CV] END ..........affinity=l2, linkage=single, n_clusters=3; total time=   0.0s\n",
      "[CV] END .affinity=euclidean, linkage=complete, n_clusters=6; total time=   0.3s\n",
      "[CV] END .affinity=euclidean, linkage=complete, n_clusters=6; total time=   0.3s\n",
      "[CV] END .affinity=euclidean, linkage=complete, n_clusters=6; total time=   0.3s\n",
      "[CV] END ..affinity=euclidean, linkage=average, n_clusters=2; total time=   0.3s\n",
      "[CV] END ..affinity=euclidean, linkage=average, n_clusters=2; total time=   0.3s\n",
      "[CV] END ..affinity=euclidean, linkage=average, n_clusters=2; total time=   0.3s\n",
      "[CV] END ............affinity=l1, linkage=ward, n_clusters=8; total time=   0.0s\n",
      "[CV] END ............affinity=l1, linkage=ward, n_clusters=8; total time=   0.0s\n",
      "[CV] END ............affinity=l1, linkage=ward, n_clusters=8; total time=   0.0s\n",
      "[CV] END ........affinity=cosine, linkage=ward, n_clusters=3; total time=   0.0s\n",
      "[CV] END ........affinity=cosine, linkage=ward, n_clusters=3; total time=   0.0s\n",
      "[CV] END ........affinity=cosine, linkage=ward, n_clusters=3; total time=   0.0s\n",
      "[CV] END ..affinity=manhattan, linkage=average, n_clusters=3; total time=   0.2s\n",
      "[CV] END ..affinity=manhattan, linkage=average, n_clusters=3; total time=   0.3s\n",
      "[CV] END ..affinity=manhattan, linkage=average, n_clusters=3; total time=   0.2s\n",
      "[CV] END ...affinity=manhattan, linkage=single, n_clusters=2; total time=   0.0s\n",
      "[CV] END ...affinity=manhattan, linkage=single, n_clusters=2; total time=   0.0s\n",
      "[CV] END ...affinity=manhattan, linkage=single, n_clusters=2; total time=   0.0s\n",
      "[CV] END .....affinity=cosine, linkage=average, n_clusters=4; total time=   0.2s\n",
      "[CV] END .....affinity=cosine, linkage=average, n_clusters=4; total time=   0.2s\n",
      "[CV] END .....affinity=cosine, linkage=average, n_clusters=4; total time=   0.2s\n",
      "[CV] END .....affinity=manhattan, linkage=ward, n_clusters=7; total time=   0.0s\n",
      "[CV] END .....affinity=manhattan, linkage=ward, n_clusters=7; total time=   0.0s\n",
      "[CV] END .....affinity=manhattan, linkage=ward, n_clusters=7; total time=   0.0s\n",
      "[CV] END .....affinity=cosine, linkage=average, n_clusters=2; total time=   0.2s\n",
      "[CV] END .....affinity=cosine, linkage=average, n_clusters=2; total time=   0.2s\n",
      "[CV] END .....affinity=cosine, linkage=average, n_clusters=2; total time=   0.2s\n",
      "[CV] END ...affinity=manhattan, linkage=single, n_clusters=3; total time=   0.0s\n",
      "[CV] END ...affinity=manhattan, linkage=single, n_clusters=3; total time=   0.0s\n",
      "[CV] END ...affinity=manhattan, linkage=single, n_clusters=3; total time=   0.0s\n",
      "[CV] END ...affinity=manhattan, linkage=single, n_clusters=7; total time=   0.0s\n",
      "[CV] END ...affinity=manhattan, linkage=single, n_clusters=7; total time=   0.0s\n",
      "[CV] END ...affinity=manhattan, linkage=single, n_clusters=7; total time=   0.0s\n",
      "[CV] END .affinity=manhattan, linkage=complete, n_clusters=7; total time=   0.2s\n",
      "[CV] END .affinity=manhattan, linkage=complete, n_clusters=7; total time=   0.3s\n",
      "[CV] END .affinity=manhattan, linkage=complete, n_clusters=7; total time=   0.3s\n",
      "[CV] END .........affinity=l2, linkage=average, n_clusters=4; total time=   0.3s\n",
      "[CV] END .........affinity=l2, linkage=average, n_clusters=4; total time=   0.3s\n",
      "[CV] END .........affinity=l2, linkage=average, n_clusters=4; total time=   0.3s\n",
      "[CV] END ..........affinity=l1, linkage=single, n_clusters=7; total time=   0.0s\n",
      "[CV] END ..........affinity=l1, linkage=single, n_clusters=7; total time=   0.0s\n",
      "[CV] END ..........affinity=l1, linkage=single, n_clusters=7; total time=   0.0s\n",
      "[CV] END ...affinity=euclidean, linkage=single, n_clusters=8; total time=   0.0s\n",
      "[CV] END ...affinity=euclidean, linkage=single, n_clusters=8; total time=   0.0s\n",
      "[CV] END ...affinity=euclidean, linkage=single, n_clusters=8; total time=   0.0s\n",
      "[CV] END .....affinity=euclidean, linkage=ward, n_clusters=3; total time=   0.3s\n",
      "[CV] END .....affinity=euclidean, linkage=ward, n_clusters=3; total time=   0.3s\n",
      "[CV] END .....affinity=euclidean, linkage=ward, n_clusters=3; total time=   0.3s\n",
      "[CV] END ..affinity=euclidean, linkage=average, n_clusters=7; total time=   0.3s\n",
      "[CV] END ..affinity=euclidean, linkage=average, n_clusters=7; total time=   0.3s\n",
      "[CV] END ..affinity=euclidean, linkage=average, n_clusters=7; total time=   0.3s\n",
      "[CV] END ........affinity=l2, linkage=complete, n_clusters=5; total time=   0.3s\n",
      "[CV] END ........affinity=l2, linkage=complete, n_clusters=5; total time=   0.3s\n",
      "[CV] END ........affinity=l2, linkage=complete, n_clusters=5; total time=   0.3s\n",
      "[CV] END .........affinity=l2, linkage=average, n_clusters=6; total time=   0.3s\n",
      "[CV] END .........affinity=l2, linkage=average, n_clusters=6; total time=   0.3s\n",
      "[CV] END .........affinity=l2, linkage=average, n_clusters=6; total time=   0.3s\n",
      "[CV] END .affinity=euclidean, linkage=complete, n_clusters=3; total time=   0.3s\n",
      "[CV] END .affinity=euclidean, linkage=complete, n_clusters=3; total time=   0.3s\n",
      "[CV] END .affinity=euclidean, linkage=complete, n_clusters=3; total time=   0.3s\n",
      "[CV] END ..affinity=euclidean, linkage=average, n_clusters=9; total time=   0.3s\n",
      "[CV] END ..affinity=euclidean, linkage=average, n_clusters=9; total time=   0.3s\n",
      "[CV] END ..affinity=euclidean, linkage=average, n_clusters=9; total time=   0.3s\n",
      "[CV] END ..........affinity=l1, linkage=single, n_clusters=5; total time=   0.0s\n",
      "[CV] END ..........affinity=l1, linkage=single, n_clusters=5; total time=   0.0s\n",
      "[CV] END ..........affinity=l1, linkage=single, n_clusters=5; total time=   0.0s\n",
      "[CV] END ..affinity=manhattan, linkage=average, n_clusters=7; total time=   0.2s\n",
      "[CV] END ..affinity=manhattan, linkage=average, n_clusters=7; total time=   0.2s\n",
      "[CV] END ..affinity=manhattan, linkage=average, n_clusters=7; total time=   0.2s\n",
      "[CV] END ....affinity=cosine, linkage=complete, n_clusters=6; total time=   0.2s\n",
      "[CV] END ....affinity=cosine, linkage=complete, n_clusters=6; total time=   0.2s\n",
      "[CV] END ....affinity=cosine, linkage=complete, n_clusters=6; total time=   0.2s\n",
      "[CV] END ......affinity=cosine, linkage=single, n_clusters=7; total time=   0.0s\n",
      "[CV] END ......affinity=cosine, linkage=single, n_clusters=7; total time=   0.0s\n",
      "[CV] END ......affinity=cosine, linkage=single, n_clusters=7; total time=   0.0s\n",
      "[CV] END ............affinity=l2, linkage=ward, n_clusters=3; total time=   0.0s\n",
      "[CV] END ............affinity=l2, linkage=ward, n_clusters=3; total time=   0.0s\n",
      "[CV] END ............affinity=l2, linkage=ward, n_clusters=3; total time=   0.0s\n",
      "[CV] END ..affinity=manhattan, linkage=average, n_clusters=9; total time=   0.2s\n",
      "[CV] END ..affinity=manhattan, linkage=average, n_clusters=9; total time=   0.3s\n",
      "[CV] END ..affinity=manhattan, linkage=average, n_clusters=9; total time=   0.2s\n",
      "[CV] END ........affinity=cosine, linkage=ward, n_clusters=6; total time=   0.0s\n",
      "[CV] END ........affinity=cosine, linkage=ward, n_clusters=6; total time=   0.0s\n",
      "[CV] END ........affinity=cosine, linkage=ward, n_clusters=6; total time=   0.0s\n",
      "[CV] END .....affinity=manhattan, linkage=ward, n_clusters=9; total time=   0.0s\n",
      "[CV] END .....affinity=manhattan, linkage=ward, n_clusters=9; total time=   0.0s\n",
      "[CV] END .....affinity=manhattan, linkage=ward, n_clusters=9; total time=   0.0s\n",
      "[CV] END ......affinity=cosine, linkage=single, n_clusters=5; total time=   0.0s\n",
      "[CV] END ......affinity=cosine, linkage=single, n_clusters=5; total time=   0.0s\n",
      "[CV] END ......affinity=cosine, linkage=single, n_clusters=5; total time=   0.0s\n",
      "[CV] END ........affinity=cosine, linkage=ward, n_clusters=5; total time=   0.0s\n",
      "[CV] END ........affinity=cosine, linkage=ward, n_clusters=5; total time=   0.0s\n",
      "[CV] END ........affinity=cosine, linkage=ward, n_clusters=5; total time=   0.0s\n",
      "[CV] END ..affinity=euclidean, linkage=average, n_clusters=8; total time=   0.3s\n",
      "[CV] END ..affinity=euclidean, linkage=average, n_clusters=8; total time=   0.3s\n",
      "[CV] END ..affinity=euclidean, linkage=average, n_clusters=8; total time=   0.3s\n",
      "[CV] END ..........affinity=l2, linkage=single, n_clusters=7; total time=   0.0s\n",
      "[CV] END ..........affinity=l2, linkage=single, n_clusters=7; total time=   0.0s\n",
      "[CV] END ..........affinity=l2, linkage=single, n_clusters=7; total time=   0.0s\n",
      "[CV] END ....affinity=cosine, linkage=complete, n_clusters=8; total time=   0.2s\n",
      "[CV] END ....affinity=cosine, linkage=complete, n_clusters=8; total time=   0.2s\n",
      "[CV] END ....affinity=cosine, linkage=complete, n_clusters=8; total time=   0.2s\n",
      "[CV] END ..........affinity=l1, linkage=single, n_clusters=3; total time=   0.0s\n",
      "[CV] END ..........affinity=l1, linkage=single, n_clusters=3; total time=   0.0s\n",
      "[CV] END ..........affinity=l1, linkage=single, n_clusters=3; total time=   0.0s\n",
      "[CV] END ........affinity=l1, linkage=complete, n_clusters=4; total time=   0.2s\n",
      "[CV] END ........affinity=l1, linkage=complete, n_clusters=4; total time=   0.3s\n",
      "[CV] END ........affinity=l1, linkage=complete, n_clusters=4; total time=   0.3s\n",
      "[CV] END ....affinity=cosine, linkage=complete, n_clusters=7; total time=   0.2s\n",
      "[CV] END ....affinity=cosine, linkage=complete, n_clusters=7; total time=   0.2s\n",
      "[CV] END ....affinity=cosine, linkage=complete, n_clusters=7; total time=   0.2s\n",
      "[CV] END .....affinity=manhattan, linkage=ward, n_clusters=8; total time=   0.0s\n",
      "[CV] END .....affinity=manhattan, linkage=ward, n_clusters=8; total time=   0.0s\n",
      "[CV] END .....affinity=manhattan, linkage=ward, n_clusters=8; total time=   0.0s\n",
      "[CV] END ...affinity=euclidean, linkage=single, n_clusters=7; total time=   0.0s\n",
      "[CV] END ...affinity=euclidean, linkage=single, n_clusters=7; total time=   0.0s\n",
      "[CV] END ...affinity=euclidean, linkage=single, n_clusters=7; total time=   0.0s\n",
      "[CV] END ..........affinity=l1, linkage=single, n_clusters=6; total time=   0.0s\n",
      "[CV] END ..........affinity=l1, linkage=single, n_clusters=6; total time=   0.0s\n",
      "[CV] END ..........affinity=l1, linkage=single, n_clusters=6; total time=   0.0s\n",
      "[CV] END ........affinity=l1, linkage=complete, n_clusters=5; total time=   0.2s\n",
      "[CV] END ........affinity=l1, linkage=complete, n_clusters=5; total time=   0.3s\n",
      "[CV] END ........affinity=l1, linkage=complete, n_clusters=5; total time=   0.3s\n",
      "[CV] END .........affinity=l1, linkage=average, n_clusters=6; total time=   0.2s\n",
      "[CV] END .........affinity=l1, linkage=average, n_clusters=6; total time=   0.2s\n",
      "[CV] END .........affinity=l1, linkage=average, n_clusters=6; total time=   0.2s\n",
      "[CV] END .affinity=manhattan, linkage=complete, n_clusters=9; total time=   0.2s\n",
      "[CV] END .affinity=manhattan, linkage=complete, n_clusters=9; total time=   0.3s\n",
      "[CV] END .affinity=manhattan, linkage=complete, n_clusters=9; total time=   0.3s\n",
      "[CV] END .........affinity=l2, linkage=average, n_clusters=3; total time=   0.3s\n",
      "[CV] END .........affinity=l2, linkage=average, n_clusters=3; total time=   0.3s\n",
      "[CV] END .........affinity=l2, linkage=average, n_clusters=3; total time=   0.3s\n",
      "[CV] END .....affinity=cosine, linkage=average, n_clusters=3; total time=   0.2s\n",
      "[CV] END .....affinity=cosine, linkage=average, n_clusters=3; total time=   0.2s\n",
      "[CV] END .....affinity=cosine, linkage=average, n_clusters=3; total time=   0.2s\n",
      "[CV] END .affinity=euclidean, linkage=complete, n_clusters=4; total time=   0.3s\n",
      "[CV] END .affinity=euclidean, linkage=complete, n_clusters=4; total time=   0.3s\n",
      "[CV] END .affinity=euclidean, linkage=complete, n_clusters=4; total time=   0.3s\n",
      "[CV] END ........affinity=cosine, linkage=ward, n_clusters=4; total time=   0.0s\n",
      "[CV] END ........affinity=cosine, linkage=ward, n_clusters=4; total time=   0.0s\n",
      "[CV] END ........affinity=cosine, linkage=ward, n_clusters=4; total time=   0.0s\n",
      "[CV] END ............affinity=l2, linkage=ward, n_clusters=4; total time=   0.0s\n",
      "[CV] END ............affinity=l2, linkage=ward, n_clusters=4; total time=   0.0s\n",
      "[CV] END ............affinity=l2, linkage=ward, n_clusters=4; total time=   0.0s\n",
      "[CV] END ..........affinity=l2, linkage=single, n_clusters=8; total time=   0.0s\n",
      "[CV] END ..........affinity=l2, linkage=single, n_clusters=8; total time=   0.0s\n",
      "[CV] END ..........affinity=l2, linkage=single, n_clusters=8; total time=   0.0s\n",
      "[CV] END ...affinity=euclidean, linkage=single, n_clusters=5; total time=   0.0s\n",
      "[CV] END ...affinity=euclidean, linkage=single, n_clusters=5; total time=   0.0s\n",
      "[CV] END ...affinity=euclidean, linkage=single, n_clusters=5; total time=   0.0s\n",
      "[CV] END ........affinity=l2, linkage=complete, n_clusters=6; total time=   0.3s\n",
      "[CV] END ........affinity=l2, linkage=complete, n_clusters=6; total time=   0.3s\n",
      "[CV] END ........affinity=l2, linkage=complete, n_clusters=6; total time=   0.3s\n",
      "[CV] END ............affinity=l1, linkage=ward, n_clusters=3; total time=   0.0s\n",
      "[CV] END ............affinity=l1, linkage=ward, n_clusters=3; total time=   0.0s\n",
      "[CV] END ............affinity=l1, linkage=ward, n_clusters=3; total time=   0.0s\n",
      "[CV] END ..affinity=manhattan, linkage=average, n_clusters=8; total time=   0.2s\n",
      "[CV] END ..affinity=manhattan, linkage=average, n_clusters=8; total time=   0.2s\n",
      "[CV] END ..affinity=manhattan, linkage=average, n_clusters=8; total time=   0.2s\n",
      "[CV] END ...affinity=euclidean, linkage=single, n_clusters=2; total time=   0.0s\n",
      "[CV] END ...affinity=euclidean, linkage=single, n_clusters=2; total time=   0.0s\n",
      "[CV] END ...affinity=euclidean, linkage=single, n_clusters=2; total time=   0.0s\n",
      "[CV] END ........affinity=l2, linkage=complete, n_clusters=8; total time=   0.3s\n",
      "[CV] END ........affinity=l2, linkage=complete, n_clusters=8; total time=   0.3s\n",
      "[CV] END ........affinity=l2, linkage=complete, n_clusters=8; total time=   0.3s\n",
      "[CV] END ............affinity=l2, linkage=ward, n_clusters=9; total time=   0.0s\n",
      "[CV] END ............affinity=l2, linkage=ward, n_clusters=9; total time=   0.0s\n",
      "[CV] END ............affinity=l2, linkage=ward, n_clusters=9; total time=   0.0s\n",
      "[CV] END .........affinity=l2, linkage=average, n_clusters=5; total time=   0.3s\n",
      "[CV] END .........affinity=l2, linkage=average, n_clusters=5; total time=   0.3s\n",
      "[CV] END .........affinity=l2, linkage=average, n_clusters=5; total time=   0.3s\n",
      "[CV] END ............affinity=l2, linkage=ward, n_clusters=6; total time=   0.0s\n",
      "[CV] END ............affinity=l2, linkage=ward, n_clusters=6; total time=   0.0s\n",
      "[CV] END ............affinity=l2, linkage=ward, n_clusters=6; total time=   0.0s\n",
      "[CV] END ....affinity=cosine, linkage=complete, n_clusters=2; total time=   0.2s\n",
      "[CV] END ....affinity=cosine, linkage=complete, n_clusters=2; total time=   0.2s\n",
      "[CV] END ....affinity=cosine, linkage=complete, n_clusters=2; total time=   0.2s\n",
      "[CV] END .........affinity=l1, linkage=average, n_clusters=4; total time=   0.2s\n",
      "[CV] END .........affinity=l1, linkage=average, n_clusters=4; total time=   0.2s\n",
      "[CV] END .........affinity=l1, linkage=average, n_clusters=4; total time=   0.3s\n",
      "[CV] END ..........affinity=l2, linkage=single, n_clusters=6; total time=   0.0s\n",
      "[CV] END ..........affinity=l2, linkage=single, n_clusters=6; total time=   0.0s\n",
      "[CV] END ..........affinity=l2, linkage=single, n_clusters=6; total time=   0.0s\n",
      "[CV] END ...affinity=manhattan, linkage=single, n_clusters=8; total time=   0.0s\n",
      "[CV] END ...affinity=manhattan, linkage=single, n_clusters=8; total time=   0.0s\n",
      "[CV] END ...affinity=manhattan, linkage=single, n_clusters=8; total time=   0.0s\n",
      "[CV] END ......affinity=cosine, linkage=single, n_clusters=8; total time=   0.0s\n",
      "[CV] END ......affinity=cosine, linkage=single, n_clusters=8; total time=   0.0s\n",
      "[CV] END ......affinity=cosine, linkage=single, n_clusters=8; total time=   0.0s\n",
      "[CV] END ..affinity=manhattan, linkage=average, n_clusters=2; total time=   0.2s\n",
      "[CV] END ..affinity=manhattan, linkage=average, n_clusters=2; total time=   0.2s\n",
      "[CV] END ..affinity=manhattan, linkage=average, n_clusters=2; total time=   0.2s\n",
      "[CV] END .affinity=euclidean, linkage=complete, n_clusters=7; total time=   0.3s\n",
      "[CV] END .affinity=euclidean, linkage=complete, n_clusters=7; total time=   0.3s\n",
      "[CV] END .affinity=euclidean, linkage=complete, n_clusters=7; total time=   0.3s\n",
      "[CV] END ........affinity=l2, linkage=complete, n_clusters=2; total time=   0.3s\n",
      "[CV] END ........affinity=l2, linkage=complete, n_clusters=2; total time=   0.3s\n",
      "[CV] END ........affinity=l2, linkage=complete, n_clusters=2; total time=   0.3s\n"
     ]
    },
    {
     "data": {
      "text/html": [
       "<style>#sk-container-id-1 {color: black;background-color: white;}#sk-container-id-1 pre{padding: 0;}#sk-container-id-1 div.sk-toggleable {background-color: white;}#sk-container-id-1 label.sk-toggleable__label {cursor: pointer;display: block;width: 100%;margin-bottom: 0;padding: 0.3em;box-sizing: border-box;text-align: center;}#sk-container-id-1 label.sk-toggleable__label-arrow:before {content: \"▸\";float: left;margin-right: 0.25em;color: #696969;}#sk-container-id-1 label.sk-toggleable__label-arrow:hover:before {color: black;}#sk-container-id-1 div.sk-estimator:hover label.sk-toggleable__label-arrow:before {color: black;}#sk-container-id-1 div.sk-toggleable__content {max-height: 0;max-width: 0;overflow: hidden;text-align: left;background-color: #f0f8ff;}#sk-container-id-1 div.sk-toggleable__content pre {margin: 0.2em;color: black;border-radius: 0.25em;background-color: #f0f8ff;}#sk-container-id-1 input.sk-toggleable__control:checked~div.sk-toggleable__content {max-height: 200px;max-width: 100%;overflow: auto;}#sk-container-id-1 input.sk-toggleable__control:checked~label.sk-toggleable__label-arrow:before {content: \"▾\";}#sk-container-id-1 div.sk-estimator input.sk-toggleable__control:checked~label.sk-toggleable__label {background-color: #d4ebff;}#sk-container-id-1 div.sk-label input.sk-toggleable__control:checked~label.sk-toggleable__label {background-color: #d4ebff;}#sk-container-id-1 input.sk-hidden--visually {border: 0;clip: rect(1px 1px 1px 1px);clip: rect(1px, 1px, 1px, 1px);height: 1px;margin: -1px;overflow: hidden;padding: 0;position: absolute;width: 1px;}#sk-container-id-1 div.sk-estimator {font-family: monospace;background-color: #f0f8ff;border: 1px dotted black;border-radius: 0.25em;box-sizing: border-box;margin-bottom: 0.5em;}#sk-container-id-1 div.sk-estimator:hover {background-color: #d4ebff;}#sk-container-id-1 div.sk-parallel-item::after {content: \"\";width: 100%;border-bottom: 1px solid gray;flex-grow: 1;}#sk-container-id-1 div.sk-label:hover label.sk-toggleable__label {background-color: #d4ebff;}#sk-container-id-1 div.sk-serial::before {content: \"\";position: absolute;border-left: 1px solid gray;box-sizing: border-box;top: 0;bottom: 0;left: 50%;z-index: 0;}#sk-container-id-1 div.sk-serial {display: flex;flex-direction: column;align-items: center;background-color: white;padding-right: 0.2em;padding-left: 0.2em;position: relative;}#sk-container-id-1 div.sk-item {position: relative;z-index: 1;}#sk-container-id-1 div.sk-parallel {display: flex;align-items: stretch;justify-content: center;background-color: white;position: relative;}#sk-container-id-1 div.sk-item::before, #sk-container-id-1 div.sk-parallel-item::before {content: \"\";position: absolute;border-left: 1px solid gray;box-sizing: border-box;top: 0;bottom: 0;left: 50%;z-index: -1;}#sk-container-id-1 div.sk-parallel-item {display: flex;flex-direction: column;z-index: 1;position: relative;background-color: white;}#sk-container-id-1 div.sk-parallel-item:first-child::after {align-self: flex-end;width: 50%;}#sk-container-id-1 div.sk-parallel-item:last-child::after {align-self: flex-start;width: 50%;}#sk-container-id-1 div.sk-parallel-item:only-child::after {width: 0;}#sk-container-id-1 div.sk-dashed-wrapped {border: 1px dashed gray;margin: 0 0.4em 0.5em 0.4em;box-sizing: border-box;padding-bottom: 0.4em;background-color: white;}#sk-container-id-1 div.sk-label label {font-family: monospace;font-weight: bold;display: inline-block;line-height: 1.2em;}#sk-container-id-1 div.sk-label-container {text-align: center;}#sk-container-id-1 div.sk-container {/* jupyter's `normalize.less` sets `[hidden] { display: none; }` but bootstrap.min.css set `[hidden] { display: none !important; }` so we also need the `!important` here to be able to override the default hidden behavior on the sphinx rendered scikit-learn.org. See: https://github.com/scikit-learn/scikit-learn/issues/21755 */display: inline-block !important;position: relative;}#sk-container-id-1 div.sk-text-repr-fallback {display: none;}</style><div id=\"sk-container-id-1\" class=\"sk-top-container\"><div class=\"sk-text-repr-fallback\"><pre>RandomizedSearchCV(cv=3, estimator=AgglomerativeClustering(), n_iter=100,\n",
       "                   param_distributions={&#x27;affinity&#x27;: [&#x27;euclidean&#x27;, &#x27;l1&#x27;, &#x27;l2&#x27;,\n",
       "                                                     &#x27;manhattan&#x27;, &#x27;cosine&#x27;],\n",
       "                                        &#x27;linkage&#x27;: [&#x27;single&#x27;, &#x27;complete&#x27;,\n",
       "                                                    &#x27;average&#x27;, &#x27;ward&#x27;],\n",
       "                                        &#x27;n_clusters&#x27;: range(2, 10)},\n",
       "                   random_state=100, scoring=&#x27;adjusted_rand_score&#x27;, verbose=2)</pre><b>In a Jupyter environment, please rerun this cell to show the HTML representation or trust the notebook. <br />On GitHub, the HTML representation is unable to render, please try loading this page with nbviewer.org.</b></div><div class=\"sk-container\" hidden><div class=\"sk-item sk-dashed-wrapped\"><div class=\"sk-label-container\"><div class=\"sk-label sk-toggleable\"><input class=\"sk-toggleable__control sk-hidden--visually\" id=\"sk-estimator-id-1\" type=\"checkbox\" ><label for=\"sk-estimator-id-1\" class=\"sk-toggleable__label sk-toggleable__label-arrow\">RandomizedSearchCV</label><div class=\"sk-toggleable__content\"><pre>RandomizedSearchCV(cv=3, estimator=AgglomerativeClustering(), n_iter=100,\n",
       "                   param_distributions={&#x27;affinity&#x27;: [&#x27;euclidean&#x27;, &#x27;l1&#x27;, &#x27;l2&#x27;,\n",
       "                                                     &#x27;manhattan&#x27;, &#x27;cosine&#x27;],\n",
       "                                        &#x27;linkage&#x27;: [&#x27;single&#x27;, &#x27;complete&#x27;,\n",
       "                                                    &#x27;average&#x27;, &#x27;ward&#x27;],\n",
       "                                        &#x27;n_clusters&#x27;: range(2, 10)},\n",
       "                   random_state=100, scoring=&#x27;adjusted_rand_score&#x27;, verbose=2)</pre></div></div></div><div class=\"sk-parallel\"><div class=\"sk-parallel-item\"><div class=\"sk-item\"><div class=\"sk-label-container\"><div class=\"sk-label sk-toggleable\"><input class=\"sk-toggleable__control sk-hidden--visually\" id=\"sk-estimator-id-2\" type=\"checkbox\" ><label for=\"sk-estimator-id-2\" class=\"sk-toggleable__label sk-toggleable__label-arrow\">estimator: AgglomerativeClustering</label><div class=\"sk-toggleable__content\"><pre>AgglomerativeClustering()</pre></div></div></div><div class=\"sk-serial\"><div class=\"sk-item\"><div class=\"sk-estimator sk-toggleable\"><input class=\"sk-toggleable__control sk-hidden--visually\" id=\"sk-estimator-id-3\" type=\"checkbox\" ><label for=\"sk-estimator-id-3\" class=\"sk-toggleable__label sk-toggleable__label-arrow\">AgglomerativeClustering</label><div class=\"sk-toggleable__content\"><pre>AgglomerativeClustering()</pre></div></div></div></div></div></div></div></div></div></div>"
      ],
      "text/plain": [
       "RandomizedSearchCV(cv=3, estimator=AgglomerativeClustering(), n_iter=100,\n",
       "                   param_distributions={'affinity': ['euclidean', 'l1', 'l2',\n",
       "                                                     'manhattan', 'cosine'],\n",
       "                                        'linkage': ['single', 'complete',\n",
       "                                                    'average', 'ward'],\n",
       "                                        'n_clusters': range(2, 10)},\n",
       "                   random_state=100, scoring='adjusted_rand_score', verbose=2)"
      ]
     },
     "execution_count": 35,
     "metadata": {},
     "output_type": "execute_result"
    }
   ],
   "source": [
    "link.fit(data_minmax)"
   ]
  },
  {
   "cell_type": "code",
   "execution_count": 36,
   "id": "0e34cc96",
   "metadata": {
    "scrolled": true
   },
   "outputs": [
    {
     "data": {
      "text/plain": [
       "{'n_clusters': 7, 'linkage': 'complete', 'affinity': 'l1'}"
      ]
     },
     "execution_count": 36,
     "metadata": {},
     "output_type": "execute_result"
    }
   ],
   "source": [
    "link.best_params_"
   ]
  },
  {
   "cell_type": "code",
   "execution_count": 37,
   "id": "140c3031",
   "metadata": {},
   "outputs": [
    {
     "name": "stdout",
     "output_type": "stream",
     "text": [
      "Fitting 3 folds for each of 100 candidates, totalling 300 fits\n",
      "[CV] END ........affinity=l1, linkage=complete, n_clusters=7; total time=   0.3s\n",
      "[CV] END ........affinity=l1, linkage=complete, n_clusters=7; total time=   0.4s\n",
      "[CV] END ........affinity=l1, linkage=complete, n_clusters=7; total time=   0.2s\n",
      "[CV] END .affinity=euclidean, linkage=complete, n_clusters=5; total time=   0.3s\n",
      "[CV] END .affinity=euclidean, linkage=complete, n_clusters=5; total time=   0.3s\n",
      "[CV] END .affinity=euclidean, linkage=complete, n_clusters=5; total time=   0.3s\n",
      "[CV] END ......affinity=cosine, linkage=single, n_clusters=2; total time=   0.0s\n",
      "[CV] END ......affinity=cosine, linkage=single, n_clusters=2; total time=   0.0s\n",
      "[CV] END ......affinity=cosine, linkage=single, n_clusters=2; total time=   0.0s\n",
      "[CV] END .affinity=euclidean, linkage=complete, n_clusters=9; total time=   0.3s\n",
      "[CV] END .affinity=euclidean, linkage=complete, n_clusters=9; total time=   0.3s\n",
      "[CV] END .affinity=euclidean, linkage=complete, n_clusters=9; total time=   0.3s\n",
      "[CV] END ...affinity=euclidean, linkage=single, n_clusters=9; total time=   0.0s\n",
      "[CV] END ...affinity=euclidean, linkage=single, n_clusters=9; total time=   0.0s\n",
      "[CV] END ...affinity=euclidean, linkage=single, n_clusters=9; total time=   0.0s\n",
      "[CV] END ..affinity=manhattan, linkage=average, n_clusters=5; total time=   0.2s\n",
      "[CV] END ..affinity=manhattan, linkage=average, n_clusters=5; total time=   0.2s\n",
      "[CV] END ..affinity=manhattan, linkage=average, n_clusters=5; total time=   0.2s\n",
      "[CV] END .....affinity=manhattan, linkage=ward, n_clusters=2; total time=   0.0s\n",
      "[CV] END .....affinity=manhattan, linkage=ward, n_clusters=2; total time=   0.0s\n",
      "[CV] END .....affinity=manhattan, linkage=ward, n_clusters=2; total time=   0.0s\n",
      "[CV] END ...affinity=euclidean, linkage=single, n_clusters=3; total time=   0.0s\n",
      "[CV] END ...affinity=euclidean, linkage=single, n_clusters=3; total time=   0.0s\n",
      "[CV] END ...affinity=euclidean, linkage=single, n_clusters=3; total time=   0.0s\n",
      "[CV] END .affinity=manhattan, linkage=complete, n_clusters=2; total time=   0.2s\n",
      "[CV] END .affinity=manhattan, linkage=complete, n_clusters=2; total time=   0.3s\n",
      "[CV] END .affinity=manhattan, linkage=complete, n_clusters=2; total time=   0.2s\n",
      "[CV] END .........affinity=l1, linkage=average, n_clusters=5; total time=   0.2s\n",
      "[CV] END .........affinity=l1, linkage=average, n_clusters=5; total time=   0.2s\n",
      "[CV] END .........affinity=l1, linkage=average, n_clusters=5; total time=   0.2s\n",
      "[CV] END .....affinity=euclidean, linkage=ward, n_clusters=9; total time=   0.3s\n",
      "[CV] END .....affinity=euclidean, linkage=ward, n_clusters=9; total time=   0.3s\n",
      "[CV] END .....affinity=euclidean, linkage=ward, n_clusters=9; total time=   0.3s\n",
      "[CV] END ........affinity=l2, linkage=complete, n_clusters=3; total time=   0.3s\n",
      "[CV] END ........affinity=l2, linkage=complete, n_clusters=3; total time=   0.3s\n",
      "[CV] END ........affinity=l2, linkage=complete, n_clusters=3; total time=   0.3s\n",
      "[CV] END .....affinity=euclidean, linkage=ward, n_clusters=4; total time=   0.3s\n",
      "[CV] END .....affinity=euclidean, linkage=ward, n_clusters=4; total time=   0.3s\n",
      "[CV] END .....affinity=euclidean, linkage=ward, n_clusters=4; total time=   0.3s\n",
      "[CV] END .....affinity=euclidean, linkage=ward, n_clusters=7; total time=   0.3s\n",
      "[CV] END .....affinity=euclidean, linkage=ward, n_clusters=7; total time=   0.3s\n",
      "[CV] END .....affinity=euclidean, linkage=ward, n_clusters=7; total time=   0.3s\n",
      "[CV] END ...affinity=manhattan, linkage=single, n_clusters=5; total time=   0.0s\n",
      "[CV] END ...affinity=manhattan, linkage=single, n_clusters=5; total time=   0.0s\n",
      "[CV] END ...affinity=manhattan, linkage=single, n_clusters=5; total time=   0.0s\n",
      "[CV] END ............affinity=l2, linkage=ward, n_clusters=2; total time=   0.0s\n",
      "[CV] END ............affinity=l2, linkage=ward, n_clusters=2; total time=   0.0s\n",
      "[CV] END ............affinity=l2, linkage=ward, n_clusters=2; total time=   0.0s\n",
      "[CV] END ........affinity=l1, linkage=complete, n_clusters=3; total time=   0.2s\n",
      "[CV] END ........affinity=l1, linkage=complete, n_clusters=3; total time=   0.3s\n",
      "[CV] END ........affinity=l1, linkage=complete, n_clusters=3; total time=   0.2s\n",
      "[CV] END ........affinity=l1, linkage=complete, n_clusters=2; total time=   0.2s\n",
      "[CV] END ........affinity=l1, linkage=complete, n_clusters=2; total time=   0.3s\n",
      "[CV] END ........affinity=l1, linkage=complete, n_clusters=2; total time=   0.2s\n",
      "[CV] END ............affinity=l1, linkage=ward, n_clusters=5; total time=   0.0s\n",
      "[CV] END ............affinity=l1, linkage=ward, n_clusters=5; total time=   0.0s\n",
      "[CV] END ............affinity=l1, linkage=ward, n_clusters=5; total time=   0.0s\n",
      "[CV] END .....affinity=manhattan, linkage=ward, n_clusters=4; total time=   0.0s\n",
      "[CV] END .....affinity=manhattan, linkage=ward, n_clusters=4; total time=   0.0s\n",
      "[CV] END .....affinity=manhattan, linkage=ward, n_clusters=4; total time=   0.0s\n",
      "[CV] END .........affinity=l1, linkage=average, n_clusters=8; total time=   0.2s\n",
      "[CV] END .........affinity=l1, linkage=average, n_clusters=8; total time=   0.2s\n",
      "[CV] END .........affinity=l1, linkage=average, n_clusters=8; total time=   0.2s\n",
      "[CV] END ..........affinity=l1, linkage=single, n_clusters=2; total time=   0.0s\n",
      "[CV] END ..........affinity=l1, linkage=single, n_clusters=2; total time=   0.0s\n",
      "[CV] END ..........affinity=l1, linkage=single, n_clusters=2; total time=   0.0s\n",
      "[CV] END .........affinity=l2, linkage=average, n_clusters=7; total time=   0.3s\n",
      "[CV] END .........affinity=l2, linkage=average, n_clusters=7; total time=   0.3s\n",
      "[CV] END .........affinity=l2, linkage=average, n_clusters=7; total time=   0.3s\n",
      "[CV] END .....affinity=cosine, linkage=average, n_clusters=7; total time=   0.2s\n",
      "[CV] END .....affinity=cosine, linkage=average, n_clusters=7; total time=   0.2s\n",
      "[CV] END .....affinity=cosine, linkage=average, n_clusters=7; total time=   0.2s\n",
      "[CV] END ........affinity=l1, linkage=complete, n_clusters=8; total time=   0.2s\n",
      "[CV] END ........affinity=l1, linkage=complete, n_clusters=8; total time=   0.3s\n",
      "[CV] END ........affinity=l1, linkage=complete, n_clusters=8; total time=   0.2s\n",
      "[CV] END ........affinity=cosine, linkage=ward, n_clusters=9; total time=   0.0s\n",
      "[CV] END ........affinity=cosine, linkage=ward, n_clusters=9; total time=   0.0s\n",
      "[CV] END ........affinity=cosine, linkage=ward, n_clusters=9; total time=   0.0s\n",
      "[CV] END .....affinity=manhattan, linkage=ward, n_clusters=6; total time=   0.0s\n",
      "[CV] END .....affinity=manhattan, linkage=ward, n_clusters=6; total time=   0.0s\n",
      "[CV] END .....affinity=manhattan, linkage=ward, n_clusters=6; total time=   0.0s\n",
      "[CV] END ..affinity=euclidean, linkage=average, n_clusters=6; total time=   0.3s\n",
      "[CV] END ..affinity=euclidean, linkage=average, n_clusters=6; total time=   0.3s\n",
      "[CV] END ..affinity=euclidean, linkage=average, n_clusters=6; total time=   0.3s\n",
      "[CV] END .....affinity=euclidean, linkage=ward, n_clusters=6; total time=   0.3s\n",
      "[CV] END .....affinity=euclidean, linkage=ward, n_clusters=6; total time=   0.3s\n",
      "[CV] END .....affinity=euclidean, linkage=ward, n_clusters=6; total time=   0.3s\n",
      "[CV] END ........affinity=l2, linkage=complete, n_clusters=7; total time=   0.3s\n",
      "[CV] END ........affinity=l2, linkage=complete, n_clusters=7; total time=   0.3s\n",
      "[CV] END ........affinity=l2, linkage=complete, n_clusters=7; total time=   0.3s\n",
      "[CV] END ......affinity=cosine, linkage=single, n_clusters=9; total time=   0.0s\n",
      "[CV] END ......affinity=cosine, linkage=single, n_clusters=9; total time=   0.0s\n",
      "[CV] END ......affinity=cosine, linkage=single, n_clusters=9; total time=   0.0s\n",
      "[CV] END ....affinity=cosine, linkage=complete, n_clusters=5; total time=   0.2s\n",
      "[CV] END ....affinity=cosine, linkage=complete, n_clusters=5; total time=   0.3s\n",
      "[CV] END ....affinity=cosine, linkage=complete, n_clusters=5; total time=   0.3s\n",
      "[CV] END .affinity=manhattan, linkage=complete, n_clusters=4; total time=   0.2s\n",
      "[CV] END .affinity=manhattan, linkage=complete, n_clusters=4; total time=   0.3s\n",
      "[CV] END .affinity=manhattan, linkage=complete, n_clusters=4; total time=   0.2s\n",
      "[CV] END ..........affinity=l2, linkage=single, n_clusters=3; total time=   0.0s\n",
      "[CV] END ..........affinity=l2, linkage=single, n_clusters=3; total time=   0.0s\n",
      "[CV] END ..........affinity=l2, linkage=single, n_clusters=3; total time=   0.0s\n",
      "[CV] END .affinity=euclidean, linkage=complete, n_clusters=6; total time=   0.3s\n",
      "[CV] END .affinity=euclidean, linkage=complete, n_clusters=6; total time=   0.3s\n",
      "[CV] END .affinity=euclidean, linkage=complete, n_clusters=6; total time=   0.3s\n",
      "[CV] END ..affinity=euclidean, linkage=average, n_clusters=2; total time=   0.3s\n",
      "[CV] END ..affinity=euclidean, linkage=average, n_clusters=2; total time=   0.3s\n",
      "[CV] END ..affinity=euclidean, linkage=average, n_clusters=2; total time=   0.3s\n",
      "[CV] END ............affinity=l1, linkage=ward, n_clusters=8; total time=   0.0s\n",
      "[CV] END ............affinity=l1, linkage=ward, n_clusters=8; total time=   0.0s\n",
      "[CV] END ............affinity=l1, linkage=ward, n_clusters=8; total time=   0.0s\n",
      "[CV] END ........affinity=cosine, linkage=ward, n_clusters=3; total time=   0.0s\n",
      "[CV] END ........affinity=cosine, linkage=ward, n_clusters=3; total time=   0.0s\n",
      "[CV] END ........affinity=cosine, linkage=ward, n_clusters=3; total time=   0.0s\n",
      "[CV] END ..affinity=manhattan, linkage=average, n_clusters=3; total time=   0.2s\n",
      "[CV] END ..affinity=manhattan, linkage=average, n_clusters=3; total time=   0.2s\n",
      "[CV] END ..affinity=manhattan, linkage=average, n_clusters=3; total time=   0.2s\n",
      "[CV] END ...affinity=manhattan, linkage=single, n_clusters=2; total time=   0.0s\n",
      "[CV] END ...affinity=manhattan, linkage=single, n_clusters=2; total time=   0.0s\n",
      "[CV] END ...affinity=manhattan, linkage=single, n_clusters=2; total time=   0.0s\n",
      "[CV] END .....affinity=cosine, linkage=average, n_clusters=4; total time=   0.2s\n",
      "[CV] END .....affinity=cosine, linkage=average, n_clusters=4; total time=   0.2s\n",
      "[CV] END .....affinity=cosine, linkage=average, n_clusters=4; total time=   0.2s\n",
      "[CV] END .....affinity=manhattan, linkage=ward, n_clusters=7; total time=   0.0s\n",
      "[CV] END .....affinity=manhattan, linkage=ward, n_clusters=7; total time=   0.0s\n",
      "[CV] END .....affinity=manhattan, linkage=ward, n_clusters=7; total time=   0.0s\n",
      "[CV] END .....affinity=cosine, linkage=average, n_clusters=2; total time=   0.2s\n",
      "[CV] END .....affinity=cosine, linkage=average, n_clusters=2; total time=   0.2s\n",
      "[CV] END .....affinity=cosine, linkage=average, n_clusters=2; total time=   0.2s\n",
      "[CV] END ...affinity=manhattan, linkage=single, n_clusters=3; total time=   0.0s\n",
      "[CV] END ...affinity=manhattan, linkage=single, n_clusters=3; total time=   0.0s\n",
      "[CV] END ...affinity=manhattan, linkage=single, n_clusters=3; total time=   0.0s\n",
      "[CV] END ...affinity=manhattan, linkage=single, n_clusters=7; total time=   0.0s\n",
      "[CV] END ...affinity=manhattan, linkage=single, n_clusters=7; total time=   0.0s\n",
      "[CV] END ...affinity=manhattan, linkage=single, n_clusters=7; total time=   0.0s\n",
      "[CV] END .affinity=manhattan, linkage=complete, n_clusters=7; total time=   0.2s\n",
      "[CV] END .affinity=manhattan, linkage=complete, n_clusters=7; total time=   0.3s\n",
      "[CV] END .affinity=manhattan, linkage=complete, n_clusters=7; total time=   0.2s\n",
      "[CV] END .........affinity=l2, linkage=average, n_clusters=4; total time=   0.3s\n",
      "[CV] END .........affinity=l2, linkage=average, n_clusters=4; total time=   0.3s\n",
      "[CV] END .........affinity=l2, linkage=average, n_clusters=4; total time=   0.3s\n",
      "[CV] END ..........affinity=l1, linkage=single, n_clusters=7; total time=   0.0s\n",
      "[CV] END ..........affinity=l1, linkage=single, n_clusters=7; total time=   0.0s\n",
      "[CV] END ..........affinity=l1, linkage=single, n_clusters=7; total time=   0.0s\n",
      "[CV] END ...affinity=euclidean, linkage=single, n_clusters=8; total time=   0.0s\n",
      "[CV] END ...affinity=euclidean, linkage=single, n_clusters=8; total time=   0.0s\n",
      "[CV] END ...affinity=euclidean, linkage=single, n_clusters=8; total time=   0.0s\n",
      "[CV] END .....affinity=euclidean, linkage=ward, n_clusters=3; total time=   0.3s\n",
      "[CV] END .....affinity=euclidean, linkage=ward, n_clusters=3; total time=   0.3s\n",
      "[CV] END .....affinity=euclidean, linkage=ward, n_clusters=3; total time=   0.3s\n",
      "[CV] END ..affinity=euclidean, linkage=average, n_clusters=7; total time=   0.3s\n",
      "[CV] END ..affinity=euclidean, linkage=average, n_clusters=7; total time=   0.3s\n",
      "[CV] END ..affinity=euclidean, linkage=average, n_clusters=7; total time=   0.3s\n",
      "[CV] END ........affinity=l2, linkage=complete, n_clusters=5; total time=   0.3s\n",
      "[CV] END ........affinity=l2, linkage=complete, n_clusters=5; total time=   0.3s\n",
      "[CV] END ........affinity=l2, linkage=complete, n_clusters=5; total time=   0.3s\n",
      "[CV] END .........affinity=l2, linkage=average, n_clusters=6; total time=   0.3s\n",
      "[CV] END .........affinity=l2, linkage=average, n_clusters=6; total time=   0.3s\n",
      "[CV] END .........affinity=l2, linkage=average, n_clusters=6; total time=   0.3s\n",
      "[CV] END .affinity=euclidean, linkage=complete, n_clusters=3; total time=   0.3s\n",
      "[CV] END .affinity=euclidean, linkage=complete, n_clusters=3; total time=   0.3s\n",
      "[CV] END .affinity=euclidean, linkage=complete, n_clusters=3; total time=   0.3s\n",
      "[CV] END ..affinity=euclidean, linkage=average, n_clusters=9; total time=   0.3s\n",
      "[CV] END ..affinity=euclidean, linkage=average, n_clusters=9; total time=   0.3s\n",
      "[CV] END ..affinity=euclidean, linkage=average, n_clusters=9; total time=   0.3s\n",
      "[CV] END ..........affinity=l1, linkage=single, n_clusters=5; total time=   0.0s\n",
      "[CV] END ..........affinity=l1, linkage=single, n_clusters=5; total time=   0.0s\n",
      "[CV] END ..........affinity=l1, linkage=single, n_clusters=5; total time=   0.0s\n",
      "[CV] END ..affinity=manhattan, linkage=average, n_clusters=7; total time=   0.2s\n",
      "[CV] END ..affinity=manhattan, linkage=average, n_clusters=7; total time=   0.2s\n",
      "[CV] END ..affinity=manhattan, linkage=average, n_clusters=7; total time=   0.2s\n",
      "[CV] END ....affinity=cosine, linkage=complete, n_clusters=6; total time=   0.2s\n",
      "[CV] END ....affinity=cosine, linkage=complete, n_clusters=6; total time=   0.3s\n",
      "[CV] END ....affinity=cosine, linkage=complete, n_clusters=6; total time=   0.3s\n",
      "[CV] END ......affinity=cosine, linkage=single, n_clusters=7; total time=   0.0s\n",
      "[CV] END ......affinity=cosine, linkage=single, n_clusters=7; total time=   0.0s\n",
      "[CV] END ......affinity=cosine, linkage=single, n_clusters=7; total time=   0.0s\n",
      "[CV] END ............affinity=l2, linkage=ward, n_clusters=3; total time=   0.0s\n",
      "[CV] END ............affinity=l2, linkage=ward, n_clusters=3; total time=   0.0s\n",
      "[CV] END ............affinity=l2, linkage=ward, n_clusters=3; total time=   0.0s\n",
      "[CV] END ..affinity=manhattan, linkage=average, n_clusters=9; total time=   0.2s\n",
      "[CV] END ..affinity=manhattan, linkage=average, n_clusters=9; total time=   0.2s\n",
      "[CV] END ..affinity=manhattan, linkage=average, n_clusters=9; total time=   0.2s\n",
      "[CV] END ........affinity=cosine, linkage=ward, n_clusters=6; total time=   0.0s\n",
      "[CV] END ........affinity=cosine, linkage=ward, n_clusters=6; total time=   0.0s\n",
      "[CV] END ........affinity=cosine, linkage=ward, n_clusters=6; total time=   0.0s\n",
      "[CV] END .....affinity=manhattan, linkage=ward, n_clusters=9; total time=   0.0s\n",
      "[CV] END .....affinity=manhattan, linkage=ward, n_clusters=9; total time=   0.0s\n",
      "[CV] END .....affinity=manhattan, linkage=ward, n_clusters=9; total time=   0.0s\n",
      "[CV] END ......affinity=cosine, linkage=single, n_clusters=5; total time=   0.0s\n",
      "[CV] END ......affinity=cosine, linkage=single, n_clusters=5; total time=   0.0s\n",
      "[CV] END ......affinity=cosine, linkage=single, n_clusters=5; total time=   0.0s\n",
      "[CV] END ........affinity=cosine, linkage=ward, n_clusters=5; total time=   0.0s\n",
      "[CV] END ........affinity=cosine, linkage=ward, n_clusters=5; total time=   0.0s\n",
      "[CV] END ........affinity=cosine, linkage=ward, n_clusters=5; total time=   0.0s\n",
      "[CV] END ..affinity=euclidean, linkage=average, n_clusters=8; total time=   0.3s\n",
      "[CV] END ..affinity=euclidean, linkage=average, n_clusters=8; total time=   0.3s\n",
      "[CV] END ..affinity=euclidean, linkage=average, n_clusters=8; total time=   0.3s\n",
      "[CV] END ..........affinity=l2, linkage=single, n_clusters=7; total time=   0.0s\n",
      "[CV] END ..........affinity=l2, linkage=single, n_clusters=7; total time=   0.0s\n",
      "[CV] END ..........affinity=l2, linkage=single, n_clusters=7; total time=   0.0s\n",
      "[CV] END ....affinity=cosine, linkage=complete, n_clusters=8; total time=   0.2s\n",
      "[CV] END ....affinity=cosine, linkage=complete, n_clusters=8; total time=   0.3s\n",
      "[CV] END ....affinity=cosine, linkage=complete, n_clusters=8; total time=   0.3s\n",
      "[CV] END ..........affinity=l1, linkage=single, n_clusters=3; total time=   0.0s\n",
      "[CV] END ..........affinity=l1, linkage=single, n_clusters=3; total time=   0.0s\n",
      "[CV] END ..........affinity=l1, linkage=single, n_clusters=3; total time=   0.0s\n",
      "[CV] END ........affinity=l1, linkage=complete, n_clusters=4; total time=   0.2s\n",
      "[CV] END ........affinity=l1, linkage=complete, n_clusters=4; total time=   0.3s\n",
      "[CV] END ........affinity=l1, linkage=complete, n_clusters=4; total time=   0.2s\n",
      "[CV] END ....affinity=cosine, linkage=complete, n_clusters=7; total time=   0.2s\n",
      "[CV] END ....affinity=cosine, linkage=complete, n_clusters=7; total time=   0.3s\n",
      "[CV] END ....affinity=cosine, linkage=complete, n_clusters=7; total time=   0.3s\n",
      "[CV] END .....affinity=manhattan, linkage=ward, n_clusters=8; total time=   0.0s\n",
      "[CV] END .....affinity=manhattan, linkage=ward, n_clusters=8; total time=   0.0s\n",
      "[CV] END .....affinity=manhattan, linkage=ward, n_clusters=8; total time=   0.0s\n",
      "[CV] END ...affinity=euclidean, linkage=single, n_clusters=7; total time=   0.0s\n",
      "[CV] END ...affinity=euclidean, linkage=single, n_clusters=7; total time=   0.0s\n",
      "[CV] END ...affinity=euclidean, linkage=single, n_clusters=7; total time=   0.0s\n",
      "[CV] END ..........affinity=l1, linkage=single, n_clusters=6; total time=   0.0s\n",
      "[CV] END ..........affinity=l1, linkage=single, n_clusters=6; total time=   0.0s\n",
      "[CV] END ..........affinity=l1, linkage=single, n_clusters=6; total time=   0.0s\n",
      "[CV] END ........affinity=l1, linkage=complete, n_clusters=5; total time=   0.2s\n",
      "[CV] END ........affinity=l1, linkage=complete, n_clusters=5; total time=   0.3s\n",
      "[CV] END ........affinity=l1, linkage=complete, n_clusters=5; total time=   0.2s\n",
      "[CV] END .........affinity=l1, linkage=average, n_clusters=6; total time=   0.2s\n",
      "[CV] END .........affinity=l1, linkage=average, n_clusters=6; total time=   0.2s\n",
      "[CV] END .........affinity=l1, linkage=average, n_clusters=6; total time=   0.2s\n",
      "[CV] END .affinity=manhattan, linkage=complete, n_clusters=9; total time=   0.2s\n",
      "[CV] END .affinity=manhattan, linkage=complete, n_clusters=9; total time=   0.3s\n",
      "[CV] END .affinity=manhattan, linkage=complete, n_clusters=9; total time=   0.2s\n",
      "[CV] END .........affinity=l2, linkage=average, n_clusters=3; total time=   0.3s\n",
      "[CV] END .........affinity=l2, linkage=average, n_clusters=3; total time=   0.3s\n",
      "[CV] END .........affinity=l2, linkage=average, n_clusters=3; total time=   0.3s\n",
      "[CV] END .....affinity=cosine, linkage=average, n_clusters=3; total time=   0.2s\n",
      "[CV] END .....affinity=cosine, linkage=average, n_clusters=3; total time=   0.2s\n",
      "[CV] END .....affinity=cosine, linkage=average, n_clusters=3; total time=   0.2s\n",
      "[CV] END .affinity=euclidean, linkage=complete, n_clusters=4; total time=   0.3s\n",
      "[CV] END .affinity=euclidean, linkage=complete, n_clusters=4; total time=   0.3s\n",
      "[CV] END .affinity=euclidean, linkage=complete, n_clusters=4; total time=   0.3s\n",
      "[CV] END ........affinity=cosine, linkage=ward, n_clusters=4; total time=   0.0s\n",
      "[CV] END ........affinity=cosine, linkage=ward, n_clusters=4; total time=   0.0s\n",
      "[CV] END ........affinity=cosine, linkage=ward, n_clusters=4; total time=   0.0s\n",
      "[CV] END ............affinity=l2, linkage=ward, n_clusters=4; total time=   0.0s\n",
      "[CV] END ............affinity=l2, linkage=ward, n_clusters=4; total time=   0.0s\n",
      "[CV] END ............affinity=l2, linkage=ward, n_clusters=4; total time=   0.0s\n",
      "[CV] END ..........affinity=l2, linkage=single, n_clusters=8; total time=   0.0s\n",
      "[CV] END ..........affinity=l2, linkage=single, n_clusters=8; total time=   0.0s\n",
      "[CV] END ..........affinity=l2, linkage=single, n_clusters=8; total time=   0.0s\n",
      "[CV] END ...affinity=euclidean, linkage=single, n_clusters=5; total time=   0.0s\n",
      "[CV] END ...affinity=euclidean, linkage=single, n_clusters=5; total time=   0.0s\n",
      "[CV] END ...affinity=euclidean, linkage=single, n_clusters=5; total time=   0.0s\n",
      "[CV] END ........affinity=l2, linkage=complete, n_clusters=6; total time=   0.3s\n",
      "[CV] END ........affinity=l2, linkage=complete, n_clusters=6; total time=   0.3s\n",
      "[CV] END ........affinity=l2, linkage=complete, n_clusters=6; total time=   0.3s\n",
      "[CV] END ............affinity=l1, linkage=ward, n_clusters=3; total time=   0.0s\n",
      "[CV] END ............affinity=l1, linkage=ward, n_clusters=3; total time=   0.0s\n",
      "[CV] END ............affinity=l1, linkage=ward, n_clusters=3; total time=   0.0s\n",
      "[CV] END ..affinity=manhattan, linkage=average, n_clusters=8; total time=   0.2s\n",
      "[CV] END ..affinity=manhattan, linkage=average, n_clusters=8; total time=   0.2s\n",
      "[CV] END ..affinity=manhattan, linkage=average, n_clusters=8; total time=   0.2s\n",
      "[CV] END ...affinity=euclidean, linkage=single, n_clusters=2; total time=   0.0s\n",
      "[CV] END ...affinity=euclidean, linkage=single, n_clusters=2; total time=   0.0s\n",
      "[CV] END ...affinity=euclidean, linkage=single, n_clusters=2; total time=   0.0s\n",
      "[CV] END ........affinity=l2, linkage=complete, n_clusters=8; total time=   0.3s\n",
      "[CV] END ........affinity=l2, linkage=complete, n_clusters=8; total time=   0.3s\n",
      "[CV] END ........affinity=l2, linkage=complete, n_clusters=8; total time=   0.3s\n",
      "[CV] END ............affinity=l2, linkage=ward, n_clusters=9; total time=   0.0s\n",
      "[CV] END ............affinity=l2, linkage=ward, n_clusters=9; total time=   0.0s\n",
      "[CV] END ............affinity=l2, linkage=ward, n_clusters=9; total time=   0.0s\n",
      "[CV] END .........affinity=l2, linkage=average, n_clusters=5; total time=   0.3s\n",
      "[CV] END .........affinity=l2, linkage=average, n_clusters=5; total time=   0.3s\n",
      "[CV] END .........affinity=l2, linkage=average, n_clusters=5; total time=   0.3s\n",
      "[CV] END ............affinity=l2, linkage=ward, n_clusters=6; total time=   0.0s\n",
      "[CV] END ............affinity=l2, linkage=ward, n_clusters=6; total time=   0.0s\n",
      "[CV] END ............affinity=l2, linkage=ward, n_clusters=6; total time=   0.0s\n",
      "[CV] END ....affinity=cosine, linkage=complete, n_clusters=2; total time=   0.2s\n",
      "[CV] END ....affinity=cosine, linkage=complete, n_clusters=2; total time=   0.3s\n",
      "[CV] END ....affinity=cosine, linkage=complete, n_clusters=2; total time=   0.3s\n",
      "[CV] END .........affinity=l1, linkage=average, n_clusters=4; total time=   0.2s\n",
      "[CV] END .........affinity=l1, linkage=average, n_clusters=4; total time=   0.2s\n",
      "[CV] END .........affinity=l1, linkage=average, n_clusters=4; total time=   0.2s\n",
      "[CV] END ..........affinity=l2, linkage=single, n_clusters=6; total time=   0.0s\n",
      "[CV] END ..........affinity=l2, linkage=single, n_clusters=6; total time=   0.0s\n",
      "[CV] END ..........affinity=l2, linkage=single, n_clusters=6; total time=   0.0s\n",
      "[CV] END ...affinity=manhattan, linkage=single, n_clusters=8; total time=   0.0s\n",
      "[CV] END ...affinity=manhattan, linkage=single, n_clusters=8; total time=   0.0s\n",
      "[CV] END ...affinity=manhattan, linkage=single, n_clusters=8; total time=   0.0s\n",
      "[CV] END ......affinity=cosine, linkage=single, n_clusters=8; total time=   0.0s\n",
      "[CV] END ......affinity=cosine, linkage=single, n_clusters=8; total time=   0.0s\n",
      "[CV] END ......affinity=cosine, linkage=single, n_clusters=8; total time=   0.1s\n",
      "[CV] END ..affinity=manhattan, linkage=average, n_clusters=2; total time=   0.2s\n",
      "[CV] END ..affinity=manhattan, linkage=average, n_clusters=2; total time=   0.2s\n",
      "[CV] END ..affinity=manhattan, linkage=average, n_clusters=2; total time=   0.2s\n",
      "[CV] END .affinity=euclidean, linkage=complete, n_clusters=7; total time=   0.3s\n",
      "[CV] END .affinity=euclidean, linkage=complete, n_clusters=7; total time=   0.3s\n",
      "[CV] END .affinity=euclidean, linkage=complete, n_clusters=7; total time=   0.3s\n",
      "[CV] END ........affinity=l2, linkage=complete, n_clusters=2; total time=   0.3s\n",
      "[CV] END ........affinity=l2, linkage=complete, n_clusters=2; total time=   0.3s\n",
      "[CV] END ........affinity=l2, linkage=complete, n_clusters=2; total time=   0.3s\n"
     ]
    },
    {
     "data": {
      "text/html": [
       "<style>#sk-container-id-2 {color: black;background-color: white;}#sk-container-id-2 pre{padding: 0;}#sk-container-id-2 div.sk-toggleable {background-color: white;}#sk-container-id-2 label.sk-toggleable__label {cursor: pointer;display: block;width: 100%;margin-bottom: 0;padding: 0.3em;box-sizing: border-box;text-align: center;}#sk-container-id-2 label.sk-toggleable__label-arrow:before {content: \"▸\";float: left;margin-right: 0.25em;color: #696969;}#sk-container-id-2 label.sk-toggleable__label-arrow:hover:before {color: black;}#sk-container-id-2 div.sk-estimator:hover label.sk-toggleable__label-arrow:before {color: black;}#sk-container-id-2 div.sk-toggleable__content {max-height: 0;max-width: 0;overflow: hidden;text-align: left;background-color: #f0f8ff;}#sk-container-id-2 div.sk-toggleable__content pre {margin: 0.2em;color: black;border-radius: 0.25em;background-color: #f0f8ff;}#sk-container-id-2 input.sk-toggleable__control:checked~div.sk-toggleable__content {max-height: 200px;max-width: 100%;overflow: auto;}#sk-container-id-2 input.sk-toggleable__control:checked~label.sk-toggleable__label-arrow:before {content: \"▾\";}#sk-container-id-2 div.sk-estimator input.sk-toggleable__control:checked~label.sk-toggleable__label {background-color: #d4ebff;}#sk-container-id-2 div.sk-label input.sk-toggleable__control:checked~label.sk-toggleable__label {background-color: #d4ebff;}#sk-container-id-2 input.sk-hidden--visually {border: 0;clip: rect(1px 1px 1px 1px);clip: rect(1px, 1px, 1px, 1px);height: 1px;margin: -1px;overflow: hidden;padding: 0;position: absolute;width: 1px;}#sk-container-id-2 div.sk-estimator {font-family: monospace;background-color: #f0f8ff;border: 1px dotted black;border-radius: 0.25em;box-sizing: border-box;margin-bottom: 0.5em;}#sk-container-id-2 div.sk-estimator:hover {background-color: #d4ebff;}#sk-container-id-2 div.sk-parallel-item::after {content: \"\";width: 100%;border-bottom: 1px solid gray;flex-grow: 1;}#sk-container-id-2 div.sk-label:hover label.sk-toggleable__label {background-color: #d4ebff;}#sk-container-id-2 div.sk-serial::before {content: \"\";position: absolute;border-left: 1px solid gray;box-sizing: border-box;top: 0;bottom: 0;left: 50%;z-index: 0;}#sk-container-id-2 div.sk-serial {display: flex;flex-direction: column;align-items: center;background-color: white;padding-right: 0.2em;padding-left: 0.2em;position: relative;}#sk-container-id-2 div.sk-item {position: relative;z-index: 1;}#sk-container-id-2 div.sk-parallel {display: flex;align-items: stretch;justify-content: center;background-color: white;position: relative;}#sk-container-id-2 div.sk-item::before, #sk-container-id-2 div.sk-parallel-item::before {content: \"\";position: absolute;border-left: 1px solid gray;box-sizing: border-box;top: 0;bottom: 0;left: 50%;z-index: -1;}#sk-container-id-2 div.sk-parallel-item {display: flex;flex-direction: column;z-index: 1;position: relative;background-color: white;}#sk-container-id-2 div.sk-parallel-item:first-child::after {align-self: flex-end;width: 50%;}#sk-container-id-2 div.sk-parallel-item:last-child::after {align-self: flex-start;width: 50%;}#sk-container-id-2 div.sk-parallel-item:only-child::after {width: 0;}#sk-container-id-2 div.sk-dashed-wrapped {border: 1px dashed gray;margin: 0 0.4em 0.5em 0.4em;box-sizing: border-box;padding-bottom: 0.4em;background-color: white;}#sk-container-id-2 div.sk-label label {font-family: monospace;font-weight: bold;display: inline-block;line-height: 1.2em;}#sk-container-id-2 div.sk-label-container {text-align: center;}#sk-container-id-2 div.sk-container {/* jupyter's `normalize.less` sets `[hidden] { display: none; }` but bootstrap.min.css set `[hidden] { display: none !important; }` so we also need the `!important` here to be able to override the default hidden behavior on the sphinx rendered scikit-learn.org. See: https://github.com/scikit-learn/scikit-learn/issues/21755 */display: inline-block !important;position: relative;}#sk-container-id-2 div.sk-text-repr-fallback {display: none;}</style><div id=\"sk-container-id-2\" class=\"sk-top-container\"><div class=\"sk-text-repr-fallback\"><pre>RandomizedSearchCV(cv=3, estimator=AgglomerativeClustering(), n_iter=100,\n",
       "                   param_distributions={&#x27;affinity&#x27;: [&#x27;euclidean&#x27;, &#x27;l1&#x27;, &#x27;l2&#x27;,\n",
       "                                                     &#x27;manhattan&#x27;, &#x27;cosine&#x27;],\n",
       "                                        &#x27;linkage&#x27;: [&#x27;single&#x27;, &#x27;complete&#x27;,\n",
       "                                                    &#x27;average&#x27;, &#x27;ward&#x27;],\n",
       "                                        &#x27;n_clusters&#x27;: range(2, 10)},\n",
       "                   random_state=100, scoring=&#x27;adjusted_rand_score&#x27;, verbose=2)</pre><b>In a Jupyter environment, please rerun this cell to show the HTML representation or trust the notebook. <br />On GitHub, the HTML representation is unable to render, please try loading this page with nbviewer.org.</b></div><div class=\"sk-container\" hidden><div class=\"sk-item sk-dashed-wrapped\"><div class=\"sk-label-container\"><div class=\"sk-label sk-toggleable\"><input class=\"sk-toggleable__control sk-hidden--visually\" id=\"sk-estimator-id-4\" type=\"checkbox\" ><label for=\"sk-estimator-id-4\" class=\"sk-toggleable__label sk-toggleable__label-arrow\">RandomizedSearchCV</label><div class=\"sk-toggleable__content\"><pre>RandomizedSearchCV(cv=3, estimator=AgglomerativeClustering(), n_iter=100,\n",
       "                   param_distributions={&#x27;affinity&#x27;: [&#x27;euclidean&#x27;, &#x27;l1&#x27;, &#x27;l2&#x27;,\n",
       "                                                     &#x27;manhattan&#x27;, &#x27;cosine&#x27;],\n",
       "                                        &#x27;linkage&#x27;: [&#x27;single&#x27;, &#x27;complete&#x27;,\n",
       "                                                    &#x27;average&#x27;, &#x27;ward&#x27;],\n",
       "                                        &#x27;n_clusters&#x27;: range(2, 10)},\n",
       "                   random_state=100, scoring=&#x27;adjusted_rand_score&#x27;, verbose=2)</pre></div></div></div><div class=\"sk-parallel\"><div class=\"sk-parallel-item\"><div class=\"sk-item\"><div class=\"sk-label-container\"><div class=\"sk-label sk-toggleable\"><input class=\"sk-toggleable__control sk-hidden--visually\" id=\"sk-estimator-id-5\" type=\"checkbox\" ><label for=\"sk-estimator-id-5\" class=\"sk-toggleable__label sk-toggleable__label-arrow\">estimator: AgglomerativeClustering</label><div class=\"sk-toggleable__content\"><pre>AgglomerativeClustering()</pre></div></div></div><div class=\"sk-serial\"><div class=\"sk-item\"><div class=\"sk-estimator sk-toggleable\"><input class=\"sk-toggleable__control sk-hidden--visually\" id=\"sk-estimator-id-6\" type=\"checkbox\" ><label for=\"sk-estimator-id-6\" class=\"sk-toggleable__label sk-toggleable__label-arrow\">AgglomerativeClustering</label><div class=\"sk-toggleable__content\"><pre>AgglomerativeClustering()</pre></div></div></div></div></div></div></div></div></div></div>"
      ],
      "text/plain": [
       "RandomizedSearchCV(cv=3, estimator=AgglomerativeClustering(), n_iter=100,\n",
       "                   param_distributions={'affinity': ['euclidean', 'l1', 'l2',\n",
       "                                                     'manhattan', 'cosine'],\n",
       "                                        'linkage': ['single', 'complete',\n",
       "                                                    'average', 'ward'],\n",
       "                                        'n_clusters': range(2, 10)},\n",
       "                   random_state=100, scoring='adjusted_rand_score', verbose=2)"
      ]
     },
     "execution_count": 37,
     "metadata": {},
     "output_type": "execute_result"
    }
   ],
   "source": [
    "link.fit(data_std)"
   ]
  },
  {
   "cell_type": "code",
   "execution_count": 38,
   "id": "ffa76e5e",
   "metadata": {},
   "outputs": [
    {
     "data": {
      "text/plain": [
       "{'n_clusters': 7, 'linkage': 'complete', 'affinity': 'l1'}"
      ]
     },
     "execution_count": 38,
     "metadata": {},
     "output_type": "execute_result"
    }
   ],
   "source": [
    "link.best_params_"
   ]
  },
  {
   "cell_type": "code",
   "execution_count": 39,
   "id": "d9276fd8",
   "metadata": {},
   "outputs": [
    {
     "data": {
      "image/png": "[encoded data removed]",
      "text/plain": [
       "<Figure size 864x720 with 1 Axes>"
      ]
     },
     "metadata": {
      "needs_background": "light"
     },
     "output_type": "display_data"
    }
   ],
   "source": [
    "plt.figure(figsize=(12,10))\n",
    "dendrogram=sch.dendrogram(sch.linkage(data_std,method='complete',metric='euclidean'))"
   ]
  },
  {
   "cell_type": "code",
   "execution_count": 81,
   "id": "d84457e0",
   "metadata": {},
   "outputs": [
    {
     "data": {
      "image/png": "[encoded data removed]",
      "text/plain": [
       "<Figure size 432x288 with 1 Axes>"
      ]
     },
     "metadata": {
      "needs_background": "light"
     },
     "output_type": "display_data"
    }
   ],
   "source": [
    "dendrogram=sch.dendrogram(sch.linkage(data_out_rem_minmax,method='complete',metric='euclidean'))"
   ]
  },
  {
   "cell_type": "code",
   "execution_count": 82,
   "id": "0f025aeb",
   "metadata": {},
   "outputs": [
    {
     "data": {
      "image/png": "[encoded data removed]",
      "text/plain": [
       "<Figure size 432x288 with 1 Axes>"
      ]
     },
     "metadata": {
      "needs_background": "light"
     },
     "output_type": "display_data"
    }
   ],
   "source": [
    "dendrogram=sch.dendrogram(sch.linkage(data_out_rem_std,method='complete',metric='euclidean'))"
   ]
  },
  {
   "cell_type": "code",
   "execution_count": 40,
   "id": "6b0dfe10",
   "metadata": {},
   "outputs": [
    {
     "data": {
      "image/png": "[encoded data removed]",
      "text/plain": [
       "<Figure size 864x720 with 1 Axes>"
      ]
     },
     "metadata": {
      "needs_background": "light"
     },
     "output_type": "display_data"
    }
   ],
   "source": [
    "plt.figure(figsize=(12,10))\n",
    "dendrogram=sch.dendrogram(sch.linkage(data_minmax,method='complete',metric='euclidean'))"
   ]
  },
  {
   "cell_type": "code",
   "execution_count": 41,
   "id": "f4871585",
   "metadata": {},
   "outputs": [],
   "source": [
    "def agglo_analyse(data):\n",
    "    sil=[]\n",
    "    cal=[]\n",
    "    for i in range(2,13):\n",
    "        agg=AgglomerativeClustering(n_clusters=i,affinity='l1',linkage='complete')\n",
    "        y_pred=agg.fit_predict(data)\n",
    "        sil.append(silhouette_score(data,y_pred))\n",
    "        cal.append(calinski_harabasz_score(data,y_pred))\n",
    "    print('\\nSilhouette score:\\n ',pd.DataFrame({'cluster':range(2,13),'Silhouette score':sil}))\n",
    "    print('\\nCalinski Harabasz score:\\n ',pd.DataFrame({'cluster':range(2,13),'CH score':cal}))"
   ]
  },
  {
   "cell_type": "code",
   "execution_count": 42,
   "id": "db8aad52",
   "metadata": {},
   "outputs": [
    {
     "name": "stdout",
     "output_type": "stream",
     "text": [
      "\n",
      "Silhouette score:\n",
      "      cluster  Silhouette score\n",
      "0         2          0.945553\n",
      "1         3          0.929693\n",
      "2         4          0.911286\n",
      "3         5          0.771116\n",
      "4         6          0.770826\n",
      "5         7          0.770968\n",
      "6         8          0.716933\n",
      "7         9          0.716937\n",
      "8        10          0.697164\n",
      "9        11          0.694917\n",
      "10       12          0.694754\n",
      "\n",
      "Calinski Harabasz score:\n",
      "      cluster     CH score\n",
      "0         2  1155.004312\n",
      "1         3  1569.682455\n",
      "2         4  1153.166374\n",
      "3         5  1053.444119\n",
      "4         6   865.703615\n",
      "5         7   747.156494\n",
      "6         8   755.511251\n",
      "7         9   679.758396\n",
      "8        10   613.105839\n",
      "9        11   569.855096\n",
      "10       12   522.572276\n"
     ]
    }
   ],
   "source": [
    "agglo_analyse(data_std)"
   ]
  },
  {
   "cell_type": "code",
   "execution_count": 43,
   "id": "d1474a79",
   "metadata": {},
   "outputs": [
    {
     "name": "stdout",
     "output_type": "stream",
     "text": [
      "\n",
      "Silhouette score:\n",
      "      cluster  Silhouette score\n",
      "0         2          0.524663\n",
      "1         3          0.487828\n",
      "2         4          0.694121\n",
      "3         5          0.660353\n",
      "4         6          0.647083\n",
      "5         7          0.621896\n",
      "6         8          0.621744\n",
      "7         9          0.532389\n",
      "8        10          0.532566\n",
      "9        11          0.535169\n",
      "10       12          0.535314\n",
      "\n",
      "Calinski Harabasz score:\n",
      "      cluster     CH score\n",
      "0         2    65.942605\n",
      "1         3    41.291694\n",
      "2         4  5342.715270\n",
      "3         5  4058.428035\n",
      "4         6  3273.908415\n",
      "5         7  4942.859670\n",
      "6         8  4246.573939\n",
      "7         9  6809.432428\n",
      "8        10  6118.041948\n",
      "9        11  8830.832703\n",
      "10       12  8081.566072\n"
     ]
    }
   ],
   "source": [
    "agglo_analyse(data_minmax)"
   ]
  },
  {
   "cell_type": "code",
   "execution_count": 44,
   "id": "f27ebbd3",
   "metadata": {},
   "outputs": [
    {
     "name": "stdout",
     "output_type": "stream",
     "text": [
      "\n",
      "Silhouette score:\n",
      "      cluster  Silhouette score\n",
      "0         2          0.360583\n",
      "1         3          0.271233\n",
      "2         4          0.284013\n",
      "3         5          0.176149\n",
      "4         6          0.169247\n",
      "5         7          0.168462\n",
      "6         8          0.130760\n",
      "7         9          0.182773\n",
      "8        10          0.178494\n",
      "9        11          0.178375\n",
      "10       12          0.169193\n",
      "\n",
      "Calinski Harabasz score:\n",
      "      cluster     CH score\n",
      "0         2  3423.150494\n",
      "1         3  2121.991899\n",
      "2         4  2117.523969\n",
      "3         5  1838.554023\n",
      "4         6  1583.433347\n",
      "5         7  1331.877174\n",
      "6         8  1449.399197\n",
      "7         9  1705.320616\n",
      "8        10  1561.045613\n",
      "9        11  1415.244449\n",
      "10       12  1421.053921\n"
     ]
    }
   ],
   "source": [
    "agglo_analyse(data_log_minmax)"
   ]
  },
  {
   "cell_type": "code",
   "execution_count": 45,
   "id": "5a4788b6",
   "metadata": {},
   "outputs": [
    {
     "name": "stdout",
     "output_type": "stream",
     "text": [
      "\n",
      "Silhouette score:\n",
      "      cluster  Silhouette score\n",
      "0         2          0.317883\n",
      "1         3          0.224374\n",
      "2         4          0.225681\n",
      "3         5          0.227566\n",
      "4         6          0.220364\n",
      "5         7          0.189024\n",
      "6         8          0.213590\n",
      "7         9          0.202718\n",
      "8        10          0.202785\n",
      "9        11          0.197358\n",
      "10       12          0.195982\n",
      "\n",
      "Calinski Harabasz score:\n",
      "      cluster     CH score\n",
      "0         2  2382.425012\n",
      "1         3  2112.741650\n",
      "2         4  1443.579761\n",
      "3         5  1408.150509\n",
      "4         6  1190.572093\n",
      "5         7  1074.750434\n",
      "6         8  1423.513541\n",
      "7         9  1351.018710\n",
      "8        10  1207.330680\n",
      "9        11  1177.499177\n",
      "10       12  1118.215065\n"
     ]
    }
   ],
   "source": [
    "agglo_analyse(data_log_std)"
   ]
  },
  {
   "cell_type": "markdown",
   "id": "0a87aa07",
   "metadata": {},
   "source": [
    "**We see that with data_std dataset model gives good score(both ch and silhouette) for n_clusters=3.**\n",
    "**But, more than 90% of the data points are in one cluster**\n",
    "\n",
    "**we will henceforth try with data_minmax n_clusters = 4**\n",
    "\n",
    "**Lets classify the clusters based on both these**"
   ]
  },
  {
   "cell_type": "code",
   "execution_count": 46,
   "id": "24990c4a",
   "metadata": {},
   "outputs": [],
   "source": [
    "agg=AgglomerativeClustering(n_clusters=3,affinity='l1',linkage='complete')\n",
    "label=agg.fit_predict(data_std)"
   ]
  },
  {
   "cell_type": "code",
   "execution_count": 47,
   "id": "4e7bacfa",
   "metadata": {},
   "outputs": [
    {
     "data": {
      "text/html": [
       "<div>\n",
       "<style scoped>\n",
       "    .dataframe tbody tr th:only-of-type {\n",
       "        vertical-align: middle;\n",
       "    }\n",
       "\n",
       "    .dataframe tbody tr th {\n",
       "        vertical-align: top;\n",
       "    }\n",
       "\n",
       "    .dataframe thead th {\n",
       "        text-align: right;\n",
       "    }\n",
       "</style>\n",
       "<table border=\"1\" class=\"dataframe\">\n",
       "  <thead>\n",
       "    <tr style=\"text-align: right;\">\n",
       "      <th></th>\n",
       "      <th>CustomerID</th>\n",
       "      <th>Recency</th>\n",
       "      <th>Frequency</th>\n",
       "      <th>Monetary</th>\n",
       "      <th>Labels</th>\n",
       "    </tr>\n",
       "  </thead>\n",
       "  <tbody>\n",
       "    <tr>\n",
       "      <th>0</th>\n",
       "      <td>12346.0</td>\n",
       "      <td>325</td>\n",
       "      <td>1</td>\n",
       "      <td>77183.60</td>\n",
       "      <td>2</td>\n",
       "    </tr>\n",
       "    <tr>\n",
       "      <th>1</th>\n",
       "      <td>12347.0</td>\n",
       "      <td>1</td>\n",
       "      <td>182</td>\n",
       "      <td>4310.00</td>\n",
       "      <td>2</td>\n",
       "    </tr>\n",
       "    <tr>\n",
       "      <th>2</th>\n",
       "      <td>12348.0</td>\n",
       "      <td>74</td>\n",
       "      <td>31</td>\n",
       "      <td>1797.24</td>\n",
       "      <td>2</td>\n",
       "    </tr>\n",
       "    <tr>\n",
       "      <th>3</th>\n",
       "      <td>12349.0</td>\n",
       "      <td>18</td>\n",
       "      <td>73</td>\n",
       "      <td>1757.55</td>\n",
       "      <td>2</td>\n",
       "    </tr>\n",
       "    <tr>\n",
       "      <th>4</th>\n",
       "      <td>12350.0</td>\n",
       "      <td>309</td>\n",
       "      <td>17</td>\n",
       "      <td>334.40</td>\n",
       "      <td>2</td>\n",
       "    </tr>\n",
       "    <tr>\n",
       "      <th>...</th>\n",
       "      <td>...</td>\n",
       "      <td>...</td>\n",
       "      <td>...</td>\n",
       "      <td>...</td>\n",
       "      <td>...</td>\n",
       "    </tr>\n",
       "    <tr>\n",
       "      <th>4333</th>\n",
       "      <td>18280.0</td>\n",
       "      <td>277</td>\n",
       "      <td>10</td>\n",
       "      <td>180.60</td>\n",
       "      <td>2</td>\n",
       "    </tr>\n",
       "    <tr>\n",
       "      <th>4334</th>\n",
       "      <td>18281.0</td>\n",
       "      <td>180</td>\n",
       "      <td>7</td>\n",
       "      <td>80.82</td>\n",
       "      <td>2</td>\n",
       "    </tr>\n",
       "    <tr>\n",
       "      <th>4335</th>\n",
       "      <td>18282.0</td>\n",
       "      <td>7</td>\n",
       "      <td>12</td>\n",
       "      <td>178.05</td>\n",
       "      <td>2</td>\n",
       "    </tr>\n",
       "    <tr>\n",
       "      <th>4336</th>\n",
       "      <td>18283.0</td>\n",
       "      <td>3</td>\n",
       "      <td>756</td>\n",
       "      <td>2094.88</td>\n",
       "      <td>2</td>\n",
       "    </tr>\n",
       "    <tr>\n",
       "      <th>4337</th>\n",
       "      <td>18287.0</td>\n",
       "      <td>42</td>\n",
       "      <td>70</td>\n",
       "      <td>1837.28</td>\n",
       "      <td>2</td>\n",
       "    </tr>\n",
       "  </tbody>\n",
       "</table>\n",
       "<p>4338 rows × 5 columns</p>\n",
       "</div>"
      ],
      "text/plain": [
       "      CustomerID  Recency  Frequency  Monetary  Labels\n",
       "0        12346.0      325          1  77183.60       2\n",
       "1        12347.0        1        182   4310.00       2\n",
       "2        12348.0       74         31   1797.24       2\n",
       "3        12349.0       18         73   1757.55       2\n",
       "4        12350.0      309         17    334.40       2\n",
       "...          ...      ...        ...       ...     ...\n",
       "4333     18280.0      277         10    180.60       2\n",
       "4334     18281.0      180          7     80.82       2\n",
       "4335     18282.0        7         12    178.05       2\n",
       "4336     18283.0        3        756   2094.88       2\n",
       "4337     18287.0       42         70   1837.28       2\n",
       "\n",
       "[4338 rows x 5 columns]"
      ]
     },
     "execution_count": 47,
     "metadata": {},
     "output_type": "execute_result"
    }
   ],
   "source": [
    "data_final=data[['CustomerID','Recency','Frequency','Monetary']]\n",
    "data_final['Labels']=label\n",
    "data_final"
   ]
  },
  {
   "cell_type": "code",
   "execution_count": 48,
   "id": "8c41568e",
   "metadata": {},
   "outputs": [
    {
     "data": {
      "text/plain": [
       "array([0, 1, 2], dtype=int64)"
      ]
     },
     "execution_count": 48,
     "metadata": {},
     "output_type": "execute_result"
    }
   ],
   "source": [
    "np.unique(label)"
   ]
  },
  {
   "cell_type": "code",
   "execution_count": 49,
   "id": "3fef8235",
   "metadata": {},
   "outputs": [
    {
     "data": {
      "text/plain": [
       "array([   7,    4, 4327], dtype=int64)"
      ]
     },
     "execution_count": 49,
     "metadata": {},
     "output_type": "execute_result"
    }
   ],
   "source": [
    "np.bincount(label)"
   ]
  },
  {
   "cell_type": "code",
   "execution_count": 50,
   "id": "a6a968c1",
   "metadata": {
    "scrolled": true
   },
   "outputs": [
    {
     "data": {
      "text/plain": [
       "<AxesSubplot:xlabel='Labels', ylabel='Recency'>"
      ]
     },
     "execution_count": 50,
     "metadata": {},
     "output_type": "execute_result"
    },
    {
     "data": {
      "image/png": "[encoded data removed]",
      "text/plain": [
       "<Figure size 432x288 with 1 Axes>"
      ]
     },
     "metadata": {
      "needs_background": "light"
     },
     "output_type": "display_data"
    }
   ],
   "source": [
    "sns.boxplot(x='Labels',y='Recency',data=data_final)"
   ]
  },
  {
   "cell_type": "code",
   "execution_count": 51,
   "id": "9aecee03",
   "metadata": {
    "scrolled": true
   },
   "outputs": [
    {
     "data": {
      "text/plain": [
       "<AxesSubplot:xlabel='Labels', ylabel='Frequency'>"
      ]
     },
     "execution_count": 51,
     "metadata": {},
     "output_type": "execute_result"
    },
    {
     "data": {
      "image/png": "[encoded data removed]",
      "text/plain": [
       "<Figure size 432x288 with 1 Axes>"
      ]
     },
     "metadata": {
      "needs_background": "light"
     },
     "output_type": "display_data"
    }
   ],
   "source": [
    "sns.boxplot(x='Labels',y='Frequency',data=data_final)"
   ]
  },
  {
   "cell_type": "code",
   "execution_count": 52,
   "id": "49028cf1",
   "metadata": {},
   "outputs": [
    {
     "data": {
      "text/plain": [
       "<AxesSubplot:xlabel='Labels', ylabel='Monetary'>"
      ]
     },
     "execution_count": 52,
     "metadata": {},
     "output_type": "execute_result"
    },
    {
     "data": {
      "image/png": "[encoded data removed]",
      "text/plain": [
       "<Figure size 432x288 with 1 Axes>"
      ]
     },
     "metadata": {
      "needs_background": "light"
     },
     "output_type": "display_data"
    }
   ],
   "source": [
    "sns.boxplot(x='Labels',y='Monetary',data=data_final)"
   ]
  },
  {
   "cell_type": "code",
   "execution_count": 53,
   "id": "7c7801d5",
   "metadata": {},
   "outputs": [],
   "source": [
    "agg=AgglomerativeClustering(n_clusters=4,affinity='l1',linkage='complete')\n",
    "label1=agg.fit_predict(data_minmax)"
   ]
  },
  {
   "cell_type": "code",
   "execution_count": 54,
   "id": "10e4064c",
   "metadata": {},
   "outputs": [
    {
     "data": {
      "text/html": [
       "<div>\n",
       "<style scoped>\n",
       "    .dataframe tbody tr th:only-of-type {\n",
       "        vertical-align: middle;\n",
       "    }\n",
       "\n",
       "    .dataframe tbody tr th {\n",
       "        vertical-align: top;\n",
       "    }\n",
       "\n",
       "    .dataframe thead th {\n",
       "        text-align: right;\n",
       "    }\n",
       "</style>\n",
       "<table border=\"1\" class=\"dataframe\">\n",
       "  <thead>\n",
       "    <tr style=\"text-align: right;\">\n",
       "      <th></th>\n",
       "      <th>CustomerID</th>\n",
       "      <th>Recency</th>\n",
       "      <th>Frequency</th>\n",
       "      <th>Monetary</th>\n",
       "      <th>Labels</th>\n",
       "    </tr>\n",
       "  </thead>\n",
       "  <tbody>\n",
       "    <tr>\n",
       "      <th>0</th>\n",
       "      <td>12346.0</td>\n",
       "      <td>325</td>\n",
       "      <td>1</td>\n",
       "      <td>77183.60</td>\n",
       "      <td>1</td>\n",
       "    </tr>\n",
       "    <tr>\n",
       "      <th>1</th>\n",
       "      <td>12347.0</td>\n",
       "      <td>1</td>\n",
       "      <td>182</td>\n",
       "      <td>4310.00</td>\n",
       "      <td>3</td>\n",
       "    </tr>\n",
       "    <tr>\n",
       "      <th>2</th>\n",
       "      <td>12348.0</td>\n",
       "      <td>74</td>\n",
       "      <td>31</td>\n",
       "      <td>1797.24</td>\n",
       "      <td>3</td>\n",
       "    </tr>\n",
       "    <tr>\n",
       "      <th>3</th>\n",
       "      <td>12349.0</td>\n",
       "      <td>18</td>\n",
       "      <td>73</td>\n",
       "      <td>1757.55</td>\n",
       "      <td>3</td>\n",
       "    </tr>\n",
       "    <tr>\n",
       "      <th>4</th>\n",
       "      <td>12350.0</td>\n",
       "      <td>309</td>\n",
       "      <td>17</td>\n",
       "      <td>334.40</td>\n",
       "      <td>1</td>\n",
       "    </tr>\n",
       "    <tr>\n",
       "      <th>...</th>\n",
       "      <td>...</td>\n",
       "      <td>...</td>\n",
       "      <td>...</td>\n",
       "      <td>...</td>\n",
       "      <td>...</td>\n",
       "    </tr>\n",
       "    <tr>\n",
       "      <th>4333</th>\n",
       "      <td>18280.0</td>\n",
       "      <td>277</td>\n",
       "      <td>10</td>\n",
       "      <td>180.60</td>\n",
       "      <td>1</td>\n",
       "    </tr>\n",
       "    <tr>\n",
       "      <th>4334</th>\n",
       "      <td>18281.0</td>\n",
       "      <td>180</td>\n",
       "      <td>7</td>\n",
       "      <td>80.82</td>\n",
       "      <td>1</td>\n",
       "    </tr>\n",
       "    <tr>\n",
       "      <th>4335</th>\n",
       "      <td>18282.0</td>\n",
       "      <td>7</td>\n",
       "      <td>12</td>\n",
       "      <td>178.05</td>\n",
       "      <td>3</td>\n",
       "    </tr>\n",
       "    <tr>\n",
       "      <th>4336</th>\n",
       "      <td>18283.0</td>\n",
       "      <td>3</td>\n",
       "      <td>756</td>\n",
       "      <td>2094.88</td>\n",
       "      <td>3</td>\n",
       "    </tr>\n",
       "    <tr>\n",
       "      <th>4337</th>\n",
       "      <td>18287.0</td>\n",
       "      <td>42</td>\n",
       "      <td>70</td>\n",
       "      <td>1837.28</td>\n",
       "      <td>3</td>\n",
       "    </tr>\n",
       "  </tbody>\n",
       "</table>\n",
       "<p>4338 rows × 5 columns</p>\n",
       "</div>"
      ],
      "text/plain": [
       "      CustomerID  Recency  Frequency  Monetary  Labels\n",
       "0        12346.0      325          1  77183.60       1\n",
       "1        12347.0        1        182   4310.00       3\n",
       "2        12348.0       74         31   1797.24       3\n",
       "3        12349.0       18         73   1757.55       3\n",
       "4        12350.0      309         17    334.40       1\n",
       "...          ...      ...        ...       ...     ...\n",
       "4333     18280.0      277         10    180.60       1\n",
       "4334     18281.0      180          7     80.82       1\n",
       "4335     18282.0        7         12    178.05       3\n",
       "4336     18283.0        3        756   2094.88       3\n",
       "4337     18287.0       42         70   1837.28       3\n",
       "\n",
       "[4338 rows x 5 columns]"
      ]
     },
     "execution_count": 54,
     "metadata": {},
     "output_type": "execute_result"
    }
   ],
   "source": [
    "data_final1=data[['CustomerID','Recency','Frequency','Monetary']]\n",
    "data_final1['Labels']=label1\n",
    "data_final1"
   ]
  },
  {
   "cell_type": "code",
   "execution_count": 55,
   "id": "e2850f30",
   "metadata": {},
   "outputs": [
    {
     "data": {
      "text/plain": [
       "array([  14, 1145,    8, 3171], dtype=int64)"
      ]
     },
     "execution_count": 55,
     "metadata": {},
     "output_type": "execute_result"
    }
   ],
   "source": [
    "np.bincount(label1)"
   ]
  },
  {
   "cell_type": "code",
   "execution_count": 56,
   "id": "0c1e8c00",
   "metadata": {
    "scrolled": true
   },
   "outputs": [
    {
     "data": {
      "text/plain": [
       "<AxesSubplot:xlabel='Labels', ylabel='Recency'>"
      ]
     },
     "execution_count": 56,
     "metadata": {},
     "output_type": "execute_result"
    },
    {
     "data": {
      "image/png": "[encoded data removed]",
      "text/plain": [
       "<Figure size 432x288 with 1 Axes>"
      ]
     },
     "metadata": {
      "needs_background": "light"
     },
     "output_type": "display_data"
    }
   ],
   "source": [
    "sns.boxplot(x='Labels',y='Recency',data=data_final1)"
   ]
  },
  {
   "cell_type": "code",
   "execution_count": 57,
   "id": "e8cb7377",
   "metadata": {
    "scrolled": true
   },
   "outputs": [
    {
     "data": {
      "text/plain": [
       "<AxesSubplot:xlabel='Labels', ylabel='Frequency'>"
      ]
     },
     "execution_count": 57,
     "metadata": {},
     "output_type": "execute_result"
    },
    {
     "data": {
      "image/png": "[encoded data removed]",
      "text/plain": [
       "<Figure size 432x288 with 1 Axes>"
      ]
     },
     "metadata": {
      "needs_background": "light"
     },
     "output_type": "display_data"
    }
   ],
   "source": [
    "sns.boxplot(x='Labels',y='Frequency',data=data_final1)"
   ]
  },
  {
   "cell_type": "code",
   "execution_count": 58,
   "id": "56062778",
   "metadata": {},
   "outputs": [
    {
     "data": {
      "text/plain": [
       "<AxesSubplot:xlabel='Labels', ylabel='Monetary'>"
      ]
     },
     "execution_count": 58,
     "metadata": {},
     "output_type": "execute_result"
    },
    {
     "data": {
      "image/png": "[encoded data removed]",
      "text/plain": [
       "<Figure size 432x288 with 1 Axes>"
      ]
     },
     "metadata": {
      "needs_background": "light"
     },
     "output_type": "display_data"
    }
   ],
   "source": [
    "sns.boxplot(x='Labels',y='Monetary',data=data_final1)"
   ]
  },
  {
   "cell_type": "markdown",
   "id": "2a121ecd",
   "metadata": {},
   "source": [
    "# DB Scan"
   ]
  },
  {
   "cell_type": "code",
   "execution_count": 59,
   "id": "e642e96e",
   "metadata": {},
   "outputs": [],
   "source": [
    "hyper={'eps':[0.5,1,1.5,2,2.5,3,3.5,4,4.5,5.5,6,6.5,7,7.5,8],'min_samples':[3,5,8,10,15,19,22,25]}"
   ]
  },
  {
   "cell_type": "code",
   "execution_count": 60,
   "id": "0d7058c5",
   "metadata": {},
   "outputs": [],
   "source": [
    "db=DBSCAN()"
   ]
  },
  {
   "cell_type": "code",
   "execution_count": 61,
   "id": "31bc9204",
   "metadata": {},
   "outputs": [],
   "source": [
    "hyp_db=RandomizedSearchCV(estimator=db,param_distributions=hyper,\n",
    "                          n_iter=100,cv=3,verbose=2,random_state=100,\n",
    "                          scoring='fowlkes_mallows_score')"
   ]
  },
  {
   "cell_type": "code",
   "execution_count": 62,
   "id": "96327375",
   "metadata": {},
   "outputs": [
    {
     "name": "stdout",
     "output_type": "stream",
     "text": [
      "Fitting 3 folds for each of 100 candidates, totalling 300 fits\n",
      "[CV] END ............................eps=4.5, min_samples=19; total time=   0.2s\n",
      "[CV] END ............................eps=4.5, min_samples=19; total time=   0.1s\n",
      "[CV] END ............................eps=4.5, min_samples=19; total time=   0.1s\n",
      "[CV] END ............................eps=3.5, min_samples=22; total time=   0.2s\n",
      "[CV] END ............................eps=3.5, min_samples=22; total time=   0.2s\n",
      "[CV] END ............................eps=3.5, min_samples=22; total time=   0.1s\n",
      "[CV] END ............................eps=2.5, min_samples=19; total time=   0.2s\n",
      "[CV] END ............................eps=2.5, min_samples=19; total time=   0.2s\n",
      "[CV] END ............................eps=2.5, min_samples=19; total time=   0.1s\n",
      "[CV] END ..............................eps=3, min_samples=22; total time=   0.2s\n",
      "[CV] END ..............................eps=3, min_samples=22; total time=   0.2s\n",
      "[CV] END ..............................eps=3, min_samples=22; total time=   0.2s\n",
      "[CV] END .............................eps=7.5, min_samples=8; total time=   0.1s\n",
      "[CV] END .............................eps=7.5, min_samples=8; total time=   0.1s\n",
      "[CV] END .............................eps=7.5, min_samples=8; total time=   0.1s\n",
      "[CV] END ...............................eps=2, min_samples=8; total time=   0.2s\n",
      "[CV] END ...............................eps=2, min_samples=8; total time=   0.2s\n",
      "[CV] END ...............................eps=2, min_samples=8; total time=   0.1s\n",
      "[CV] END ..............................eps=8, min_samples=15; total time=   0.1s\n",
      "[CV] END ..............................eps=8, min_samples=15; total time=   0.1s\n",
      "[CV] END ..............................eps=8, min_samples=15; total time=   0.1s\n",
      "[CV] END ...............................eps=4, min_samples=5; total time=   0.2s\n",
      "[CV] END ...............................eps=4, min_samples=5; total time=   0.1s\n",
      "[CV] END ...............................eps=4, min_samples=5; total time=   0.1s\n",
      "[CV] END ............................eps=1.5, min_samples=19; total time=   0.2s\n",
      "[CV] END ............................eps=1.5, min_samples=19; total time=   0.2s\n",
      "[CV] END ............................eps=1.5, min_samples=19; total time=   0.1s\n",
      "[CV] END .............................eps=2.5, min_samples=5; total time=   0.2s\n",
      "[CV] END .............................eps=2.5, min_samples=5; total time=   0.2s\n",
      "[CV] END .............................eps=2.5, min_samples=5; total time=   0.1s\n",
      "[CV] END ..............................eps=1, min_samples=10; total time=   0.1s\n",
      "[CV] END ..............................eps=1, min_samples=10; total time=   0.1s\n",
      "[CV] END ..............................eps=1, min_samples=10; total time=   0.1s\n",
      "[CV] END ............................eps=4.5, min_samples=15; total time=   0.2s\n",
      "[CV] END ............................eps=4.5, min_samples=15; total time=   0.1s\n",
      "[CV] END ............................eps=4.5, min_samples=15; total time=   0.1s\n",
      "[CV] END ...............................eps=7, min_samples=5; total time=   0.1s\n",
      "[CV] END ...............................eps=7, min_samples=5; total time=   0.1s\n",
      "[CV] END ...............................eps=7, min_samples=5; total time=   0.1s\n",
      "[CV] END ...............................eps=2, min_samples=5; total time=   0.2s\n",
      "[CV] END ...............................eps=2, min_samples=5; total time=   0.2s\n",
      "[CV] END ...............................eps=2, min_samples=5; total time=   0.1s\n",
      "[CV] END .............................eps=2.5, min_samples=3; total time=   0.2s\n",
      "[CV] END .............................eps=2.5, min_samples=3; total time=   0.2s\n",
      "[CV] END .............................eps=2.5, min_samples=3; total time=   0.1s\n",
      "[CV] END ...............................eps=6, min_samples=3; total time=   0.2s\n",
      "[CV] END ...............................eps=6, min_samples=3; total time=   0.1s\n",
      "[CV] END ...............................eps=6, min_samples=3; total time=   0.1s\n",
      "[CV] END ..............................eps=7, min_samples=19; total time=   0.1s\n",
      "[CV] END ..............................eps=7, min_samples=19; total time=   0.1s\n",
      "[CV] END ..............................eps=7, min_samples=19; total time=   0.1s\n",
      "[CV] END ............................eps=7.5, min_samples=22; total time=   0.1s\n",
      "[CV] END ............................eps=7.5, min_samples=22; total time=   0.1s\n",
      "[CV] END ............................eps=7.5, min_samples=22; total time=   0.1s\n",
      "[CV] END ..............................eps=2, min_samples=19; total time=   0.2s\n",
      "[CV] END ..............................eps=2, min_samples=19; total time=   0.2s\n",
      "[CV] END ..............................eps=2, min_samples=19; total time=   0.1s\n",
      "[CV] END ..............................eps=3, min_samples=19; total time=   0.2s\n",
      "[CV] END ..............................eps=3, min_samples=19; total time=   0.2s\n",
      "[CV] END ..............................eps=3, min_samples=19; total time=   0.2s\n",
      "[CV] END ..............................eps=2, min_samples=15; total time=   0.2s\n",
      "[CV] END ..............................eps=2, min_samples=15; total time=   0.2s\n",
      "[CV] END ..............................eps=2, min_samples=15; total time=   0.1s\n",
      "[CV] END ............................eps=6.5, min_samples=10; total time=   0.2s\n",
      "[CV] END ............................eps=6.5, min_samples=10; total time=   0.1s\n",
      "[CV] END ............................eps=6.5, min_samples=10; total time=   0.1s\n",
      "[CV] END .............................eps=6.5, min_samples=8; total time=   0.2s\n",
      "[CV] END .............................eps=6.5, min_samples=8; total time=   0.1s\n",
      "[CV] END .............................eps=6.5, min_samples=8; total time=   0.1s\n",
      "[CV] END ..............................eps=3, min_samples=10; total time=   0.2s\n",
      "[CV] END ..............................eps=3, min_samples=10; total time=   0.2s\n",
      "[CV] END ..............................eps=3, min_samples=10; total time=   0.2s\n",
      "[CV] END ............................eps=2.5, min_samples=10; total time=   0.2s\n",
      "[CV] END ............................eps=2.5, min_samples=10; total time=   0.2s\n",
      "[CV] END ............................eps=2.5, min_samples=10; total time=   0.2s\n",
      "[CV] END ...............................eps=6, min_samples=5; total time=   0.2s\n",
      "[CV] END ...............................eps=6, min_samples=5; total time=   0.1s\n",
      "[CV] END ...............................eps=6, min_samples=5; total time=   0.1s\n",
      "[CV] END .............................eps=4.5, min_samples=3; total time=   0.2s\n",
      "[CV] END .............................eps=4.5, min_samples=3; total time=   0.1s\n",
      "[CV] END .............................eps=4.5, min_samples=3; total time=   0.1s\n",
      "[CV] END ............................eps=7.5, min_samples=10; total time=   0.1s\n",
      "[CV] END ............................eps=7.5, min_samples=10; total time=   0.1s\n",
      "[CV] END ............................eps=7.5, min_samples=10; total time=   0.1s\n",
      "[CV] END ............................eps=2.5, min_samples=15; total time=   0.2s\n",
      "[CV] END ............................eps=2.5, min_samples=15; total time=   0.2s\n",
      "[CV] END ............................eps=2.5, min_samples=15; total time=   0.1s\n",
      "[CV] END ............................eps=5.5, min_samples=15; total time=   0.2s\n",
      "[CV] END ............................eps=5.5, min_samples=15; total time=   0.1s\n",
      "[CV] END ............................eps=5.5, min_samples=15; total time=   0.1s\n",
      "[CV] END ............................eps=1.5, min_samples=22; total time=   0.2s\n",
      "[CV] END ............................eps=1.5, min_samples=22; total time=   0.2s\n",
      "[CV] END ............................eps=1.5, min_samples=22; total time=   0.1s\n",
      "[CV] END ............................eps=3.5, min_samples=10; total time=   0.2s\n",
      "[CV] END ............................eps=3.5, min_samples=10; total time=   0.2s\n",
      "[CV] END ............................eps=3.5, min_samples=10; total time=   0.1s\n",
      "[CV] END ..............................eps=6, min_samples=15; total time=   0.2s\n",
      "[CV] END ..............................eps=6, min_samples=15; total time=   0.1s\n",
      "[CV] END ..............................eps=6, min_samples=15; total time=   0.1s\n",
      "[CV] END ............................eps=0.5, min_samples=19; total time=   0.1s\n",
      "[CV] END ............................eps=0.5, min_samples=19; total time=   0.1s\n",
      "[CV] END ............................eps=0.5, min_samples=19; total time=   0.1s\n",
      "[CV] END ..............................eps=6, min_samples=19; total time=   0.2s\n",
      "[CV] END ..............................eps=6, min_samples=19; total time=   0.1s\n",
      "[CV] END ..............................eps=6, min_samples=19; total time=   0.1s\n",
      "[CV] END ............................eps=1.5, min_samples=25; total time=   0.2s\n",
      "[CV] END ............................eps=1.5, min_samples=25; total time=   0.2s\n",
      "[CV] END ............................eps=1.5, min_samples=25; total time=   0.1s\n",
      "[CV] END ............................eps=6.5, min_samples=25; total time=   0.2s\n",
      "[CV] END ............................eps=6.5, min_samples=25; total time=   0.1s\n",
      "[CV] END ............................eps=6.5, min_samples=25; total time=   0.1s\n",
      "[CV] END ..............................eps=7, min_samples=22; total time=   0.1s\n",
      "[CV] END ..............................eps=7, min_samples=22; total time=   0.1s\n",
      "[CV] END ..............................eps=7, min_samples=22; total time=   0.1s\n",
      "[CV] END ............................eps=1.5, min_samples=15; total time=   0.2s\n",
      "[CV] END ............................eps=1.5, min_samples=15; total time=   0.2s\n",
      "[CV] END ............................eps=1.5, min_samples=15; total time=   0.1s\n",
      "[CV] END ...............................eps=3, min_samples=5; total time=   0.2s\n",
      "[CV] END ...............................eps=3, min_samples=5; total time=   0.2s\n",
      "[CV] END ...............................eps=3, min_samples=5; total time=   0.2s\n",
      "[CV] END ............................eps=0.5, min_samples=22; total time=   0.1s\n",
      "[CV] END ............................eps=0.5, min_samples=22; total time=   0.1s\n",
      "[CV] END ............................eps=0.5, min_samples=22; total time=   0.1s\n",
      "[CV] END ............................eps=0.5, min_samples=10; total time=   0.1s\n",
      "[CV] END ............................eps=0.5, min_samples=10; total time=   0.1s\n",
      "[CV] END ............................eps=0.5, min_samples=10; total time=   0.1s\n",
      "[CV] END ............................eps=5.5, min_samples=22; total time=   0.2s\n",
      "[CV] END ............................eps=5.5, min_samples=22; total time=   0.1s\n",
      "[CV] END ............................eps=5.5, min_samples=22; total time=   0.1s\n",
      "[CV] END ..............................eps=1, min_samples=15; total time=   0.1s\n",
      "[CV] END ..............................eps=1, min_samples=15; total time=   0.1s\n",
      "[CV] END ..............................eps=1, min_samples=15; total time=   0.1s\n",
      "[CV] END ..............................eps=4, min_samples=22; total time=   0.2s\n",
      "[CV] END ..............................eps=4, min_samples=22; total time=   0.2s\n",
      "[CV] END ..............................eps=4, min_samples=22; total time=   0.1s\n",
      "[CV] END .............................eps=5.5, min_samples=8; total time=   0.2s\n",
      "[CV] END .............................eps=5.5, min_samples=8; total time=   0.1s\n",
      "[CV] END .............................eps=5.5, min_samples=8; total time=   0.1s\n",
      "[CV] END ...............................eps=8, min_samples=8; total time=   0.1s\n",
      "[CV] END ...............................eps=8, min_samples=8; total time=   0.2s\n",
      "[CV] END ...............................eps=8, min_samples=8; total time=   0.1s\n",
      "[CV] END ............................eps=5.5, min_samples=10; total time=   0.2s\n",
      "[CV] END ............................eps=5.5, min_samples=10; total time=   0.2s\n",
      "[CV] END ............................eps=5.5, min_samples=10; total time=   0.1s\n",
      "[CV] END .............................eps=6.5, min_samples=3; total time=   0.2s\n",
      "[CV] END .............................eps=6.5, min_samples=3; total time=   0.1s\n",
      "[CV] END .............................eps=6.5, min_samples=3; total time=   0.1s\n",
      "[CV] END .............................eps=5.5, min_samples=3; total time=   0.2s\n",
      "[CV] END .............................eps=5.5, min_samples=3; total time=   0.1s\n",
      "[CV] END .............................eps=5.5, min_samples=3; total time=   0.1s\n",
      "[CV] END ...............................eps=3, min_samples=3; total time=   0.2s\n",
      "[CV] END ...............................eps=3, min_samples=3; total time=   0.2s\n",
      "[CV] END ...............................eps=3, min_samples=3; total time=   0.2s\n",
      "[CV] END .............................eps=3.5, min_samples=8; total time=   0.2s\n",
      "[CV] END .............................eps=3.5, min_samples=8; total time=   0.2s\n",
      "[CV] END .............................eps=3.5, min_samples=8; total time=   0.1s\n",
      "[CV] END ..............................eps=8, min_samples=10; total time=   0.1s\n",
      "[CV] END ..............................eps=8, min_samples=10; total time=   0.1s\n",
      "[CV] END ..............................eps=8, min_samples=10; total time=   0.1s\n",
      "[CV] END ..............................eps=7, min_samples=10; total time=   0.1s\n",
      "[CV] END ..............................eps=7, min_samples=10; total time=   0.1s\n",
      "[CV] END ..............................eps=7, min_samples=10; total time=   0.1s\n",
      "[CV] END ............................eps=4.5, min_samples=22; total time=   0.2s\n",
      "[CV] END ............................eps=4.5, min_samples=22; total time=   0.1s\n",
      "[CV] END ............................eps=4.5, min_samples=22; total time=   0.1s\n",
      "[CV] END ...............................eps=3, min_samples=8; total time=   0.2s\n",
      "[CV] END ...............................eps=3, min_samples=8; total time=   0.2s\n",
      "[CV] END ...............................eps=3, min_samples=8; total time=   0.2s\n",
      "[CV] END .............................eps=6.5, min_samples=5; total time=   0.2s\n",
      "[CV] END .............................eps=6.5, min_samples=5; total time=   0.1s\n",
      "[CV] END .............................eps=6.5, min_samples=5; total time=   0.1s\n",
      "[CV] END ..............................eps=8, min_samples=25; total time=   0.1s\n",
      "[CV] END ..............................eps=8, min_samples=25; total time=   0.1s\n",
      "[CV] END ..............................eps=8, min_samples=25; total time=   0.1s\n",
      "[CV] END .............................eps=1.5, min_samples=5; total time=   0.2s\n",
      "[CV] END .............................eps=1.5, min_samples=5; total time=   0.2s\n",
      "[CV] END .............................eps=1.5, min_samples=5; total time=   0.1s\n",
      "[CV] END ...............................eps=8, min_samples=3; total time=   0.1s\n",
      "[CV] END ...............................eps=8, min_samples=3; total time=   0.1s\n",
      "[CV] END ...............................eps=8, min_samples=3; total time=   0.1s\n",
      "[CV] END .............................eps=5.5, min_samples=5; total time=   0.2s\n",
      "[CV] END .............................eps=5.5, min_samples=5; total time=   0.1s\n",
      "[CV] END .............................eps=5.5, min_samples=5; total time=   0.1s\n",
      "[CV] END .............................eps=7.5, min_samples=3; total time=   0.1s\n",
      "[CV] END .............................eps=7.5, min_samples=3; total time=   0.1s\n",
      "[CV] END .............................eps=7.5, min_samples=3; total time=   0.1s\n",
      "[CV] END ............................eps=5.5, min_samples=19; total time=   0.2s\n",
      "[CV] END ............................eps=5.5, min_samples=19; total time=   0.1s\n",
      "[CV] END ............................eps=5.5, min_samples=19; total time=   0.1s\n",
      "[CV] END .............................eps=0.5, min_samples=3; total time=   0.1s\n",
      "[CV] END .............................eps=0.5, min_samples=3; total time=   0.1s\n",
      "[CV] END .............................eps=0.5, min_samples=3; total time=   0.1s\n",
      "[CV] END .............................eps=1.5, min_samples=8; total time=   0.2s\n",
      "[CV] END .............................eps=1.5, min_samples=8; total time=   0.2s\n",
      "[CV] END .............................eps=1.5, min_samples=8; total time=   0.1s\n",
      "[CV] END ..............................eps=3, min_samples=15; total time=   0.2s\n",
      "[CV] END ..............................eps=3, min_samples=15; total time=   0.2s\n",
      "[CV] END ..............................eps=3, min_samples=15; total time=   0.2s\n",
      "[CV] END ............................eps=2.5, min_samples=22; total time=   0.2s\n",
      "[CV] END ............................eps=2.5, min_samples=22; total time=   0.2s\n",
      "[CV] END ............................eps=2.5, min_samples=22; total time=   0.1s\n",
      "[CV] END ............................eps=2.5, min_samples=25; total time=   0.2s\n",
      "[CV] END ............................eps=2.5, min_samples=25; total time=   0.2s\n",
      "[CV] END ............................eps=2.5, min_samples=25; total time=   0.1s\n",
      "[CV] END ...............................eps=6, min_samples=8; total time=   0.2s\n",
      "[CV] END ...............................eps=6, min_samples=8; total time=   0.1s\n",
      "[CV] END ...............................eps=6, min_samples=8; total time=   0.1s\n",
      "[CV] END ...............................eps=8, min_samples=5; total time=   0.1s\n",
      "[CV] END ...............................eps=8, min_samples=5; total time=   0.1s\n",
      "[CV] END ...............................eps=8, min_samples=5; total time=   0.1s\n",
      "[CV] END ..............................eps=2, min_samples=22; total time=   0.2s\n",
      "[CV] END ..............................eps=2, min_samples=22; total time=   0.2s\n",
      "[CV] END ..............................eps=2, min_samples=22; total time=   0.1s\n",
      "[CV] END ...............................eps=4, min_samples=3; total time=   0.2s\n",
      "[CV] END ...............................eps=4, min_samples=3; total time=   0.1s\n",
      "[CV] END ...............................eps=4, min_samples=3; total time=   0.1s\n",
      "[CV] END ...............................eps=7, min_samples=3; total time=   0.1s\n",
      "[CV] END ...............................eps=7, min_samples=3; total time=   0.1s\n",
      "[CV] END ...............................eps=7, min_samples=3; total time=   0.1s\n",
      "[CV] END ............................eps=7.5, min_samples=15; total time=   0.1s\n",
      "[CV] END ............................eps=7.5, min_samples=15; total time=   0.1s\n",
      "[CV] END ............................eps=7.5, min_samples=15; total time=   0.1s\n",
      "[CV] END ..............................eps=4, min_samples=25; total time=   0.2s\n",
      "[CV] END ..............................eps=4, min_samples=25; total time=   0.1s\n",
      "[CV] END ..............................eps=4, min_samples=25; total time=   0.1s\n",
      "[CV] END ............................eps=1.5, min_samples=10; total time=   0.2s\n",
      "[CV] END ............................eps=1.5, min_samples=10; total time=   0.2s\n",
      "[CV] END ............................eps=1.5, min_samples=10; total time=   0.1s\n",
      "[CV] END ............................eps=7.5, min_samples=25; total time=   0.1s\n",
      "[CV] END ............................eps=7.5, min_samples=25; total time=   0.1s\n",
      "[CV] END ............................eps=7.5, min_samples=25; total time=   0.1s\n",
      "[CV] END ............................eps=4.5, min_samples=25; total time=   0.2s\n",
      "[CV] END ............................eps=4.5, min_samples=25; total time=   0.1s\n",
      "[CV] END ............................eps=4.5, min_samples=25; total time=   0.1s\n",
      "[CV] END ............................eps=3.5, min_samples=25; total time=   0.2s\n",
      "[CV] END ............................eps=3.5, min_samples=25; total time=   0.2s\n",
      "[CV] END ............................eps=3.5, min_samples=25; total time=   0.1s\n",
      "[CV] END .............................eps=7.5, min_samples=5; total time=   0.1s\n",
      "[CV] END .............................eps=7.5, min_samples=5; total time=   0.1s\n",
      "[CV] END .............................eps=7.5, min_samples=5; total time=   0.1s\n",
      "[CV] END ..............................eps=4, min_samples=19; total time=   0.2s\n",
      "[CV] END ..............................eps=4, min_samples=19; total time=   0.1s\n",
      "[CV] END ..............................eps=4, min_samples=19; total time=   0.1s\n",
      "[CV] END .............................eps=4.5, min_samples=5; total time=   0.2s\n",
      "[CV] END .............................eps=4.5, min_samples=5; total time=   0.1s\n",
      "[CV] END .............................eps=4.5, min_samples=5; total time=   0.1s\n",
      "[CV] END ..............................eps=3, min_samples=25; total time=   0.2s\n",
      "[CV] END ..............................eps=3, min_samples=25; total time=   0.2s\n",
      "[CV] END ..............................eps=3, min_samples=25; total time=   0.2s\n",
      "[CV] END .............................eps=3.5, min_samples=5; total time=   0.2s\n",
      "[CV] END .............................eps=3.5, min_samples=5; total time=   0.2s\n",
      "[CV] END .............................eps=3.5, min_samples=5; total time=   0.1s\n",
      "[CV] END ............................eps=0.5, min_samples=25; total time=   0.1s\n",
      "[CV] END ............................eps=0.5, min_samples=25; total time=   0.1s\n",
      "[CV] END ............................eps=0.5, min_samples=25; total time=   0.1s\n",
      "[CV] END ..............................eps=8, min_samples=19; total time=   0.1s\n",
      "[CV] END ..............................eps=8, min_samples=19; total time=   0.1s\n",
      "[CV] END ..............................eps=8, min_samples=19; total time=   0.1s\n",
      "[CV] END ..............................eps=4, min_samples=10; total time=   0.2s\n",
      "[CV] END ..............................eps=4, min_samples=10; total time=   0.1s\n",
      "[CV] END ..............................eps=4, min_samples=10; total time=   0.1s\n",
      "[CV] END ............................eps=6.5, min_samples=15; total time=   0.2s\n",
      "[CV] END ............................eps=6.5, min_samples=15; total time=   0.1s\n",
      "[CV] END ............................eps=6.5, min_samples=15; total time=   0.1s\n",
      "[CV] END ..............................eps=6, min_samples=10; total time=   0.2s\n",
      "[CV] END ..............................eps=6, min_samples=10; total time=   0.1s\n",
      "[CV] END ..............................eps=6, min_samples=10; total time=   0.1s\n",
      "[CV] END ..............................eps=1, min_samples=19; total time=   0.1s\n",
      "[CV] END ..............................eps=1, min_samples=19; total time=   0.1s\n",
      "[CV] END ..............................eps=1, min_samples=19; total time=   0.1s\n",
      "[CV] END .............................eps=0.5, min_samples=5; total time=   0.1s\n",
      "[CV] END .............................eps=0.5, min_samples=5; total time=   0.1s\n",
      "[CV] END .............................eps=0.5, min_samples=5; total time=   0.1s\n",
      "[CV] END ..............................eps=2, min_samples=25; total time=   0.2s\n",
      "[CV] END ..............................eps=2, min_samples=25; total time=   0.2s\n",
      "[CV] END ..............................eps=2, min_samples=25; total time=   0.1s\n",
      "[CV] END ............................eps=0.5, min_samples=15; total time=   0.1s\n",
      "[CV] END ............................eps=0.5, min_samples=15; total time=   0.1s\n",
      "[CV] END ............................eps=0.5, min_samples=15; total time=   0.1s\n",
      "[CV] END ..............................eps=2, min_samples=10; total time=   0.2s\n",
      "[CV] END ..............................eps=2, min_samples=10; total time=   0.2s\n",
      "[CV] END ..............................eps=2, min_samples=10; total time=   0.1s\n",
      "[CV] END .............................eps=0.5, min_samples=8; total time=   0.1s\n",
      "[CV] END .............................eps=0.5, min_samples=8; total time=   0.1s\n",
      "[CV] END .............................eps=0.5, min_samples=8; total time=   0.1s\n",
      "[CV] END ..............................eps=6, min_samples=22; total time=   0.2s\n",
      "[CV] END ..............................eps=6, min_samples=22; total time=   0.1s\n",
      "[CV] END ..............................eps=6, min_samples=22; total time=   0.1s\n",
      "[CV] END ............................eps=6.5, min_samples=19; total time=   0.2s\n",
      "[CV] END ............................eps=6.5, min_samples=19; total time=   0.1s\n",
      "[CV] END ............................eps=6.5, min_samples=19; total time=   0.1s\n",
      "[CV] END ...............................eps=1, min_samples=5; total time=   0.1s\n",
      "[CV] END ...............................eps=1, min_samples=5; total time=   0.1s\n",
      "[CV] END ...............................eps=1, min_samples=5; total time=   0.1s\n",
      "[CV] END .............................eps=1.5, min_samples=3; total time=   0.2s\n",
      "[CV] END .............................eps=1.5, min_samples=3; total time=   0.2s\n",
      "[CV] END .............................eps=1.5, min_samples=3; total time=   0.1s\n",
      "[CV] END ...............................eps=4, min_samples=8; total time=   0.2s\n",
      "[CV] END ...............................eps=4, min_samples=8; total time=   0.1s\n",
      "[CV] END ...............................eps=4, min_samples=8; total time=   0.1s\n"
     ]
    },
    {
     "data": {
      "text/html": [
       "<style>#sk-container-id-3 {color: black;background-color: white;}#sk-container-id-3 pre{padding: 0;}#sk-container-id-3 div.sk-toggleable {background-color: white;}#sk-container-id-3 label.sk-toggleable__label {cursor: pointer;display: block;width: 100%;margin-bottom: 0;padding: 0.3em;box-sizing: border-box;text-align: center;}#sk-container-id-3 label.sk-toggleable__label-arrow:before {content: \"▸\";float: left;margin-right: 0.25em;color: #696969;}#sk-container-id-3 label.sk-toggleable__label-arrow:hover:before {color: black;}#sk-container-id-3 div.sk-estimator:hover label.sk-toggleable__label-arrow:before {color: black;}#sk-container-id-3 div.sk-toggleable__content {max-height: 0;max-width: 0;overflow: hidden;text-align: left;background-color: #f0f8ff;}#sk-container-id-3 div.sk-toggleable__content pre {margin: 0.2em;color: black;border-radius: 0.25em;background-color: #f0f8ff;}#sk-container-id-3 input.sk-toggleable__control:checked~div.sk-toggleable__content {max-height: 200px;max-width: 100%;overflow: auto;}#sk-container-id-3 input.sk-toggleable__control:checked~label.sk-toggleable__label-arrow:before {content: \"▾\";}#sk-container-id-3 div.sk-estimator input.sk-toggleable__control:checked~label.sk-toggleable__label {background-color: #d4ebff;}#sk-container-id-3 div.sk-label input.sk-toggleable__control:checked~label.sk-toggleable__label {background-color: #d4ebff;}#sk-container-id-3 input.sk-hidden--visually {border: 0;clip: rect(1px 1px 1px 1px);clip: rect(1px, 1px, 1px, 1px);height: 1px;margin: -1px;overflow: hidden;padding: 0;position: absolute;width: 1px;}#sk-container-id-3 div.sk-estimator {font-family: monospace;background-color: #f0f8ff;border: 1px dotted black;border-radius: 0.25em;box-sizing: border-box;margin-bottom: 0.5em;}#sk-container-id-3 div.sk-estimator:hover {background-color: #d4ebff;}#sk-container-id-3 div.sk-parallel-item::after {content: \"\";width: 100%;border-bottom: 1px solid gray;flex-grow: 1;}#sk-container-id-3 div.sk-label:hover label.sk-toggleable__label {background-color: #d4ebff;}#sk-container-id-3 div.sk-serial::before {content: \"\";position: absolute;border-left: 1px solid gray;box-sizing: border-box;top: 0;bottom: 0;left: 50%;z-index: 0;}#sk-container-id-3 div.sk-serial {display: flex;flex-direction: column;align-items: center;background-color: white;padding-right: 0.2em;padding-left: 0.2em;position: relative;}#sk-container-id-3 div.sk-item {position: relative;z-index: 1;}#sk-container-id-3 div.sk-parallel {display: flex;align-items: stretch;justify-content: center;background-color: white;position: relative;}#sk-container-id-3 div.sk-item::before, #sk-container-id-3 div.sk-parallel-item::before {content: \"\";position: absolute;border-left: 1px solid gray;box-sizing: border-box;top: 0;bottom: 0;left: 50%;z-index: -1;}#sk-container-id-3 div.sk-parallel-item {display: flex;flex-direction: column;z-index: 1;position: relative;background-color: white;}#sk-container-id-3 div.sk-parallel-item:first-child::after {align-self: flex-end;width: 50%;}#sk-container-id-3 div.sk-parallel-item:last-child::after {align-self: flex-start;width: 50%;}#sk-container-id-3 div.sk-parallel-item:only-child::after {width: 0;}#sk-container-id-3 div.sk-dashed-wrapped {border: 1px dashed gray;margin: 0 0.4em 0.5em 0.4em;box-sizing: border-box;padding-bottom: 0.4em;background-color: white;}#sk-container-id-3 div.sk-label label {font-family: monospace;font-weight: bold;display: inline-block;line-height: 1.2em;}#sk-container-id-3 div.sk-label-container {text-align: center;}#sk-container-id-3 div.sk-container {/* jupyter's `normalize.less` sets `[hidden] { display: none; }` but bootstrap.min.css set `[hidden] { display: none !important; }` so we also need the `!important` here to be able to override the default hidden behavior on the sphinx rendered scikit-learn.org. See: https://github.com/scikit-learn/scikit-learn/issues/21755 */display: inline-block !important;position: relative;}#sk-container-id-3 div.sk-text-repr-fallback {display: none;}</style><div id=\"sk-container-id-3\" class=\"sk-top-container\"><div class=\"sk-text-repr-fallback\"><pre>RandomizedSearchCV(cv=3, estimator=DBSCAN(), n_iter=100,\n",
       "                   param_distributions={&#x27;eps&#x27;: [0.5, 1, 1.5, 2, 2.5, 3, 3.5, 4,\n",
       "                                                4.5, 5.5, 6, 6.5, 7, 7.5, 8],\n",
       "                                        &#x27;min_samples&#x27;: [3, 5, 8, 10, 15, 19, 22,\n",
       "                                                        25]},\n",
       "                   random_state=100, scoring=&#x27;fowlkes_mallows_score&#x27;,\n",
       "                   verbose=2)</pre><b>In a Jupyter environment, please rerun this cell to show the HTML representation or trust the notebook. <br />On GitHub, the HTML representation is unable to render, please try loading this page with nbviewer.org.</b></div><div class=\"sk-container\" hidden><div class=\"sk-item sk-dashed-wrapped\"><div class=\"sk-label-container\"><div class=\"sk-label sk-toggleable\"><input class=\"sk-toggleable__control sk-hidden--visually\" id=\"sk-estimator-id-7\" type=\"checkbox\" ><label for=\"sk-estimator-id-7\" class=\"sk-toggleable__label sk-toggleable__label-arrow\">RandomizedSearchCV</label><div class=\"sk-toggleable__content\"><pre>RandomizedSearchCV(cv=3, estimator=DBSCAN(), n_iter=100,\n",
       "                   param_distributions={&#x27;eps&#x27;: [0.5, 1, 1.5, 2, 2.5, 3, 3.5, 4,\n",
       "                                                4.5, 5.5, 6, 6.5, 7, 7.5, 8],\n",
       "                                        &#x27;min_samples&#x27;: [3, 5, 8, 10, 15, 19, 22,\n",
       "                                                        25]},\n",
       "                   random_state=100, scoring=&#x27;fowlkes_mallows_score&#x27;,\n",
       "                   verbose=2)</pre></div></div></div><div class=\"sk-parallel\"><div class=\"sk-parallel-item\"><div class=\"sk-item\"><div class=\"sk-label-container\"><div class=\"sk-label sk-toggleable\"><input class=\"sk-toggleable__control sk-hidden--visually\" id=\"sk-estimator-id-8\" type=\"checkbox\" ><label for=\"sk-estimator-id-8\" class=\"sk-toggleable__label sk-toggleable__label-arrow\">estimator: DBSCAN</label><div class=\"sk-toggleable__content\"><pre>DBSCAN()</pre></div></div></div><div class=\"sk-serial\"><div class=\"sk-item\"><div class=\"sk-estimator sk-toggleable\"><input class=\"sk-toggleable__control sk-hidden--visually\" id=\"sk-estimator-id-9\" type=\"checkbox\" ><label for=\"sk-estimator-id-9\" class=\"sk-toggleable__label sk-toggleable__label-arrow\">DBSCAN</label><div class=\"sk-toggleable__content\"><pre>DBSCAN()</pre></div></div></div></div></div></div></div></div></div></div>"
      ],
      "text/plain": [
       "RandomizedSearchCV(cv=3, estimator=DBSCAN(), n_iter=100,\n",
       "                   param_distributions={'eps': [0.5, 1, 1.5, 2, 2.5, 3, 3.5, 4,\n",
       "                                                4.5, 5.5, 6, 6.5, 7, 7.5, 8],\n",
       "                                        'min_samples': [3, 5, 8, 10, 15, 19, 22,\n",
       "                                                        25]},\n",
       "                   random_state=100, scoring='fowlkes_mallows_score',\n",
       "                   verbose=2)"
      ]
     },
     "execution_count": 62,
     "metadata": {},
     "output_type": "execute_result"
    }
   ],
   "source": [
    "hyp_db.fit(data_std)"
   ]
  },
  {
   "cell_type": "code",
   "execution_count": 63,
   "id": "7ff5c245",
   "metadata": {},
   "outputs": [
    {
     "data": {
      "text/plain": [
       "{'min_samples': 19, 'eps': 4.5}"
      ]
     },
     "execution_count": 63,
     "metadata": {},
     "output_type": "execute_result"
    }
   ],
   "source": [
    "hyp_db.best_params_"
   ]
  },
  {
   "cell_type": "code",
   "execution_count": 64,
   "id": "7d596476",
   "metadata": {},
   "outputs": [
    {
     "name": "stdout",
     "output_type": "stream",
     "text": [
      "Fitting 3 folds for each of 100 candidates, totalling 300 fits\n",
      "[CV] END ............................eps=4.5, min_samples=19; total time=   0.1s\n",
      "[CV] END ............................eps=4.5, min_samples=19; total time=   0.1s\n",
      "[CV] END ............................eps=4.5, min_samples=19; total time=   0.1s\n",
      "[CV] END ............................eps=3.5, min_samples=22; total time=   0.1s\n",
      "[CV] END ............................eps=3.5, min_samples=22; total time=   0.1s\n",
      "[CV] END ............................eps=3.5, min_samples=22; total time=   0.1s\n",
      "[CV] END ............................eps=2.5, min_samples=19; total time=   0.1s\n",
      "[CV] END ............................eps=2.5, min_samples=19; total time=   0.1s\n",
      "[CV] END ............................eps=2.5, min_samples=19; total time=   0.1s\n",
      "[CV] END ..............................eps=3, min_samples=22; total time=   0.1s\n",
      "[CV] END ..............................eps=3, min_samples=22; total time=   0.1s\n",
      "[CV] END ..............................eps=3, min_samples=22; total time=   0.1s\n",
      "[CV] END .............................eps=7.5, min_samples=8; total time=   0.1s\n",
      "[CV] END .............................eps=7.5, min_samples=8; total time=   0.1s\n",
      "[CV] END .............................eps=7.5, min_samples=8; total time=   0.1s\n",
      "[CV] END ...............................eps=2, min_samples=8; total time=   0.1s\n",
      "[CV] END ...............................eps=2, min_samples=8; total time=   0.1s\n",
      "[CV] END ...............................eps=2, min_samples=8; total time=   0.1s\n",
      "[CV] END ..............................eps=8, min_samples=15; total time=   0.1s\n",
      "[CV] END ..............................eps=8, min_samples=15; total time=   0.1s\n",
      "[CV] END ..............................eps=8, min_samples=15; total time=   0.1s\n",
      "[CV] END ...............................eps=4, min_samples=5; total time=   0.1s\n",
      "[CV] END ...............................eps=4, min_samples=5; total time=   0.1s\n",
      "[CV] END ...............................eps=4, min_samples=5; total time=   0.1s\n",
      "[CV] END ............................eps=1.5, min_samples=19; total time=   0.1s\n",
      "[CV] END ............................eps=1.5, min_samples=19; total time=   0.1s\n",
      "[CV] END ............................eps=1.5, min_samples=19; total time=   0.1s\n",
      "[CV] END .............................eps=2.5, min_samples=5; total time=   0.1s\n",
      "[CV] END .............................eps=2.5, min_samples=5; total time=   0.1s\n",
      "[CV] END .............................eps=2.5, min_samples=5; total time=   0.1s\n",
      "[CV] END ..............................eps=1, min_samples=10; total time=   0.1s\n",
      "[CV] END ..............................eps=1, min_samples=10; total time=   0.1s\n",
      "[CV] END ..............................eps=1, min_samples=10; total time=   0.1s\n",
      "[CV] END ............................eps=4.5, min_samples=15; total time=   0.1s\n",
      "[CV] END ............................eps=4.5, min_samples=15; total time=   0.1s\n",
      "[CV] END ............................eps=4.5, min_samples=15; total time=   0.1s\n",
      "[CV] END ...............................eps=7, min_samples=5; total time=   0.1s\n",
      "[CV] END ...............................eps=7, min_samples=5; total time=   0.1s\n",
      "[CV] END ...............................eps=7, min_samples=5; total time=   0.1s\n",
      "[CV] END ...............................eps=2, min_samples=5; total time=   0.1s\n",
      "[CV] END ...............................eps=2, min_samples=5; total time=   0.1s\n",
      "[CV] END ...............................eps=2, min_samples=5; total time=   0.1s\n",
      "[CV] END .............................eps=2.5, min_samples=3; total time=   0.1s\n",
      "[CV] END .............................eps=2.5, min_samples=3; total time=   0.1s\n",
      "[CV] END .............................eps=2.5, min_samples=3; total time=   0.1s\n",
      "[CV] END ...............................eps=6, min_samples=3; total time=   0.1s\n",
      "[CV] END ...............................eps=6, min_samples=3; total time=   0.1s\n",
      "[CV] END ...............................eps=6, min_samples=3; total time=   0.1s\n",
      "[CV] END ..............................eps=7, min_samples=19; total time=   0.1s\n",
      "[CV] END ..............................eps=7, min_samples=19; total time=   0.1s\n",
      "[CV] END ..............................eps=7, min_samples=19; total time=   0.1s\n",
      "[CV] END ............................eps=7.5, min_samples=22; total time=   0.1s\n",
      "[CV] END ............................eps=7.5, min_samples=22; total time=   0.1s\n",
      "[CV] END ............................eps=7.5, min_samples=22; total time=   0.1s\n",
      "[CV] END ..............................eps=2, min_samples=19; total time=   0.1s\n",
      "[CV] END ..............................eps=2, min_samples=19; total time=   0.1s\n",
      "[CV] END ..............................eps=2, min_samples=19; total time=   0.1s\n",
      "[CV] END ..............................eps=3, min_samples=19; total time=   0.1s\n",
      "[CV] END ..............................eps=3, min_samples=19; total time=   0.1s\n",
      "[CV] END ..............................eps=3, min_samples=19; total time=   0.1s\n",
      "[CV] END ..............................eps=2, min_samples=15; total time=   0.1s\n",
      "[CV] END ..............................eps=2, min_samples=15; total time=   0.1s\n",
      "[CV] END ..............................eps=2, min_samples=15; total time=   0.1s\n",
      "[CV] END ............................eps=6.5, min_samples=10; total time=   0.1s\n",
      "[CV] END ............................eps=6.5, min_samples=10; total time=   0.1s\n",
      "[CV] END ............................eps=6.5, min_samples=10; total time=   0.1s\n",
      "[CV] END .............................eps=6.5, min_samples=8; total time=   0.1s\n",
      "[CV] END .............................eps=6.5, min_samples=8; total time=   0.1s\n",
      "[CV] END .............................eps=6.5, min_samples=8; total time=   0.1s\n",
      "[CV] END ..............................eps=3, min_samples=10; total time=   0.1s\n",
      "[CV] END ..............................eps=3, min_samples=10; total time=   0.1s\n",
      "[CV] END ..............................eps=3, min_samples=10; total time=   0.1s\n",
      "[CV] END ............................eps=2.5, min_samples=10; total time=   0.1s\n",
      "[CV] END ............................eps=2.5, min_samples=10; total time=   0.1s\n",
      "[CV] END ............................eps=2.5, min_samples=10; total time=   0.1s\n",
      "[CV] END ...............................eps=6, min_samples=5; total time=   0.1s\n",
      "[CV] END ...............................eps=6, min_samples=5; total time=   0.1s\n",
      "[CV] END ...............................eps=6, min_samples=5; total time=   0.1s\n",
      "[CV] END .............................eps=4.5, min_samples=3; total time=   0.1s\n",
      "[CV] END .............................eps=4.5, min_samples=3; total time=   0.1s\n",
      "[CV] END .............................eps=4.5, min_samples=3; total time=   0.1s\n",
      "[CV] END ............................eps=7.5, min_samples=10; total time=   0.1s\n",
      "[CV] END ............................eps=7.5, min_samples=10; total time=   0.1s\n",
      "[CV] END ............................eps=7.5, min_samples=10; total time=   0.1s\n",
      "[CV] END ............................eps=2.5, min_samples=15; total time=   0.1s\n",
      "[CV] END ............................eps=2.5, min_samples=15; total time=   0.1s\n",
      "[CV] END ............................eps=2.5, min_samples=15; total time=   0.1s\n",
      "[CV] END ............................eps=5.5, min_samples=15; total time=   0.1s\n",
      "[CV] END ............................eps=5.5, min_samples=15; total time=   0.1s\n",
      "[CV] END ............................eps=5.5, min_samples=15; total time=   0.1s\n",
      "[CV] END ............................eps=1.5, min_samples=22; total time=   0.1s\n",
      "[CV] END ............................eps=1.5, min_samples=22; total time=   0.1s\n",
      "[CV] END ............................eps=1.5, min_samples=22; total time=   0.1s\n",
      "[CV] END ............................eps=3.5, min_samples=10; total time=   0.1s\n",
      "[CV] END ............................eps=3.5, min_samples=10; total time=   0.1s\n",
      "[CV] END ............................eps=3.5, min_samples=10; total time=   0.1s\n",
      "[CV] END ..............................eps=6, min_samples=15; total time=   0.1s\n",
      "[CV] END ..............................eps=6, min_samples=15; total time=   0.1s\n",
      "[CV] END ..............................eps=6, min_samples=15; total time=   0.1s\n",
      "[CV] END ............................eps=0.5, min_samples=19; total time=   0.1s\n",
      "[CV] END ............................eps=0.5, min_samples=19; total time=   0.1s\n",
      "[CV] END ............................eps=0.5, min_samples=19; total time=   0.1s\n",
      "[CV] END ..............................eps=6, min_samples=19; total time=   0.1s\n",
      "[CV] END ..............................eps=6, min_samples=19; total time=   0.1s\n",
      "[CV] END ..............................eps=6, min_samples=19; total time=   0.1s\n",
      "[CV] END ............................eps=1.5, min_samples=25; total time=   0.1s\n",
      "[CV] END ............................eps=1.5, min_samples=25; total time=   0.1s\n",
      "[CV] END ............................eps=1.5, min_samples=25; total time=   0.1s\n",
      "[CV] END ............................eps=6.5, min_samples=25; total time=   0.1s\n",
      "[CV] END ............................eps=6.5, min_samples=25; total time=   0.1s\n",
      "[CV] END ............................eps=6.5, min_samples=25; total time=   0.1s\n",
      "[CV] END ..............................eps=7, min_samples=22; total time=   0.1s\n",
      "[CV] END ..............................eps=7, min_samples=22; total time=   0.1s\n",
      "[CV] END ..............................eps=7, min_samples=22; total time=   0.1s\n",
      "[CV] END ............................eps=1.5, min_samples=15; total time=   0.1s\n",
      "[CV] END ............................eps=1.5, min_samples=15; total time=   0.1s\n",
      "[CV] END ............................eps=1.5, min_samples=15; total time=   0.1s\n",
      "[CV] END ...............................eps=3, min_samples=5; total time=   0.1s\n",
      "[CV] END ...............................eps=3, min_samples=5; total time=   0.1s\n",
      "[CV] END ...............................eps=3, min_samples=5; total time=   0.1s\n",
      "[CV] END ............................eps=0.5, min_samples=22; total time=   0.1s\n",
      "[CV] END ............................eps=0.5, min_samples=22; total time=   0.1s\n",
      "[CV] END ............................eps=0.5, min_samples=22; total time=   0.1s\n",
      "[CV] END ............................eps=0.5, min_samples=10; total time=   0.1s\n",
      "[CV] END ............................eps=0.5, min_samples=10; total time=   0.1s\n",
      "[CV] END ............................eps=0.5, min_samples=10; total time=   0.1s\n",
      "[CV] END ............................eps=5.5, min_samples=22; total time=   0.1s\n",
      "[CV] END ............................eps=5.5, min_samples=22; total time=   0.1s\n",
      "[CV] END ............................eps=5.5, min_samples=22; total time=   0.1s\n",
      "[CV] END ..............................eps=1, min_samples=15; total time=   0.1s\n",
      "[CV] END ..............................eps=1, min_samples=15; total time=   0.1s\n",
      "[CV] END ..............................eps=1, min_samples=15; total time=   0.1s\n",
      "[CV] END ..............................eps=4, min_samples=22; total time=   0.1s\n",
      "[CV] END ..............................eps=4, min_samples=22; total time=   0.1s\n",
      "[CV] END ..............................eps=4, min_samples=22; total time=   0.1s\n",
      "[CV] END .............................eps=5.5, min_samples=8; total time=   0.1s\n",
      "[CV] END .............................eps=5.5, min_samples=8; total time=   0.1s\n",
      "[CV] END .............................eps=5.5, min_samples=8; total time=   0.1s\n",
      "[CV] END ...............................eps=8, min_samples=8; total time=   0.1s\n",
      "[CV] END ...............................eps=8, min_samples=8; total time=   0.1s\n",
      "[CV] END ...............................eps=8, min_samples=8; total time=   0.1s\n",
      "[CV] END ............................eps=5.5, min_samples=10; total time=   0.1s\n",
      "[CV] END ............................eps=5.5, min_samples=10; total time=   0.1s\n",
      "[CV] END ............................eps=5.5, min_samples=10; total time=   0.1s\n",
      "[CV] END .............................eps=6.5, min_samples=3; total time=   0.1s\n",
      "[CV] END .............................eps=6.5, min_samples=3; total time=   0.1s\n",
      "[CV] END .............................eps=6.5, min_samples=3; total time=   0.1s\n",
      "[CV] END .............................eps=5.5, min_samples=3; total time=   0.1s\n",
      "[CV] END .............................eps=5.5, min_samples=3; total time=   0.1s\n",
      "[CV] END .............................eps=5.5, min_samples=3; total time=   0.1s\n",
      "[CV] END ...............................eps=3, min_samples=3; total time=   0.1s\n",
      "[CV] END ...............................eps=3, min_samples=3; total time=   0.1s\n",
      "[CV] END ...............................eps=3, min_samples=3; total time=   0.1s\n",
      "[CV] END .............................eps=3.5, min_samples=8; total time=   0.1s\n",
      "[CV] END .............................eps=3.5, min_samples=8; total time=   0.1s\n",
      "[CV] END .............................eps=3.5, min_samples=8; total time=   0.1s\n",
      "[CV] END ..............................eps=8, min_samples=10; total time=   0.1s\n",
      "[CV] END ..............................eps=8, min_samples=10; total time=   0.1s\n",
      "[CV] END ..............................eps=8, min_samples=10; total time=   0.1s\n",
      "[CV] END ..............................eps=7, min_samples=10; total time=   0.1s\n",
      "[CV] END ..............................eps=7, min_samples=10; total time=   0.1s\n",
      "[CV] END ..............................eps=7, min_samples=10; total time=   0.1s\n",
      "[CV] END ............................eps=4.5, min_samples=22; total time=   0.1s\n",
      "[CV] END ............................eps=4.5, min_samples=22; total time=   0.1s\n",
      "[CV] END ............................eps=4.5, min_samples=22; total time=   0.1s\n",
      "[CV] END ...............................eps=3, min_samples=8; total time=   0.1s\n",
      "[CV] END ...............................eps=3, min_samples=8; total time=   0.1s\n",
      "[CV] END ...............................eps=3, min_samples=8; total time=   0.1s\n",
      "[CV] END .............................eps=6.5, min_samples=5; total time=   0.1s\n",
      "[CV] END .............................eps=6.5, min_samples=5; total time=   0.1s\n",
      "[CV] END .............................eps=6.5, min_samples=5; total time=   0.1s\n",
      "[CV] END ..............................eps=8, min_samples=25; total time=   0.1s\n",
      "[CV] END ..............................eps=8, min_samples=25; total time=   0.1s\n",
      "[CV] END ..............................eps=8, min_samples=25; total time=   0.1s\n",
      "[CV] END .............................eps=1.5, min_samples=5; total time=   0.1s\n",
      "[CV] END .............................eps=1.5, min_samples=5; total time=   0.1s\n",
      "[CV] END .............................eps=1.5, min_samples=5; total time=   0.1s\n",
      "[CV] END ...............................eps=8, min_samples=3; total time=   0.1s\n",
      "[CV] END ...............................eps=8, min_samples=3; total time=   0.1s\n",
      "[CV] END ...............................eps=8, min_samples=3; total time=   0.1s\n",
      "[CV] END .............................eps=5.5, min_samples=5; total time=   0.1s\n",
      "[CV] END .............................eps=5.5, min_samples=5; total time=   0.1s\n",
      "[CV] END .............................eps=5.5, min_samples=5; total time=   0.1s\n",
      "[CV] END .............................eps=7.5, min_samples=3; total time=   0.1s\n",
      "[CV] END .............................eps=7.5, min_samples=3; total time=   0.1s\n",
      "[CV] END .............................eps=7.5, min_samples=3; total time=   0.1s\n",
      "[CV] END ............................eps=5.5, min_samples=19; total time=   0.1s\n",
      "[CV] END ............................eps=5.5, min_samples=19; total time=   0.1s\n",
      "[CV] END ............................eps=5.5, min_samples=19; total time=   0.1s\n",
      "[CV] END .............................eps=0.5, min_samples=3; total time=   0.1s\n",
      "[CV] END .............................eps=0.5, min_samples=3; total time=   0.1s\n",
      "[CV] END .............................eps=0.5, min_samples=3; total time=   0.1s\n",
      "[CV] END .............................eps=1.5, min_samples=8; total time=   0.1s\n",
      "[CV] END .............................eps=1.5, min_samples=8; total time=   0.1s\n",
      "[CV] END .............................eps=1.5, min_samples=8; total time=   0.1s\n",
      "[CV] END ..............................eps=3, min_samples=15; total time=   0.1s\n",
      "[CV] END ..............................eps=3, min_samples=15; total time=   0.1s\n",
      "[CV] END ..............................eps=3, min_samples=15; total time=   0.1s\n",
      "[CV] END ............................eps=2.5, min_samples=22; total time=   0.1s\n",
      "[CV] END ............................eps=2.5, min_samples=22; total time=   0.1s\n",
      "[CV] END ............................eps=2.5, min_samples=22; total time=   0.1s\n",
      "[CV] END ............................eps=2.5, min_samples=25; total time=   0.1s\n",
      "[CV] END ............................eps=2.5, min_samples=25; total time=   0.1s\n",
      "[CV] END ............................eps=2.5, min_samples=25; total time=   0.1s\n",
      "[CV] END ...............................eps=6, min_samples=8; total time=   0.1s\n",
      "[CV] END ...............................eps=6, min_samples=8; total time=   0.1s\n",
      "[CV] END ...............................eps=6, min_samples=8; total time=   0.1s\n",
      "[CV] END ...............................eps=8, min_samples=5; total time=   0.1s\n",
      "[CV] END ...............................eps=8, min_samples=5; total time=   0.1s\n",
      "[CV] END ...............................eps=8, min_samples=5; total time=   0.1s\n",
      "[CV] END ..............................eps=2, min_samples=22; total time=   0.1s\n",
      "[CV] END ..............................eps=2, min_samples=22; total time=   0.1s\n",
      "[CV] END ..............................eps=2, min_samples=22; total time=   0.1s\n",
      "[CV] END ...............................eps=4, min_samples=3; total time=   0.1s\n",
      "[CV] END ...............................eps=4, min_samples=3; total time=   0.1s\n",
      "[CV] END ...............................eps=4, min_samples=3; total time=   0.1s\n",
      "[CV] END ...............................eps=7, min_samples=3; total time=   0.1s\n",
      "[CV] END ...............................eps=7, min_samples=3; total time=   0.1s\n",
      "[CV] END ...............................eps=7, min_samples=3; total time=   0.1s\n",
      "[CV] END ............................eps=7.5, min_samples=15; total time=   0.1s\n",
      "[CV] END ............................eps=7.5, min_samples=15; total time=   0.1s\n",
      "[CV] END ............................eps=7.5, min_samples=15; total time=   0.1s\n",
      "[CV] END ..............................eps=4, min_samples=25; total time=   0.1s\n",
      "[CV] END ..............................eps=4, min_samples=25; total time=   0.1s\n",
      "[CV] END ..............................eps=4, min_samples=25; total time=   0.1s\n",
      "[CV] END ............................eps=1.5, min_samples=10; total time=   0.1s\n",
      "[CV] END ............................eps=1.5, min_samples=10; total time=   0.1s\n",
      "[CV] END ............................eps=1.5, min_samples=10; total time=   0.1s\n",
      "[CV] END ............................eps=7.5, min_samples=25; total time=   0.1s\n",
      "[CV] END ............................eps=7.5, min_samples=25; total time=   0.1s\n",
      "[CV] END ............................eps=7.5, min_samples=25; total time=   0.1s\n",
      "[CV] END ............................eps=4.5, min_samples=25; total time=   0.1s\n",
      "[CV] END ............................eps=4.5, min_samples=25; total time=   0.1s\n",
      "[CV] END ............................eps=4.5, min_samples=25; total time=   0.1s\n",
      "[CV] END ............................eps=3.5, min_samples=25; total time=   0.1s\n",
      "[CV] END ............................eps=3.5, min_samples=25; total time=   0.1s\n",
      "[CV] END ............................eps=3.5, min_samples=25; total time=   0.1s\n",
      "[CV] END .............................eps=7.5, min_samples=5; total time=   0.1s\n",
      "[CV] END .............................eps=7.5, min_samples=5; total time=   0.1s\n",
      "[CV] END .............................eps=7.5, min_samples=5; total time=   0.1s\n",
      "[CV] END ..............................eps=4, min_samples=19; total time=   0.1s\n",
      "[CV] END ..............................eps=4, min_samples=19; total time=   0.1s\n",
      "[CV] END ..............................eps=4, min_samples=19; total time=   0.1s\n",
      "[CV] END .............................eps=4.5, min_samples=5; total time=   0.1s\n",
      "[CV] END .............................eps=4.5, min_samples=5; total time=   0.1s\n",
      "[CV] END .............................eps=4.5, min_samples=5; total time=   0.1s\n",
      "[CV] END ..............................eps=3, min_samples=25; total time=   0.1s\n",
      "[CV] END ..............................eps=3, min_samples=25; total time=   0.1s\n",
      "[CV] END ..............................eps=3, min_samples=25; total time=   0.1s\n",
      "[CV] END .............................eps=3.5, min_samples=5; total time=   0.1s\n",
      "[CV] END .............................eps=3.5, min_samples=5; total time=   0.1s\n",
      "[CV] END .............................eps=3.5, min_samples=5; total time=   0.1s\n",
      "[CV] END ............................eps=0.5, min_samples=25; total time=   0.1s\n",
      "[CV] END ............................eps=0.5, min_samples=25; total time=   0.1s\n",
      "[CV] END ............................eps=0.5, min_samples=25; total time=   0.1s\n",
      "[CV] END ..............................eps=8, min_samples=19; total time=   0.1s\n",
      "[CV] END ..............................eps=8, min_samples=19; total time=   0.1s\n",
      "[CV] END ..............................eps=8, min_samples=19; total time=   0.1s\n",
      "[CV] END ..............................eps=4, min_samples=10; total time=   0.1s\n",
      "[CV] END ..............................eps=4, min_samples=10; total time=   0.1s\n",
      "[CV] END ..............................eps=4, min_samples=10; total time=   0.1s\n",
      "[CV] END ............................eps=6.5, min_samples=15; total time=   0.1s\n",
      "[CV] END ............................eps=6.5, min_samples=15; total time=   0.1s\n",
      "[CV] END ............................eps=6.5, min_samples=15; total time=   0.1s\n",
      "[CV] END ..............................eps=6, min_samples=10; total time=   0.1s\n",
      "[CV] END ..............................eps=6, min_samples=10; total time=   0.1s\n",
      "[CV] END ..............................eps=6, min_samples=10; total time=   0.1s\n",
      "[CV] END ..............................eps=1, min_samples=19; total time=   0.1s\n",
      "[CV] END ..............................eps=1, min_samples=19; total time=   0.1s\n",
      "[CV] END ..............................eps=1, min_samples=19; total time=   0.1s\n",
      "[CV] END .............................eps=0.5, min_samples=5; total time=   0.1s\n",
      "[CV] END .............................eps=0.5, min_samples=5; total time=   0.1s\n",
      "[CV] END .............................eps=0.5, min_samples=5; total time=   0.1s\n",
      "[CV] END ..............................eps=2, min_samples=25; total time=   0.1s\n",
      "[CV] END ..............................eps=2, min_samples=25; total time=   0.1s\n",
      "[CV] END ..............................eps=2, min_samples=25; total time=   0.1s\n",
      "[CV] END ............................eps=0.5, min_samples=15; total time=   0.1s\n",
      "[CV] END ............................eps=0.5, min_samples=15; total time=   0.1s\n",
      "[CV] END ............................eps=0.5, min_samples=15; total time=   0.1s\n",
      "[CV] END ..............................eps=2, min_samples=10; total time=   0.1s\n",
      "[CV] END ..............................eps=2, min_samples=10; total time=   0.1s\n",
      "[CV] END ..............................eps=2, min_samples=10; total time=   0.1s\n",
      "[CV] END .............................eps=0.5, min_samples=8; total time=   0.1s\n",
      "[CV] END .............................eps=0.5, min_samples=8; total time=   0.1s\n",
      "[CV] END .............................eps=0.5, min_samples=8; total time=   0.1s\n",
      "[CV] END ..............................eps=6, min_samples=22; total time=   0.1s\n",
      "[CV] END ..............................eps=6, min_samples=22; total time=   0.1s\n",
      "[CV] END ..............................eps=6, min_samples=22; total time=   0.1s\n",
      "[CV] END ............................eps=6.5, min_samples=19; total time=   0.1s\n",
      "[CV] END ............................eps=6.5, min_samples=19; total time=   0.1s\n",
      "[CV] END ............................eps=6.5, min_samples=19; total time=   0.1s\n",
      "[CV] END ...............................eps=1, min_samples=5; total time=   0.1s\n",
      "[CV] END ...............................eps=1, min_samples=5; total time=   0.1s\n",
      "[CV] END ...............................eps=1, min_samples=5; total time=   0.1s\n",
      "[CV] END .............................eps=1.5, min_samples=3; total time=   0.1s\n",
      "[CV] END .............................eps=1.5, min_samples=3; total time=   0.1s\n",
      "[CV] END .............................eps=1.5, min_samples=3; total time=   0.1s\n",
      "[CV] END ...............................eps=4, min_samples=8; total time=   0.1s\n",
      "[CV] END ...............................eps=4, min_samples=8; total time=   0.1s\n",
      "[CV] END ...............................eps=4, min_samples=8; total time=   0.1s\n"
     ]
    },
    {
     "data": {
      "text/html": [
       "<style>#sk-container-id-4 {color: black;background-color: white;}#sk-container-id-4 pre{padding: 0;}#sk-container-id-4 div.sk-toggleable {background-color: white;}#sk-container-id-4 label.sk-toggleable__label {cursor: pointer;display: block;width: 100%;margin-bottom: 0;padding: 0.3em;box-sizing: border-box;text-align: center;}#sk-container-id-4 label.sk-toggleable__label-arrow:before {content: \"▸\";float: left;margin-right: 0.25em;color: #696969;}#sk-container-id-4 label.sk-toggleable__label-arrow:hover:before {color: black;}#sk-container-id-4 div.sk-estimator:hover label.sk-toggleable__label-arrow:before {color: black;}#sk-container-id-4 div.sk-toggleable__content {max-height: 0;max-width: 0;overflow: hidden;text-align: left;background-color: #f0f8ff;}#sk-container-id-4 div.sk-toggleable__content pre {margin: 0.2em;color: black;border-radius: 0.25em;background-color: #f0f8ff;}#sk-container-id-4 input.sk-toggleable__control:checked~div.sk-toggleable__content {max-height: 200px;max-width: 100%;overflow: auto;}#sk-container-id-4 input.sk-toggleable__control:checked~label.sk-toggleable__label-arrow:before {content: \"▾\";}#sk-container-id-4 div.sk-estimator input.sk-toggleable__control:checked~label.sk-toggleable__label {background-color: #d4ebff;}#sk-container-id-4 div.sk-label input.sk-toggleable__control:checked~label.sk-toggleable__label {background-color: #d4ebff;}#sk-container-id-4 input.sk-hidden--visually {border: 0;clip: rect(1px 1px 1px 1px);clip: rect(1px, 1px, 1px, 1px);height: 1px;margin: -1px;overflow: hidden;padding: 0;position: absolute;width: 1px;}#sk-container-id-4 div.sk-estimator {font-family: monospace;background-color: #f0f8ff;border: 1px dotted black;border-radius: 0.25em;box-sizing: border-box;margin-bottom: 0.5em;}#sk-container-id-4 div.sk-estimator:hover {background-color: #d4ebff;}#sk-container-id-4 div.sk-parallel-item::after {content: \"\";width: 100%;border-bottom: 1px solid gray;flex-grow: 1;}#sk-container-id-4 div.sk-label:hover label.sk-toggleable__label {background-color: #d4ebff;}#sk-container-id-4 div.sk-serial::before {content: \"\";position: absolute;border-left: 1px solid gray;box-sizing: border-box;top: 0;bottom: 0;left: 50%;z-index: 0;}#sk-container-id-4 div.sk-serial {display: flex;flex-direction: column;align-items: center;background-color: white;padding-right: 0.2em;padding-left: 0.2em;position: relative;}#sk-container-id-4 div.sk-item {position: relative;z-index: 1;}#sk-container-id-4 div.sk-parallel {display: flex;align-items: stretch;justify-content: center;background-color: white;position: relative;}#sk-container-id-4 div.sk-item::before, #sk-container-id-4 div.sk-parallel-item::before {content: \"\";position: absolute;border-left: 1px solid gray;box-sizing: border-box;top: 0;bottom: 0;left: 50%;z-index: -1;}#sk-container-id-4 div.sk-parallel-item {display: flex;flex-direction: column;z-index: 1;position: relative;background-color: white;}#sk-container-id-4 div.sk-parallel-item:first-child::after {align-self: flex-end;width: 50%;}#sk-container-id-4 div.sk-parallel-item:last-child::after {align-self: flex-start;width: 50%;}#sk-container-id-4 div.sk-parallel-item:only-child::after {width: 0;}#sk-container-id-4 div.sk-dashed-wrapped {border: 1px dashed gray;margin: 0 0.4em 0.5em 0.4em;box-sizing: border-box;padding-bottom: 0.4em;background-color: white;}#sk-container-id-4 div.sk-label label {font-family: monospace;font-weight: bold;display: inline-block;line-height: 1.2em;}#sk-container-id-4 div.sk-label-container {text-align: center;}#sk-container-id-4 div.sk-container {/* jupyter's `normalize.less` sets `[hidden] { display: none; }` but bootstrap.min.css set `[hidden] { display: none !important; }` so we also need the `!important` here to be able to override the default hidden behavior on the sphinx rendered scikit-learn.org. See: https://github.com/scikit-learn/scikit-learn/issues/21755 */display: inline-block !important;position: relative;}#sk-container-id-4 div.sk-text-repr-fallback {display: none;}</style><div id=\"sk-container-id-4\" class=\"sk-top-container\"><div class=\"sk-text-repr-fallback\"><pre>RandomizedSearchCV(cv=3, estimator=DBSCAN(), n_iter=100,\n",
       "                   param_distributions={&#x27;eps&#x27;: [0.5, 1, 1.5, 2, 2.5, 3, 3.5, 4,\n",
       "                                                4.5, 5.5, 6, 6.5, 7, 7.5, 8],\n",
       "                                        &#x27;min_samples&#x27;: [3, 5, 8, 10, 15, 19, 22,\n",
       "                                                        25]},\n",
       "                   random_state=100, scoring=&#x27;fowlkes_mallows_score&#x27;,\n",
       "                   verbose=2)</pre><b>In a Jupyter environment, please rerun this cell to show the HTML representation or trust the notebook. <br />On GitHub, the HTML representation is unable to render, please try loading this page with nbviewer.org.</b></div><div class=\"sk-container\" hidden><div class=\"sk-item sk-dashed-wrapped\"><div class=\"sk-label-container\"><div class=\"sk-label sk-toggleable\"><input class=\"sk-toggleable__control sk-hidden--visually\" id=\"sk-estimator-id-10\" type=\"checkbox\" ><label for=\"sk-estimator-id-10\" class=\"sk-toggleable__label sk-toggleable__label-arrow\">RandomizedSearchCV</label><div class=\"sk-toggleable__content\"><pre>RandomizedSearchCV(cv=3, estimator=DBSCAN(), n_iter=100,\n",
       "                   param_distributions={&#x27;eps&#x27;: [0.5, 1, 1.5, 2, 2.5, 3, 3.5, 4,\n",
       "                                                4.5, 5.5, 6, 6.5, 7, 7.5, 8],\n",
       "                                        &#x27;min_samples&#x27;: [3, 5, 8, 10, 15, 19, 22,\n",
       "                                                        25]},\n",
       "                   random_state=100, scoring=&#x27;fowlkes_mallows_score&#x27;,\n",
       "                   verbose=2)</pre></div></div></div><div class=\"sk-parallel\"><div class=\"sk-parallel-item\"><div class=\"sk-item\"><div class=\"sk-label-container\"><div class=\"sk-label sk-toggleable\"><input class=\"sk-toggleable__control sk-hidden--visually\" id=\"sk-estimator-id-11\" type=\"checkbox\" ><label for=\"sk-estimator-id-11\" class=\"sk-toggleable__label sk-toggleable__label-arrow\">estimator: DBSCAN</label><div class=\"sk-toggleable__content\"><pre>DBSCAN()</pre></div></div></div><div class=\"sk-serial\"><div class=\"sk-item\"><div class=\"sk-estimator sk-toggleable\"><input class=\"sk-toggleable__control sk-hidden--visually\" id=\"sk-estimator-id-12\" type=\"checkbox\" ><label for=\"sk-estimator-id-12\" class=\"sk-toggleable__label sk-toggleable__label-arrow\">DBSCAN</label><div class=\"sk-toggleable__content\"><pre>DBSCAN()</pre></div></div></div></div></div></div></div></div></div></div>"
      ],
      "text/plain": [
       "RandomizedSearchCV(cv=3, estimator=DBSCAN(), n_iter=100,\n",
       "                   param_distributions={'eps': [0.5, 1, 1.5, 2, 2.5, 3, 3.5, 4,\n",
       "                                                4.5, 5.5, 6, 6.5, 7, 7.5, 8],\n",
       "                                        'min_samples': [3, 5, 8, 10, 15, 19, 22,\n",
       "                                                        25]},\n",
       "                   random_state=100, scoring='fowlkes_mallows_score',\n",
       "                   verbose=2)"
      ]
     },
     "execution_count": 64,
     "metadata": {},
     "output_type": "execute_result"
    }
   ],
   "source": [
    "hyp_db.fit(data_minmax)"
   ]
  },
  {
   "cell_type": "code",
   "execution_count": 65,
   "id": "e926546a",
   "metadata": {},
   "outputs": [
    {
     "data": {
      "text/plain": [
       "{'min_samples': 19, 'eps': 4.5}"
      ]
     },
     "execution_count": 65,
     "metadata": {},
     "output_type": "execute_result"
    }
   ],
   "source": [
    "hyp_db.best_params_"
   ]
  },
  {
   "cell_type": "code",
   "execution_count": 66,
   "id": "c5e58b87",
   "metadata": {},
   "outputs": [],
   "source": [
    "param={'eps':[4.2,4.3,4.4,4.5,4.6,4.7,4.8,4.9],'min_samples':[16,16,18,19,20,21]}"
   ]
  },
  {
   "cell_type": "code",
   "execution_count": 67,
   "id": "0b2e90ca",
   "metadata": {},
   "outputs": [],
   "source": [
    "grid_db=GridSearchCV(estimator=db,param_grid=param,cv=3,verbose=2,scoring='fowlkes_mallows_score')"
   ]
  },
  {
   "cell_type": "code",
   "execution_count": 68,
   "id": "9eef1c59",
   "metadata": {},
   "outputs": [
    {
     "name": "stdout",
     "output_type": "stream",
     "text": [
      "Fitting 3 folds for each of 48 candidates, totalling 144 fits\n",
      "[CV] END ............................eps=4.2, min_samples=16; total time=   0.2s\n",
      "[CV] END ............................eps=4.2, min_samples=16; total time=   0.1s\n",
      "[CV] END ............................eps=4.2, min_samples=16; total time=   0.1s\n",
      "[CV] END ............................eps=4.2, min_samples=16; total time=   0.2s\n",
      "[CV] END ............................eps=4.2, min_samples=16; total time=   0.1s\n",
      "[CV] END ............................eps=4.2, min_samples=16; total time=   0.1s\n",
      "[CV] END ............................eps=4.2, min_samples=18; total time=   0.2s\n",
      "[CV] END ............................eps=4.2, min_samples=18; total time=   0.1s\n",
      "[CV] END ............................eps=4.2, min_samples=18; total time=   0.1s\n",
      "[CV] END ............................eps=4.2, min_samples=19; total time=   0.2s\n",
      "[CV] END ............................eps=4.2, min_samples=19; total time=   0.1s\n",
      "[CV] END ............................eps=4.2, min_samples=19; total time=   0.1s\n",
      "[CV] END ............................eps=4.2, min_samples=20; total time=   0.2s\n",
      "[CV] END ............................eps=4.2, min_samples=20; total time=   0.1s\n",
      "[CV] END ............................eps=4.2, min_samples=20; total time=   0.1s\n",
      "[CV] END ............................eps=4.2, min_samples=21; total time=   0.2s\n",
      "[CV] END ............................eps=4.2, min_samples=21; total time=   0.1s\n",
      "[CV] END ............................eps=4.2, min_samples=21; total time=   0.1s\n",
      "[CV] END ............................eps=4.3, min_samples=16; total time=   0.2s\n",
      "[CV] END ............................eps=4.3, min_samples=16; total time=   0.1s\n",
      "[CV] END ............................eps=4.3, min_samples=16; total time=   0.1s\n",
      "[CV] END ............................eps=4.3, min_samples=16; total time=   0.2s\n",
      "[CV] END ............................eps=4.3, min_samples=16; total time=   0.1s\n",
      "[CV] END ............................eps=4.3, min_samples=16; total time=   0.1s\n",
      "[CV] END ............................eps=4.3, min_samples=18; total time=   0.2s\n",
      "[CV] END ............................eps=4.3, min_samples=18; total time=   0.2s\n",
      "[CV] END ............................eps=4.3, min_samples=18; total time=   0.1s\n",
      "[CV] END ............................eps=4.3, min_samples=19; total time=   0.2s\n",
      "[CV] END ............................eps=4.3, min_samples=19; total time=   0.2s\n",
      "[CV] END ............................eps=4.3, min_samples=19; total time=   0.1s\n",
      "[CV] END ............................eps=4.3, min_samples=20; total time=   0.2s\n",
      "[CV] END ............................eps=4.3, min_samples=20; total time=   0.2s\n",
      "[CV] END ............................eps=4.3, min_samples=20; total time=   0.1s\n",
      "[CV] END ............................eps=4.3, min_samples=21; total time=   0.2s\n",
      "[CV] END ............................eps=4.3, min_samples=21; total time=   0.1s\n",
      "[CV] END ............................eps=4.3, min_samples=21; total time=   0.1s\n",
      "[CV] END ............................eps=4.4, min_samples=16; total time=   0.2s\n",
      "[CV] END ............................eps=4.4, min_samples=16; total time=   0.1s\n",
      "[CV] END ............................eps=4.4, min_samples=16; total time=   0.1s\n",
      "[CV] END ............................eps=4.4, min_samples=16; total time=   0.2s\n",
      "[CV] END ............................eps=4.4, min_samples=16; total time=   0.1s\n",
      "[CV] END ............................eps=4.4, min_samples=16; total time=   0.1s\n",
      "[CV] END ............................eps=4.4, min_samples=18; total time=   0.2s\n",
      "[CV] END ............................eps=4.4, min_samples=18; total time=   0.1s\n",
      "[CV] END ............................eps=4.4, min_samples=18; total time=   0.1s\n",
      "[CV] END ............................eps=4.4, min_samples=19; total time=   0.2s\n",
      "[CV] END ............................eps=4.4, min_samples=19; total time=   0.1s\n",
      "[CV] END ............................eps=4.4, min_samples=19; total time=   0.1s\n",
      "[CV] END ............................eps=4.4, min_samples=20; total time=   0.2s\n",
      "[CV] END ............................eps=4.4, min_samples=20; total time=   0.1s\n",
      "[CV] END ............................eps=4.4, min_samples=20; total time=   0.1s\n",
      "[CV] END ............................eps=4.4, min_samples=21; total time=   0.2s\n",
      "[CV] END ............................eps=4.4, min_samples=21; total time=   0.1s\n",
      "[CV] END ............................eps=4.4, min_samples=21; total time=   0.1s\n",
      "[CV] END ............................eps=4.5, min_samples=16; total time=   0.2s\n",
      "[CV] END ............................eps=4.5, min_samples=16; total time=   0.1s\n",
      "[CV] END ............................eps=4.5, min_samples=16; total time=   0.1s\n",
      "[CV] END ............................eps=4.5, min_samples=16; total time=   0.2s\n",
      "[CV] END ............................eps=4.5, min_samples=16; total time=   0.1s\n",
      "[CV] END ............................eps=4.5, min_samples=16; total time=   0.1s\n",
      "[CV] END ............................eps=4.5, min_samples=18; total time=   0.2s\n",
      "[CV] END ............................eps=4.5, min_samples=18; total time=   0.1s\n",
      "[CV] END ............................eps=4.5, min_samples=18; total time=   0.1s\n",
      "[CV] END ............................eps=4.5, min_samples=19; total time=   0.2s\n",
      "[CV] END ............................eps=4.5, min_samples=19; total time=   0.1s\n",
      "[CV] END ............................eps=4.5, min_samples=19; total time=   0.1s\n",
      "[CV] END ............................eps=4.5, min_samples=20; total time=   0.2s\n",
      "[CV] END ............................eps=4.5, min_samples=20; total time=   0.1s\n",
      "[CV] END ............................eps=4.5, min_samples=20; total time=   0.1s\n",
      "[CV] END ............................eps=4.5, min_samples=21; total time=   0.2s\n",
      "[CV] END ............................eps=4.5, min_samples=21; total time=   0.1s\n",
      "[CV] END ............................eps=4.5, min_samples=21; total time=   0.1s\n",
      "[CV] END ............................eps=4.6, min_samples=16; total time=   0.2s\n",
      "[CV] END ............................eps=4.6, min_samples=16; total time=   0.1s\n",
      "[CV] END ............................eps=4.6, min_samples=16; total time=   0.1s\n",
      "[CV] END ............................eps=4.6, min_samples=16; total time=   0.2s\n",
      "[CV] END ............................eps=4.6, min_samples=16; total time=   0.1s\n",
      "[CV] END ............................eps=4.6, min_samples=16; total time=   0.1s\n",
      "[CV] END ............................eps=4.6, min_samples=18; total time=   0.2s\n",
      "[CV] END ............................eps=4.6, min_samples=18; total time=   0.1s\n",
      "[CV] END ............................eps=4.6, min_samples=18; total time=   0.1s\n",
      "[CV] END ............................eps=4.6, min_samples=19; total time=   0.2s\n",
      "[CV] END ............................eps=4.6, min_samples=19; total time=   0.1s\n",
      "[CV] END ............................eps=4.6, min_samples=19; total time=   0.1s\n",
      "[CV] END ............................eps=4.6, min_samples=20; total time=   0.2s\n",
      "[CV] END ............................eps=4.6, min_samples=20; total time=   0.1s\n",
      "[CV] END ............................eps=4.6, min_samples=20; total time=   0.1s\n",
      "[CV] END ............................eps=4.6, min_samples=21; total time=   0.2s\n",
      "[CV] END ............................eps=4.6, min_samples=21; total time=   0.1s\n",
      "[CV] END ............................eps=4.6, min_samples=21; total time=   0.1s\n",
      "[CV] END ............................eps=4.7, min_samples=16; total time=   0.2s\n",
      "[CV] END ............................eps=4.7, min_samples=16; total time=   0.1s\n",
      "[CV] END ............................eps=4.7, min_samples=16; total time=   0.1s\n",
      "[CV] END ............................eps=4.7, min_samples=16; total time=   0.2s\n",
      "[CV] END ............................eps=4.7, min_samples=16; total time=   0.1s\n",
      "[CV] END ............................eps=4.7, min_samples=16; total time=   0.1s\n",
      "[CV] END ............................eps=4.7, min_samples=18; total time=   0.2s\n",
      "[CV] END ............................eps=4.7, min_samples=18; total time=   0.1s\n",
      "[CV] END ............................eps=4.7, min_samples=18; total time=   0.1s\n",
      "[CV] END ............................eps=4.7, min_samples=19; total time=   0.2s\n",
      "[CV] END ............................eps=4.7, min_samples=19; total time=   0.1s\n",
      "[CV] END ............................eps=4.7, min_samples=19; total time=   0.1s\n",
      "[CV] END ............................eps=4.7, min_samples=20; total time=   0.2s\n",
      "[CV] END ............................eps=4.7, min_samples=20; total time=   0.1s\n",
      "[CV] END ............................eps=4.7, min_samples=20; total time=   0.1s\n",
      "[CV] END ............................eps=4.7, min_samples=21; total time=   0.2s\n",
      "[CV] END ............................eps=4.7, min_samples=21; total time=   0.1s\n",
      "[CV] END ............................eps=4.7, min_samples=21; total time=   0.1s\n",
      "[CV] END ............................eps=4.8, min_samples=16; total time=   0.2s\n",
      "[CV] END ............................eps=4.8, min_samples=16; total time=   0.1s\n",
      "[CV] END ............................eps=4.8, min_samples=16; total time=   0.1s\n",
      "[CV] END ............................eps=4.8, min_samples=16; total time=   0.2s\n",
      "[CV] END ............................eps=4.8, min_samples=16; total time=   0.1s\n",
      "[CV] END ............................eps=4.8, min_samples=16; total time=   0.1s\n",
      "[CV] END ............................eps=4.8, min_samples=18; total time=   0.2s\n",
      "[CV] END ............................eps=4.8, min_samples=18; total time=   0.1s\n",
      "[CV] END ............................eps=4.8, min_samples=18; total time=   0.1s\n",
      "[CV] END ............................eps=4.8, min_samples=19; total time=   0.2s\n",
      "[CV] END ............................eps=4.8, min_samples=19; total time=   0.1s\n",
      "[CV] END ............................eps=4.8, min_samples=19; total time=   0.1s\n",
      "[CV] END ............................eps=4.8, min_samples=20; total time=   0.2s\n",
      "[CV] END ............................eps=4.8, min_samples=20; total time=   0.1s\n",
      "[CV] END ............................eps=4.8, min_samples=20; total time=   0.1s\n",
      "[CV] END ............................eps=4.8, min_samples=21; total time=   0.2s\n",
      "[CV] END ............................eps=4.8, min_samples=21; total time=   0.1s\n",
      "[CV] END ............................eps=4.8, min_samples=21; total time=   0.1s\n",
      "[CV] END ............................eps=4.9, min_samples=16; total time=   0.2s\n",
      "[CV] END ............................eps=4.9, min_samples=16; total time=   0.1s\n",
      "[CV] END ............................eps=4.9, min_samples=16; total time=   0.1s\n",
      "[CV] END ............................eps=4.9, min_samples=16; total time=   0.2s\n",
      "[CV] END ............................eps=4.9, min_samples=16; total time=   0.1s\n",
      "[CV] END ............................eps=4.9, min_samples=16; total time=   0.1s\n",
      "[CV] END ............................eps=4.9, min_samples=18; total time=   0.2s\n",
      "[CV] END ............................eps=4.9, min_samples=18; total time=   0.1s\n",
      "[CV] END ............................eps=4.9, min_samples=18; total time=   0.1s\n",
      "[CV] END ............................eps=4.9, min_samples=19; total time=   0.2s\n",
      "[CV] END ............................eps=4.9, min_samples=19; total time=   0.1s\n",
      "[CV] END ............................eps=4.9, min_samples=19; total time=   0.1s\n",
      "[CV] END ............................eps=4.9, min_samples=20; total time=   0.2s\n",
      "[CV] END ............................eps=4.9, min_samples=20; total time=   0.1s\n",
      "[CV] END ............................eps=4.9, min_samples=20; total time=   0.1s\n",
      "[CV] END ............................eps=4.9, min_samples=21; total time=   0.2s\n",
      "[CV] END ............................eps=4.9, min_samples=21; total time=   0.1s\n",
      "[CV] END ............................eps=4.9, min_samples=21; total time=   0.1s\n"
     ]
    },
    {
     "data": {
      "text/html": [
       "<style>#sk-container-id-5 {color: black;background-color: white;}#sk-container-id-5 pre{padding: 0;}#sk-container-id-5 div.sk-toggleable {background-color: white;}#sk-container-id-5 label.sk-toggleable__label {cursor: pointer;display: block;width: 100%;margin-bottom: 0;padding: 0.3em;box-sizing: border-box;text-align: center;}#sk-container-id-5 label.sk-toggleable__label-arrow:before {content: \"▸\";float: left;margin-right: 0.25em;color: #696969;}#sk-container-id-5 label.sk-toggleable__label-arrow:hover:before {color: black;}#sk-container-id-5 div.sk-estimator:hover label.sk-toggleable__label-arrow:before {color: black;}#sk-container-id-5 div.sk-toggleable__content {max-height: 0;max-width: 0;overflow: hidden;text-align: left;background-color: #f0f8ff;}#sk-container-id-5 div.sk-toggleable__content pre {margin: 0.2em;color: black;border-radius: 0.25em;background-color: #f0f8ff;}#sk-container-id-5 input.sk-toggleable__control:checked~div.sk-toggleable__content {max-height: 200px;max-width: 100%;overflow: auto;}#sk-container-id-5 input.sk-toggleable__control:checked~label.sk-toggleable__label-arrow:before {content: \"▾\";}#sk-container-id-5 div.sk-estimator input.sk-toggleable__control:checked~label.sk-toggleable__label {background-color: #d4ebff;}#sk-container-id-5 div.sk-label input.sk-toggleable__control:checked~label.sk-toggleable__label {background-color: #d4ebff;}#sk-container-id-5 input.sk-hidden--visually {border: 0;clip: rect(1px 1px 1px 1px);clip: rect(1px, 1px, 1px, 1px);height: 1px;margin: -1px;overflow: hidden;padding: 0;position: absolute;width: 1px;}#sk-container-id-5 div.sk-estimator {font-family: monospace;background-color: #f0f8ff;border: 1px dotted black;border-radius: 0.25em;box-sizing: border-box;margin-bottom: 0.5em;}#sk-container-id-5 div.sk-estimator:hover {background-color: #d4ebff;}#sk-container-id-5 div.sk-parallel-item::after {content: \"\";width: 100%;border-bottom: 1px solid gray;flex-grow: 1;}#sk-container-id-5 div.sk-label:hover label.sk-toggleable__label {background-color: #d4ebff;}#sk-container-id-5 div.sk-serial::before {content: \"\";position: absolute;border-left: 1px solid gray;box-sizing: border-box;top: 0;bottom: 0;left: 50%;z-index: 0;}#sk-container-id-5 div.sk-serial {display: flex;flex-direction: column;align-items: center;background-color: white;padding-right: 0.2em;padding-left: 0.2em;position: relative;}#sk-container-id-5 div.sk-item {position: relative;z-index: 1;}#sk-container-id-5 div.sk-parallel {display: flex;align-items: stretch;justify-content: center;background-color: white;position: relative;}#sk-container-id-5 div.sk-item::before, #sk-container-id-5 div.sk-parallel-item::before {content: \"\";position: absolute;border-left: 1px solid gray;box-sizing: border-box;top: 0;bottom: 0;left: 50%;z-index: -1;}#sk-container-id-5 div.sk-parallel-item {display: flex;flex-direction: column;z-index: 1;position: relative;background-color: white;}#sk-container-id-5 div.sk-parallel-item:first-child::after {align-self: flex-end;width: 50%;}#sk-container-id-5 div.sk-parallel-item:last-child::after {align-self: flex-start;width: 50%;}#sk-container-id-5 div.sk-parallel-item:only-child::after {width: 0;}#sk-container-id-5 div.sk-dashed-wrapped {border: 1px dashed gray;margin: 0 0.4em 0.5em 0.4em;box-sizing: border-box;padding-bottom: 0.4em;background-color: white;}#sk-container-id-5 div.sk-label label {font-family: monospace;font-weight: bold;display: inline-block;line-height: 1.2em;}#sk-container-id-5 div.sk-label-container {text-align: center;}#sk-container-id-5 div.sk-container {/* jupyter's `normalize.less` sets `[hidden] { display: none; }` but bootstrap.min.css set `[hidden] { display: none !important; }` so we also need the `!important` here to be able to override the default hidden behavior on the sphinx rendered scikit-learn.org. See: https://github.com/scikit-learn/scikit-learn/issues/21755 */display: inline-block !important;position: relative;}#sk-container-id-5 div.sk-text-repr-fallback {display: none;}</style><div id=\"sk-container-id-5\" class=\"sk-top-container\"><div class=\"sk-text-repr-fallback\"><pre>GridSearchCV(cv=3, estimator=DBSCAN(),\n",
       "             param_grid={&#x27;eps&#x27;: [4.2, 4.3, 4.4, 4.5, 4.6, 4.7, 4.8, 4.9],\n",
       "                         &#x27;min_samples&#x27;: [16, 16, 18, 19, 20, 21]},\n",
       "             scoring=&#x27;fowlkes_mallows_score&#x27;, verbose=2)</pre><b>In a Jupyter environment, please rerun this cell to show the HTML representation or trust the notebook. <br />On GitHub, the HTML representation is unable to render, please try loading this page with nbviewer.org.</b></div><div class=\"sk-container\" hidden><div class=\"sk-item sk-dashed-wrapped\"><div class=\"sk-label-container\"><div class=\"sk-label sk-toggleable\"><input class=\"sk-toggleable__control sk-hidden--visually\" id=\"sk-estimator-id-13\" type=\"checkbox\" ><label for=\"sk-estimator-id-13\" class=\"sk-toggleable__label sk-toggleable__label-arrow\">GridSearchCV</label><div class=\"sk-toggleable__content\"><pre>GridSearchCV(cv=3, estimator=DBSCAN(),\n",
       "             param_grid={&#x27;eps&#x27;: [4.2, 4.3, 4.4, 4.5, 4.6, 4.7, 4.8, 4.9],\n",
       "                         &#x27;min_samples&#x27;: [16, 16, 18, 19, 20, 21]},\n",
       "             scoring=&#x27;fowlkes_mallows_score&#x27;, verbose=2)</pre></div></div></div><div class=\"sk-parallel\"><div class=\"sk-parallel-item\"><div class=\"sk-item\"><div class=\"sk-label-container\"><div class=\"sk-label sk-toggleable\"><input class=\"sk-toggleable__control sk-hidden--visually\" id=\"sk-estimator-id-14\" type=\"checkbox\" ><label for=\"sk-estimator-id-14\" class=\"sk-toggleable__label sk-toggleable__label-arrow\">estimator: DBSCAN</label><div class=\"sk-toggleable__content\"><pre>DBSCAN()</pre></div></div></div><div class=\"sk-serial\"><div class=\"sk-item\"><div class=\"sk-estimator sk-toggleable\"><input class=\"sk-toggleable__control sk-hidden--visually\" id=\"sk-estimator-id-15\" type=\"checkbox\" ><label for=\"sk-estimator-id-15\" class=\"sk-toggleable__label sk-toggleable__label-arrow\">DBSCAN</label><div class=\"sk-toggleable__content\"><pre>DBSCAN()</pre></div></div></div></div></div></div></div></div></div></div>"
      ],
      "text/plain": [
       "GridSearchCV(cv=3, estimator=DBSCAN(),\n",
       "             param_grid={'eps': [4.2, 4.3, 4.4, 4.5, 4.6, 4.7, 4.8, 4.9],\n",
       "                         'min_samples': [16, 16, 18, 19, 20, 21]},\n",
       "             scoring='fowlkes_mallows_score', verbose=2)"
      ]
     },
     "execution_count": 68,
     "metadata": {},
     "output_type": "execute_result"
    }
   ],
   "source": [
    "grid_db.fit(data_std)"
   ]
  },
  {
   "cell_type": "code",
   "execution_count": 69,
   "id": "23ab4658",
   "metadata": {},
   "outputs": [
    {
     "data": {
      "text/plain": [
       "{'eps': 4.2, 'min_samples': 16}"
      ]
     },
     "execution_count": 69,
     "metadata": {},
     "output_type": "execute_result"
    }
   ],
   "source": [
    "grid_db.best_params_"
   ]
  },
  {
   "cell_type": "code",
   "execution_count": 70,
   "id": "ac18fe53",
   "metadata": {},
   "outputs": [
    {
     "name": "stdout",
     "output_type": "stream",
     "text": [
      "Fitting 3 folds for each of 48 candidates, totalling 144 fits\n",
      "[CV] END ............................eps=4.2, min_samples=16; total time=   0.1s\n",
      "[CV] END ............................eps=4.2, min_samples=16; total time=   0.1s\n",
      "[CV] END ............................eps=4.2, min_samples=16; total time=   0.1s\n",
      "[CV] END ............................eps=4.2, min_samples=16; total time=   0.1s\n",
      "[CV] END ............................eps=4.2, min_samples=16; total time=   0.1s\n",
      "[CV] END ............................eps=4.2, min_samples=16; total time=   0.1s\n",
      "[CV] END ............................eps=4.2, min_samples=18; total time=   0.1s\n",
      "[CV] END ............................eps=4.2, min_samples=18; total time=   0.1s\n",
      "[CV] END ............................eps=4.2, min_samples=18; total time=   0.1s\n",
      "[CV] END ............................eps=4.2, min_samples=19; total time=   0.1s\n",
      "[CV] END ............................eps=4.2, min_samples=19; total time=   0.1s\n",
      "[CV] END ............................eps=4.2, min_samples=19; total time=   0.1s\n",
      "[CV] END ............................eps=4.2, min_samples=20; total time=   0.1s\n",
      "[CV] END ............................eps=4.2, min_samples=20; total time=   0.1s\n",
      "[CV] END ............................eps=4.2, min_samples=20; total time=   0.1s\n",
      "[CV] END ............................eps=4.2, min_samples=21; total time=   0.1s\n",
      "[CV] END ............................eps=4.2, min_samples=21; total time=   0.1s\n",
      "[CV] END ............................eps=4.2, min_samples=21; total time=   0.1s\n",
      "[CV] END ............................eps=4.3, min_samples=16; total time=   0.1s\n",
      "[CV] END ............................eps=4.3, min_samples=16; total time=   0.1s\n",
      "[CV] END ............................eps=4.3, min_samples=16; total time=   0.1s\n",
      "[CV] END ............................eps=4.3, min_samples=16; total time=   0.1s\n",
      "[CV] END ............................eps=4.3, min_samples=16; total time=   0.1s\n",
      "[CV] END ............................eps=4.3, min_samples=16; total time=   0.1s\n",
      "[CV] END ............................eps=4.3, min_samples=18; total time=   0.1s\n",
      "[CV] END ............................eps=4.3, min_samples=18; total time=   0.1s\n",
      "[CV] END ............................eps=4.3, min_samples=18; total time=   0.1s\n",
      "[CV] END ............................eps=4.3, min_samples=19; total time=   0.1s\n",
      "[CV] END ............................eps=4.3, min_samples=19; total time=   0.1s\n",
      "[CV] END ............................eps=4.3, min_samples=19; total time=   0.1s\n",
      "[CV] END ............................eps=4.3, min_samples=20; total time=   0.1s\n",
      "[CV] END ............................eps=4.3, min_samples=20; total time=   0.1s\n",
      "[CV] END ............................eps=4.3, min_samples=20; total time=   0.1s\n",
      "[CV] END ............................eps=4.3, min_samples=21; total time=   0.1s\n",
      "[CV] END ............................eps=4.3, min_samples=21; total time=   0.1s\n",
      "[CV] END ............................eps=4.3, min_samples=21; total time=   0.1s\n",
      "[CV] END ............................eps=4.4, min_samples=16; total time=   0.1s\n",
      "[CV] END ............................eps=4.4, min_samples=16; total time=   0.1s\n",
      "[CV] END ............................eps=4.4, min_samples=16; total time=   0.1s\n",
      "[CV] END ............................eps=4.4, min_samples=16; total time=   0.1s\n",
      "[CV] END ............................eps=4.4, min_samples=16; total time=   0.1s\n",
      "[CV] END ............................eps=4.4, min_samples=16; total time=   0.1s\n",
      "[CV] END ............................eps=4.4, min_samples=18; total time=   0.1s\n",
      "[CV] END ............................eps=4.4, min_samples=18; total time=   0.1s\n",
      "[CV] END ............................eps=4.4, min_samples=18; total time=   0.1s\n",
      "[CV] END ............................eps=4.4, min_samples=19; total time=   0.1s\n",
      "[CV] END ............................eps=4.4, min_samples=19; total time=   0.1s\n",
      "[CV] END ............................eps=4.4, min_samples=19; total time=   0.1s\n",
      "[CV] END ............................eps=4.4, min_samples=20; total time=   0.1s\n",
      "[CV] END ............................eps=4.4, min_samples=20; total time=   0.1s\n",
      "[CV] END ............................eps=4.4, min_samples=20; total time=   0.1s\n",
      "[CV] END ............................eps=4.4, min_samples=21; total time=   0.1s\n",
      "[CV] END ............................eps=4.4, min_samples=21; total time=   0.1s\n",
      "[CV] END ............................eps=4.4, min_samples=21; total time=   0.1s\n",
      "[CV] END ............................eps=4.5, min_samples=16; total time=   0.1s\n",
      "[CV] END ............................eps=4.5, min_samples=16; total time=   0.1s\n",
      "[CV] END ............................eps=4.5, min_samples=16; total time=   0.1s\n",
      "[CV] END ............................eps=4.5, min_samples=16; total time=   0.1s\n",
      "[CV] END ............................eps=4.5, min_samples=16; total time=   0.1s\n",
      "[CV] END ............................eps=4.5, min_samples=16; total time=   0.1s\n",
      "[CV] END ............................eps=4.5, min_samples=18; total time=   0.1s\n",
      "[CV] END ............................eps=4.5, min_samples=18; total time=   0.1s\n",
      "[CV] END ............................eps=4.5, min_samples=18; total time=   0.1s\n",
      "[CV] END ............................eps=4.5, min_samples=19; total time=   0.1s\n",
      "[CV] END ............................eps=4.5, min_samples=19; total time=   0.1s\n",
      "[CV] END ............................eps=4.5, min_samples=19; total time=   0.1s\n",
      "[CV] END ............................eps=4.5, min_samples=20; total time=   0.1s\n",
      "[CV] END ............................eps=4.5, min_samples=20; total time=   0.1s\n",
      "[CV] END ............................eps=4.5, min_samples=20; total time=   0.1s\n",
      "[CV] END ............................eps=4.5, min_samples=21; total time=   0.1s\n",
      "[CV] END ............................eps=4.5, min_samples=21; total time=   0.1s\n",
      "[CV] END ............................eps=4.5, min_samples=21; total time=   0.1s\n",
      "[CV] END ............................eps=4.6, min_samples=16; total time=   0.1s\n",
      "[CV] END ............................eps=4.6, min_samples=16; total time=   0.1s\n",
      "[CV] END ............................eps=4.6, min_samples=16; total time=   0.1s\n",
      "[CV] END ............................eps=4.6, min_samples=16; total time=   0.1s\n",
      "[CV] END ............................eps=4.6, min_samples=16; total time=   0.1s\n",
      "[CV] END ............................eps=4.6, min_samples=16; total time=   0.1s\n",
      "[CV] END ............................eps=4.6, min_samples=18; total time=   0.1s\n",
      "[CV] END ............................eps=4.6, min_samples=18; total time=   0.1s\n",
      "[CV] END ............................eps=4.6, min_samples=18; total time=   0.1s\n",
      "[CV] END ............................eps=4.6, min_samples=19; total time=   0.1s\n",
      "[CV] END ............................eps=4.6, min_samples=19; total time=   0.1s\n",
      "[CV] END ............................eps=4.6, min_samples=19; total time=   0.1s\n",
      "[CV] END ............................eps=4.6, min_samples=20; total time=   0.1s\n",
      "[CV] END ............................eps=4.6, min_samples=20; total time=   0.1s\n",
      "[CV] END ............................eps=4.6, min_samples=20; total time=   0.1s\n",
      "[CV] END ............................eps=4.6, min_samples=21; total time=   0.1s\n",
      "[CV] END ............................eps=4.6, min_samples=21; total time=   0.1s\n",
      "[CV] END ............................eps=4.6, min_samples=21; total time=   0.1s\n",
      "[CV] END ............................eps=4.7, min_samples=16; total time=   0.1s\n",
      "[CV] END ............................eps=4.7, min_samples=16; total time=   0.1s\n",
      "[CV] END ............................eps=4.7, min_samples=16; total time=   0.1s\n",
      "[CV] END ............................eps=4.7, min_samples=16; total time=   0.1s\n",
      "[CV] END ............................eps=4.7, min_samples=16; total time=   0.1s\n",
      "[CV] END ............................eps=4.7, min_samples=16; total time=   0.1s\n",
      "[CV] END ............................eps=4.7, min_samples=18; total time=   0.1s\n",
      "[CV] END ............................eps=4.7, min_samples=18; total time=   0.1s\n",
      "[CV] END ............................eps=4.7, min_samples=18; total time=   0.1s\n",
      "[CV] END ............................eps=4.7, min_samples=19; total time=   0.1s\n",
      "[CV] END ............................eps=4.7, min_samples=19; total time=   0.1s\n",
      "[CV] END ............................eps=4.7, min_samples=19; total time=   0.1s\n",
      "[CV] END ............................eps=4.7, min_samples=20; total time=   0.1s\n",
      "[CV] END ............................eps=4.7, min_samples=20; total time=   0.1s\n",
      "[CV] END ............................eps=4.7, min_samples=20; total time=   0.1s\n",
      "[CV] END ............................eps=4.7, min_samples=21; total time=   0.1s\n",
      "[CV] END ............................eps=4.7, min_samples=21; total time=   0.1s\n",
      "[CV] END ............................eps=4.7, min_samples=21; total time=   0.1s\n",
      "[CV] END ............................eps=4.8, min_samples=16; total time=   0.1s\n",
      "[CV] END ............................eps=4.8, min_samples=16; total time=   0.1s\n",
      "[CV] END ............................eps=4.8, min_samples=16; total time=   0.1s\n",
      "[CV] END ............................eps=4.8, min_samples=16; total time=   0.1s\n",
      "[CV] END ............................eps=4.8, min_samples=16; total time=   0.1s\n",
      "[CV] END ............................eps=4.8, min_samples=16; total time=   0.1s\n",
      "[CV] END ............................eps=4.8, min_samples=18; total time=   0.1s\n",
      "[CV] END ............................eps=4.8, min_samples=18; total time=   0.1s\n",
      "[CV] END ............................eps=4.8, min_samples=18; total time=   0.1s\n",
      "[CV] END ............................eps=4.8, min_samples=19; total time=   0.1s\n",
      "[CV] END ............................eps=4.8, min_samples=19; total time=   0.1s\n",
      "[CV] END ............................eps=4.8, min_samples=19; total time=   0.1s\n",
      "[CV] END ............................eps=4.8, min_samples=20; total time=   0.1s\n",
      "[CV] END ............................eps=4.8, min_samples=20; total time=   0.1s\n",
      "[CV] END ............................eps=4.8, min_samples=20; total time=   0.1s\n",
      "[CV] END ............................eps=4.8, min_samples=21; total time=   0.1s\n",
      "[CV] END ............................eps=4.8, min_samples=21; total time=   0.1s\n",
      "[CV] END ............................eps=4.8, min_samples=21; total time=   0.1s\n",
      "[CV] END ............................eps=4.9, min_samples=16; total time=   0.1s\n",
      "[CV] END ............................eps=4.9, min_samples=16; total time=   0.1s\n",
      "[CV] END ............................eps=4.9, min_samples=16; total time=   0.1s\n",
      "[CV] END ............................eps=4.9, min_samples=16; total time=   0.1s\n",
      "[CV] END ............................eps=4.9, min_samples=16; total time=   0.1s\n",
      "[CV] END ............................eps=4.9, min_samples=16; total time=   0.1s\n",
      "[CV] END ............................eps=4.9, min_samples=18; total time=   0.1s\n",
      "[CV] END ............................eps=4.9, min_samples=18; total time=   0.1s\n",
      "[CV] END ............................eps=4.9, min_samples=18; total time=   0.1s\n",
      "[CV] END ............................eps=4.9, min_samples=19; total time=   0.1s\n",
      "[CV] END ............................eps=4.9, min_samples=19; total time=   0.1s\n",
      "[CV] END ............................eps=4.9, min_samples=19; total time=   0.1s\n",
      "[CV] END ............................eps=4.9, min_samples=20; total time=   0.1s\n",
      "[CV] END ............................eps=4.9, min_samples=20; total time=   0.1s\n",
      "[CV] END ............................eps=4.9, min_samples=20; total time=   0.1s\n",
      "[CV] END ............................eps=4.9, min_samples=21; total time=   0.1s\n",
      "[CV] END ............................eps=4.9, min_samples=21; total time=   0.1s\n",
      "[CV] END ............................eps=4.9, min_samples=21; total time=   0.1s\n"
     ]
    },
    {
     "data": {
      "text/html": [
       "<style>#sk-container-id-6 {color: black;background-color: white;}#sk-container-id-6 pre{padding: 0;}#sk-container-id-6 div.sk-toggleable {background-color: white;}#sk-container-id-6 label.sk-toggleable__label {cursor: pointer;display: block;width: 100%;margin-bottom: 0;padding: 0.3em;box-sizing: border-box;text-align: center;}#sk-container-id-6 label.sk-toggleable__label-arrow:before {content: \"▸\";float: left;margin-right: 0.25em;color: #696969;}#sk-container-id-6 label.sk-toggleable__label-arrow:hover:before {color: black;}#sk-container-id-6 div.sk-estimator:hover label.sk-toggleable__label-arrow:before {color: black;}#sk-container-id-6 div.sk-toggleable__content {max-height: 0;max-width: 0;overflow: hidden;text-align: left;background-color: #f0f8ff;}#sk-container-id-6 div.sk-toggleable__content pre {margin: 0.2em;color: black;border-radius: 0.25em;background-color: #f0f8ff;}#sk-container-id-6 input.sk-toggleable__control:checked~div.sk-toggleable__content {max-height: 200px;max-width: 100%;overflow: auto;}#sk-container-id-6 input.sk-toggleable__control:checked~label.sk-toggleable__label-arrow:before {content: \"▾\";}#sk-container-id-6 div.sk-estimator input.sk-toggleable__control:checked~label.sk-toggleable__label {background-color: #d4ebff;}#sk-container-id-6 div.sk-label input.sk-toggleable__control:checked~label.sk-toggleable__label {background-color: #d4ebff;}#sk-container-id-6 input.sk-hidden--visually {border: 0;clip: rect(1px 1px 1px 1px);clip: rect(1px, 1px, 1px, 1px);height: 1px;margin: -1px;overflow: hidden;padding: 0;position: absolute;width: 1px;}#sk-container-id-6 div.sk-estimator {font-family: monospace;background-color: #f0f8ff;border: 1px dotted black;border-radius: 0.25em;box-sizing: border-box;margin-bottom: 0.5em;}#sk-container-id-6 div.sk-estimator:hover {background-color: #d4ebff;}#sk-container-id-6 div.sk-parallel-item::after {content: \"\";width: 100%;border-bottom: 1px solid gray;flex-grow: 1;}#sk-container-id-6 div.sk-label:hover label.sk-toggleable__label {background-color: #d4ebff;}#sk-container-id-6 div.sk-serial::before {content: \"\";position: absolute;border-left: 1px solid gray;box-sizing: border-box;top: 0;bottom: 0;left: 50%;z-index: 0;}#sk-container-id-6 div.sk-serial {display: flex;flex-direction: column;align-items: center;background-color: white;padding-right: 0.2em;padding-left: 0.2em;position: relative;}#sk-container-id-6 div.sk-item {position: relative;z-index: 1;}#sk-container-id-6 div.sk-parallel {display: flex;align-items: stretch;justify-content: center;background-color: white;position: relative;}#sk-container-id-6 div.sk-item::before, #sk-container-id-6 div.sk-parallel-item::before {content: \"\";position: absolute;border-left: 1px solid gray;box-sizing: border-box;top: 0;bottom: 0;left: 50%;z-index: -1;}#sk-container-id-6 div.sk-parallel-item {display: flex;flex-direction: column;z-index: 1;position: relative;background-color: white;}#sk-container-id-6 div.sk-parallel-item:first-child::after {align-self: flex-end;width: 50%;}#sk-container-id-6 div.sk-parallel-item:last-child::after {align-self: flex-start;width: 50%;}#sk-container-id-6 div.sk-parallel-item:only-child::after {width: 0;}#sk-container-id-6 div.sk-dashed-wrapped {border: 1px dashed gray;margin: 0 0.4em 0.5em 0.4em;box-sizing: border-box;padding-bottom: 0.4em;background-color: white;}#sk-container-id-6 div.sk-label label {font-family: monospace;font-weight: bold;display: inline-block;line-height: 1.2em;}#sk-container-id-6 div.sk-label-container {text-align: center;}#sk-container-id-6 div.sk-container {/* jupyter's `normalize.less` sets `[hidden] { display: none; }` but bootstrap.min.css set `[hidden] { display: none !important; }` so we also need the `!important` here to be able to override the default hidden behavior on the sphinx rendered scikit-learn.org. See: https://github.com/scikit-learn/scikit-learn/issues/21755 */display: inline-block !important;position: relative;}#sk-container-id-6 div.sk-text-repr-fallback {display: none;}</style><div id=\"sk-container-id-6\" class=\"sk-top-container\"><div class=\"sk-text-repr-fallback\"><pre>GridSearchCV(cv=3, estimator=DBSCAN(),\n",
       "             param_grid={&#x27;eps&#x27;: [4.2, 4.3, 4.4, 4.5, 4.6, 4.7, 4.8, 4.9],\n",
       "                         &#x27;min_samples&#x27;: [16, 16, 18, 19, 20, 21]},\n",
       "             scoring=&#x27;fowlkes_mallows_score&#x27;, verbose=2)</pre><b>In a Jupyter environment, please rerun this cell to show the HTML representation or trust the notebook. <br />On GitHub, the HTML representation is unable to render, please try loading this page with nbviewer.org.</b></div><div class=\"sk-container\" hidden><div class=\"sk-item sk-dashed-wrapped\"><div class=\"sk-label-container\"><div class=\"sk-label sk-toggleable\"><input class=\"sk-toggleable__control sk-hidden--visually\" id=\"sk-estimator-id-16\" type=\"checkbox\" ><label for=\"sk-estimator-id-16\" class=\"sk-toggleable__label sk-toggleable__label-arrow\">GridSearchCV</label><div class=\"sk-toggleable__content\"><pre>GridSearchCV(cv=3, estimator=DBSCAN(),\n",
       "             param_grid={&#x27;eps&#x27;: [4.2, 4.3, 4.4, 4.5, 4.6, 4.7, 4.8, 4.9],\n",
       "                         &#x27;min_samples&#x27;: [16, 16, 18, 19, 20, 21]},\n",
       "             scoring=&#x27;fowlkes_mallows_score&#x27;, verbose=2)</pre></div></div></div><div class=\"sk-parallel\"><div class=\"sk-parallel-item\"><div class=\"sk-item\"><div class=\"sk-label-container\"><div class=\"sk-label sk-toggleable\"><input class=\"sk-toggleable__control sk-hidden--visually\" id=\"sk-estimator-id-17\" type=\"checkbox\" ><label for=\"sk-estimator-id-17\" class=\"sk-toggleable__label sk-toggleable__label-arrow\">estimator: DBSCAN</label><div class=\"sk-toggleable__content\"><pre>DBSCAN()</pre></div></div></div><div class=\"sk-serial\"><div class=\"sk-item\"><div class=\"sk-estimator sk-toggleable\"><input class=\"sk-toggleable__control sk-hidden--visually\" id=\"sk-estimator-id-18\" type=\"checkbox\" ><label for=\"sk-estimator-id-18\" class=\"sk-toggleable__label sk-toggleable__label-arrow\">DBSCAN</label><div class=\"sk-toggleable__content\"><pre>DBSCAN()</pre></div></div></div></div></div></div></div></div></div></div>"
      ],
      "text/plain": [
       "GridSearchCV(cv=3, estimator=DBSCAN(),\n",
       "             param_grid={'eps': [4.2, 4.3, 4.4, 4.5, 4.6, 4.7, 4.8, 4.9],\n",
       "                         'min_samples': [16, 16, 18, 19, 20, 21]},\n",
       "             scoring='fowlkes_mallows_score', verbose=2)"
      ]
     },
     "execution_count": 70,
     "metadata": {},
     "output_type": "execute_result"
    }
   ],
   "source": [
    "grid_db.fit(data_minmax)"
   ]
  },
  {
   "cell_type": "code",
   "execution_count": 71,
   "id": "e0bd4e7c",
   "metadata": {},
   "outputs": [
    {
     "data": {
      "text/plain": [
       "{'eps': 4.2, 'min_samples': 16}"
      ]
     },
     "execution_count": 71,
     "metadata": {},
     "output_type": "execute_result"
    }
   ],
   "source": [
    "grid_db.best_params_"
   ]
  },
  {
   "cell_type": "markdown",
   "id": "619def88",
   "metadata": {},
   "source": [
    "**Fit the model with best parameters**"
   ]
  },
  {
   "cell_type": "code",
   "execution_count": 72,
   "id": "03791244",
   "metadata": {},
   "outputs": [],
   "source": [
    "db=DBSCAN(eps=0.085,min_samples=9)"
   ]
  },
  {
   "cell_type": "code",
   "execution_count": 73,
   "id": "cfeefb93",
   "metadata": {},
   "outputs": [
    {
     "data": {
      "text/html": [
       "<style>#sk-container-id-7 {color: black;background-color: white;}#sk-container-id-7 pre{padding: 0;}#sk-container-id-7 div.sk-toggleable {background-color: white;}#sk-container-id-7 label.sk-toggleable__label {cursor: pointer;display: block;width: 100%;margin-bottom: 0;padding: 0.3em;box-sizing: border-box;text-align: center;}#sk-container-id-7 label.sk-toggleable__label-arrow:before {content: \"▸\";float: left;margin-right: 0.25em;color: #696969;}#sk-container-id-7 label.sk-toggleable__label-arrow:hover:before {color: black;}#sk-container-id-7 div.sk-estimator:hover label.sk-toggleable__label-arrow:before {color: black;}#sk-container-id-7 div.sk-toggleable__content {max-height: 0;max-width: 0;overflow: hidden;text-align: left;background-color: #f0f8ff;}#sk-container-id-7 div.sk-toggleable__content pre {margin: 0.2em;color: black;border-radius: 0.25em;background-color: #f0f8ff;}#sk-container-id-7 input.sk-toggleable__control:checked~div.sk-toggleable__content {max-height: 200px;max-width: 100%;overflow: auto;}#sk-container-id-7 input.sk-toggleable__control:checked~label.sk-toggleable__label-arrow:before {content: \"▾\";}#sk-container-id-7 div.sk-estimator input.sk-toggleable__control:checked~label.sk-toggleable__label {background-color: #d4ebff;}#sk-container-id-7 div.sk-label input.sk-toggleable__control:checked~label.sk-toggleable__label {background-color: #d4ebff;}#sk-container-id-7 input.sk-hidden--visually {border: 0;clip: rect(1px 1px 1px 1px);clip: rect(1px, 1px, 1px, 1px);height: 1px;margin: -1px;overflow: hidden;padding: 0;position: absolute;width: 1px;}#sk-container-id-7 div.sk-estimator {font-family: monospace;background-color: #f0f8ff;border: 1px dotted black;border-radius: 0.25em;box-sizing: border-box;margin-bottom: 0.5em;}#sk-container-id-7 div.sk-estimator:hover {background-color: #d4ebff;}#sk-container-id-7 div.sk-parallel-item::after {content: \"\";width: 100%;border-bottom: 1px solid gray;flex-grow: 1;}#sk-container-id-7 div.sk-label:hover label.sk-toggleable__label {background-color: #d4ebff;}#sk-container-id-7 div.sk-serial::before {content: \"\";position: absolute;border-left: 1px solid gray;box-sizing: border-box;top: 0;bottom: 0;left: 50%;z-index: 0;}#sk-container-id-7 div.sk-serial {display: flex;flex-direction: column;align-items: center;background-color: white;padding-right: 0.2em;padding-left: 0.2em;position: relative;}#sk-container-id-7 div.sk-item {position: relative;z-index: 1;}#sk-container-id-7 div.sk-parallel {display: flex;align-items: stretch;justify-content: center;background-color: white;position: relative;}#sk-container-id-7 div.sk-item::before, #sk-container-id-7 div.sk-parallel-item::before {content: \"\";position: absolute;border-left: 1px solid gray;box-sizing: border-box;top: 0;bottom: 0;left: 50%;z-index: -1;}#sk-container-id-7 div.sk-parallel-item {display: flex;flex-direction: column;z-index: 1;position: relative;background-color: white;}#sk-container-id-7 div.sk-parallel-item:first-child::after {align-self: flex-end;width: 50%;}#sk-container-id-7 div.sk-parallel-item:last-child::after {align-self: flex-start;width: 50%;}#sk-container-id-7 div.sk-parallel-item:only-child::after {width: 0;}#sk-container-id-7 div.sk-dashed-wrapped {border: 1px dashed gray;margin: 0 0.4em 0.5em 0.4em;box-sizing: border-box;padding-bottom: 0.4em;background-color: white;}#sk-container-id-7 div.sk-label label {font-family: monospace;font-weight: bold;display: inline-block;line-height: 1.2em;}#sk-container-id-7 div.sk-label-container {text-align: center;}#sk-container-id-7 div.sk-container {/* jupyter's `normalize.less` sets `[hidden] { display: none; }` but bootstrap.min.css set `[hidden] { display: none !important; }` so we also need the `!important` here to be able to override the default hidden behavior on the sphinx rendered scikit-learn.org. See: https://github.com/scikit-learn/scikit-learn/issues/21755 */display: inline-block !important;position: relative;}#sk-container-id-7 div.sk-text-repr-fallback {display: none;}</style><div id=\"sk-container-id-7\" class=\"sk-top-container\"><div class=\"sk-text-repr-fallback\"><pre>DBSCAN(eps=0.085, min_samples=9)</pre><b>In a Jupyter environment, please rerun this cell to show the HTML representation or trust the notebook. <br />On GitHub, the HTML representation is unable to render, please try loading this page with nbviewer.org.</b></div><div class=\"sk-container\" hidden><div class=\"sk-item\"><div class=\"sk-estimator sk-toggleable\"><input class=\"sk-toggleable__control sk-hidden--visually\" id=\"sk-estimator-id-19\" type=\"checkbox\" checked><label for=\"sk-estimator-id-19\" class=\"sk-toggleable__label sk-toggleable__label-arrow\">DBSCAN</label><div class=\"sk-toggleable__content\"><pre>DBSCAN(eps=0.085, min_samples=9)</pre></div></div></div></div></div>"
      ],
      "text/plain": [
       "DBSCAN(eps=0.085, min_samples=9)"
      ]
     },
     "execution_count": 73,
     "metadata": {},
     "output_type": "execute_result"
    }
   ],
   "source": [
    "db.fit(data_std)"
   ]
  },
  {
   "cell_type": "code",
   "execution_count": 74,
   "id": "41974211",
   "metadata": {},
   "outputs": [
    {
     "data": {
      "text/plain": [
       "{-1, 0, 1, 2, 3}"
      ]
     },
     "execution_count": 74,
     "metadata": {},
     "output_type": "execute_result"
    }
   ],
   "source": [
    "set(db.labels_)"
   ]
  },
  {
   "cell_type": "code",
   "execution_count": 75,
   "id": "3adba2fe",
   "metadata": {},
   "outputs": [
    {
     "data": {
      "text/plain": [
       "-0.19595881465783263"
      ]
     },
     "execution_count": 75,
     "metadata": {},
     "output_type": "execute_result"
    }
   ],
   "source": [
    "silhouette_score(data_std,db.labels_)"
   ]
  },
  {
   "cell_type": "code",
   "execution_count": 76,
   "id": "33830305",
   "metadata": {},
   "outputs": [
    {
     "data": {
      "text/html": [
       "<style>#sk-container-id-8 {color: black;background-color: white;}#sk-container-id-8 pre{padding: 0;}#sk-container-id-8 div.sk-toggleable {background-color: white;}#sk-container-id-8 label.sk-toggleable__label {cursor: pointer;display: block;width: 100%;margin-bottom: 0;padding: 0.3em;box-sizing: border-box;text-align: center;}#sk-container-id-8 label.sk-toggleable__label-arrow:before {content: \"▸\";float: left;margin-right: 0.25em;color: #696969;}#sk-container-id-8 label.sk-toggleable__label-arrow:hover:before {color: black;}#sk-container-id-8 div.sk-estimator:hover label.sk-toggleable__label-arrow:before {color: black;}#sk-container-id-8 div.sk-toggleable__content {max-height: 0;max-width: 0;overflow: hidden;text-align: left;background-color: #f0f8ff;}#sk-container-id-8 div.sk-toggleable__content pre {margin: 0.2em;color: black;border-radius: 0.25em;background-color: #f0f8ff;}#sk-container-id-8 input.sk-toggleable__control:checked~div.sk-toggleable__content {max-height: 200px;max-width: 100%;overflow: auto;}#sk-container-id-8 input.sk-toggleable__control:checked~label.sk-toggleable__label-arrow:before {content: \"▾\";}#sk-container-id-8 div.sk-estimator input.sk-toggleable__control:checked~label.sk-toggleable__label {background-color: #d4ebff;}#sk-container-id-8 div.sk-label input.sk-toggleable__control:checked~label.sk-toggleable__label {background-color: #d4ebff;}#sk-container-id-8 input.sk-hidden--visually {border: 0;clip: rect(1px 1px 1px 1px);clip: rect(1px, 1px, 1px, 1px);height: 1px;margin: -1px;overflow: hidden;padding: 0;position: absolute;width: 1px;}#sk-container-id-8 div.sk-estimator {font-family: monospace;background-color: #f0f8ff;border: 1px dotted black;border-radius: 0.25em;box-sizing: border-box;margin-bottom: 0.5em;}#sk-container-id-8 div.sk-estimator:hover {background-color: #d4ebff;}#sk-container-id-8 div.sk-parallel-item::after {content: \"\";width: 100%;border-bottom: 1px solid gray;flex-grow: 1;}#sk-container-id-8 div.sk-label:hover label.sk-toggleable__label {background-color: #d4ebff;}#sk-container-id-8 div.sk-serial::before {content: \"\";position: absolute;border-left: 1px solid gray;box-sizing: border-box;top: 0;bottom: 0;left: 50%;z-index: 0;}#sk-container-id-8 div.sk-serial {display: flex;flex-direction: column;align-items: center;background-color: white;padding-right: 0.2em;padding-left: 0.2em;position: relative;}#sk-container-id-8 div.sk-item {position: relative;z-index: 1;}#sk-container-id-8 div.sk-parallel {display: flex;align-items: stretch;justify-content: center;background-color: white;position: relative;}#sk-container-id-8 div.sk-item::before, #sk-container-id-8 div.sk-parallel-item::before {content: \"\";position: absolute;border-left: 1px solid gray;box-sizing: border-box;top: 0;bottom: 0;left: 50%;z-index: -1;}#sk-container-id-8 div.sk-parallel-item {display: flex;flex-direction: column;z-index: 1;position: relative;background-color: white;}#sk-container-id-8 div.sk-parallel-item:first-child::after {align-self: flex-end;width: 50%;}#sk-container-id-8 div.sk-parallel-item:last-child::after {align-self: flex-start;width: 50%;}#sk-container-id-8 div.sk-parallel-item:only-child::after {width: 0;}#sk-container-id-8 div.sk-dashed-wrapped {border: 1px dashed gray;margin: 0 0.4em 0.5em 0.4em;box-sizing: border-box;padding-bottom: 0.4em;background-color: white;}#sk-container-id-8 div.sk-label label {font-family: monospace;font-weight: bold;display: inline-block;line-height: 1.2em;}#sk-container-id-8 div.sk-label-container {text-align: center;}#sk-container-id-8 div.sk-container {/* jupyter's `normalize.less` sets `[hidden] { display: none; }` but bootstrap.min.css set `[hidden] { display: none !important; }` so we also need the `!important` here to be able to override the default hidden behavior on the sphinx rendered scikit-learn.org. See: https://github.com/scikit-learn/scikit-learn/issues/21755 */display: inline-block !important;position: relative;}#sk-container-id-8 div.sk-text-repr-fallback {display: none;}</style><div id=\"sk-container-id-8\" class=\"sk-top-container\"><div class=\"sk-text-repr-fallback\"><pre>DBSCAN(eps=0.085, min_samples=16)</pre><b>In a Jupyter environment, please rerun this cell to show the HTML representation or trust the notebook. <br />On GitHub, the HTML representation is unable to render, please try loading this page with nbviewer.org.</b></div><div class=\"sk-container\" hidden><div class=\"sk-item\"><div class=\"sk-estimator sk-toggleable\"><input class=\"sk-toggleable__control sk-hidden--visually\" id=\"sk-estimator-id-20\" type=\"checkbox\" checked><label for=\"sk-estimator-id-20\" class=\"sk-toggleable__label sk-toggleable__label-arrow\">DBSCAN</label><div class=\"sk-toggleable__content\"><pre>DBSCAN(eps=0.085, min_samples=16)</pre></div></div></div></div></div>"
      ],
      "text/plain": [
       "DBSCAN(eps=0.085, min_samples=16)"
      ]
     },
     "execution_count": 76,
     "metadata": {},
     "output_type": "execute_result"
    }
   ],
   "source": [
    "db1=DBSCAN(eps=0.085,min_samples=16)\n",
    "db1.fit(data_minmax)\n"
   ]
  },
  {
   "cell_type": "code",
   "execution_count": 77,
   "id": "0bfefa6d",
   "metadata": {},
   "outputs": [
    {
     "data": {
      "text/plain": [
       "{-1, 0}"
      ]
     },
     "execution_count": 77,
     "metadata": {},
     "output_type": "execute_result"
    }
   ],
   "source": [
    "set(db1.labels_)"
   ]
  },
  {
   "cell_type": "markdown",
   "id": "a5bdeb7e",
   "metadata": {},
   "source": [
    "DB scan is not working great as its taking almost every point into a single cluster"
   ]
  },
  {
   "cell_type": "code",
   "execution_count": 78,
   "id": "ca4d3ad1",
   "metadata": {},
   "outputs": [],
   "source": [
    "neigh = NearestNeighbors(n_neighbors=2)\n",
    "nbrs = neigh.fit(data_std)\n",
    "distances, indices = nbrs.kneighbors(data_std)"
   ]
  },
  {
   "cell_type": "code",
   "execution_count": 79,
   "id": "96e5f7e9",
   "metadata": {},
   "outputs": [
    {
     "data": {
      "text/plain": [
       "(0.0, 0.2)"
      ]
     },
     "execution_count": 79,
     "metadata": {},
     "output_type": "execute_result"
    },
    {
     "data": {
      "image/png": "[encoded data removed]",
      "text/plain": [
       "<Figure size 864x720 with 1 Axes>"
      ]
     },
     "metadata": {
      "needs_background": "light"
     },
     "output_type": "display_data"
    }
   ],
   "source": [
    "plt.figure(figsize=(12,10))\n",
    "distances = np.sort(distances, axis=0)\n",
    "distances = distances[:,1]\n",
    "plt.plot(distances)\n",
    "plt.grid()\n",
    "plt.ylim(0,0.2)"
   ]
  },
  {
   "cell_type": "code",
   "execution_count": 80,
   "id": "8746dafd",
   "metadata": {},
   "outputs": [
    {
     "data": {
      "text/plain": [
       "array([1.11257052e-05, 1.11257052e-05, 5.05107017e-04, ...,\n",
       "       7.54566074e+00, 9.09221720e+00, 1.22588691e+01])"
      ]
     },
     "execution_count": 80,
     "metadata": {},
     "output_type": "execute_result"
    }
   ],
   "source": [
    "distances"
   ]
  },
  {
   "cell_type": "code",
   "execution_count": null,
   "id": "30b56f9d",
   "metadata": {},
   "outputs": [],
   "source": []
  }
 ],
 "metadata": {
  "kernelspec": {
   "display_name": "Python 3 (ipykernel)",
   "language": "python",
   "name": "python3"
  },
  "language_info": {
   "codemirror_mode": {
    "name": "ipython",
    "version": 3
   },
   "file_extension": ".py",
   "mimetype": "text/x-python",
   "name": "python",
   "nbconvert_exporter": "python",
   "pygments_lexer": "ipython3",
   "version": "3.8.8"
  }
 },
 "nbformat": 4,
 "nbformat_minor": 5
}
